{
 "cells": [
  {
   "cell_type": "code",
   "execution_count": 1,
   "id": "417c5ab2-e57a-4827-b610-86efe5deb879",
   "metadata": {
    "tags": []
   },
   "outputs": [],
   "source": [
    "from sqlalchemy import create_engine ,text\n",
    "from sqlalchemy.pool import StaticPool\n",
    "from engine import engine"
   ]
  },
  {
   "cell_type": "code",
   "execution_count": 2,
   "id": "e42ce293-2a93-468f-b353-d538f087e921",
   "metadata": {
    "tags": []
   },
   "outputs": [],
   "source": [
    "engine2 = create_engine('postgresql://username:password@db:5432/database', poolclass =StaticPool,isolation_level=\"AUTOCOMMIT\")"
   ]
  },
  {
   "cell_type": "code",
   "execution_count": 3,
   "id": "78b53fb8-0ed0-4270-9411-e544dafdb042",
   "metadata": {
    "tags": []
   },
   "outputs": [
    {
     "ename": "OperationalError",
     "evalue": "(psycopg2.OperationalError) could not translate host name \"db\" to address: Unknown host\n\n(Background on this error at: https://sqlalche.me/e/14/e3q8)",
     "output_type": "error",
     "traceback": [
      "\u001b[1;31m---------------------------------------------------------------------------\u001b[0m",
      "\u001b[1;31mOperationalError\u001b[0m                          Traceback (most recent call last)",
      "File \u001b[1;32mc:\\Users\\zubik\\AppData\\Local\\Programs\\Python\\Python310\\lib\\site-packages\\sqlalchemy\\engine\\base.py:3366\u001b[0m, in \u001b[0;36mEngine._wrap_pool_connect\u001b[1;34m(self, fn, connection)\u001b[0m\n\u001b[0;32m   3365\u001b[0m \u001b[39mtry\u001b[39;00m:\n\u001b[1;32m-> 3366\u001b[0m     \u001b[39mreturn\u001b[39;00m fn()\n\u001b[0;32m   3367\u001b[0m \u001b[39mexcept\u001b[39;00m dialect\u001b[39m.\u001b[39mdbapi\u001b[39m.\u001b[39mError \u001b[39mas\u001b[39;00m e:\n",
      "File \u001b[1;32mc:\\Users\\zubik\\AppData\\Local\\Programs\\Python\\Python310\\lib\\site-packages\\sqlalchemy\\pool\\base.py:327\u001b[0m, in \u001b[0;36mPool.connect\u001b[1;34m(self)\u001b[0m\n\u001b[0;32m    320\u001b[0m \u001b[39m\"\"\"Return a DBAPI connection from the pool.\u001b[39;00m\n\u001b[0;32m    321\u001b[0m \n\u001b[0;32m    322\u001b[0m \u001b[39mThe connection is instrumented such that when its\u001b[39;00m\n\u001b[1;32m   (...)\u001b[0m\n\u001b[0;32m    325\u001b[0m \n\u001b[0;32m    326\u001b[0m \u001b[39m\"\"\"\u001b[39;00m\n\u001b[1;32m--> 327\u001b[0m \u001b[39mreturn\u001b[39;00m _ConnectionFairy\u001b[39m.\u001b[39;49m_checkout(\u001b[39mself\u001b[39;49m)\n",
      "File \u001b[1;32mc:\\Users\\zubik\\AppData\\Local\\Programs\\Python\\Python310\\lib\\site-packages\\sqlalchemy\\pool\\base.py:894\u001b[0m, in \u001b[0;36m_ConnectionFairy._checkout\u001b[1;34m(cls, pool, threadconns, fairy)\u001b[0m\n\u001b[0;32m    893\u001b[0m \u001b[39mif\u001b[39;00m \u001b[39mnot\u001b[39;00m fairy:\n\u001b[1;32m--> 894\u001b[0m     fairy \u001b[39m=\u001b[39m _ConnectionRecord\u001b[39m.\u001b[39;49mcheckout(pool)\n\u001b[0;32m    896\u001b[0m     fairy\u001b[39m.\u001b[39m_pool \u001b[39m=\u001b[39m pool\n",
      "File \u001b[1;32mc:\\Users\\zubik\\AppData\\Local\\Programs\\Python\\Python310\\lib\\site-packages\\sqlalchemy\\pool\\base.py:493\u001b[0m, in \u001b[0;36m_ConnectionRecord.checkout\u001b[1;34m(cls, pool)\u001b[0m\n\u001b[0;32m    491\u001b[0m \u001b[39m@classmethod\u001b[39m\n\u001b[0;32m    492\u001b[0m \u001b[39mdef\u001b[39;00m \u001b[39mcheckout\u001b[39m(\u001b[39mcls\u001b[39m, pool):\n\u001b[1;32m--> 493\u001b[0m     rec \u001b[39m=\u001b[39m pool\u001b[39m.\u001b[39;49m_do_get()\n\u001b[0;32m    494\u001b[0m     \u001b[39mtry\u001b[39;00m:\n",
      "File \u001b[1;32mc:\\Users\\zubik\\AppData\\Local\\Programs\\Python\\Python310\\lib\\site-packages\\sqlalchemy\\pool\\impl.py:445\u001b[0m, in \u001b[0;36mStaticPool._do_get\u001b[1;34m(self)\u001b[0m\n\u001b[0;32m    444\u001b[0m \u001b[39mdef\u001b[39;00m \u001b[39m_do_get\u001b[39m(\u001b[39mself\u001b[39m):\n\u001b[1;32m--> 445\u001b[0m     rec \u001b[39m=\u001b[39m \u001b[39mself\u001b[39;49m\u001b[39m.\u001b[39;49mconnection\n\u001b[0;32m    446\u001b[0m     \u001b[39mif\u001b[39;00m rec\u001b[39m.\u001b[39m_is_hard_or_soft_invalidated():\n",
      "File \u001b[1;32mc:\\Users\\zubik\\AppData\\Local\\Programs\\Python\\Python310\\lib\\site-packages\\sqlalchemy\\util\\langhelpers.py:1113\u001b[0m, in \u001b[0;36mmemoized_property.__get__\u001b[1;34m(self, obj, cls)\u001b[0m\n\u001b[0;32m   1112\u001b[0m     \u001b[39mreturn\u001b[39;00m \u001b[39mself\u001b[39m\n\u001b[1;32m-> 1113\u001b[0m obj\u001b[39m.\u001b[39m\u001b[39m__dict__\u001b[39m[\u001b[39mself\u001b[39m\u001b[39m.\u001b[39m\u001b[39m__name__\u001b[39m] \u001b[39m=\u001b[39m result \u001b[39m=\u001b[39m \u001b[39mself\u001b[39;49m\u001b[39m.\u001b[39;49mfget(obj)\n\u001b[0;32m   1114\u001b[0m \u001b[39mreturn\u001b[39;00m result\n",
      "File \u001b[1;32mc:\\Users\\zubik\\AppData\\Local\\Programs\\Python\\Python310\\lib\\site-packages\\sqlalchemy\\pool\\impl.py:405\u001b[0m, in \u001b[0;36mStaticPool.connection\u001b[1;34m(self)\u001b[0m\n\u001b[0;32m    403\u001b[0m \u001b[39m@util\u001b[39m\u001b[39m.\u001b[39mmemoized_property\n\u001b[0;32m    404\u001b[0m \u001b[39mdef\u001b[39;00m \u001b[39mconnection\u001b[39m(\u001b[39mself\u001b[39m):\n\u001b[1;32m--> 405\u001b[0m     \u001b[39mreturn\u001b[39;00m _ConnectionRecord(\u001b[39mself\u001b[39;49m)\n",
      "File \u001b[1;32mc:\\Users\\zubik\\AppData\\Local\\Programs\\Python\\Python310\\lib\\site-packages\\sqlalchemy\\pool\\base.py:388\u001b[0m, in \u001b[0;36m_ConnectionRecord.__init__\u001b[1;34m(self, pool, connect)\u001b[0m\n\u001b[0;32m    387\u001b[0m \u001b[39mif\u001b[39;00m connect:\n\u001b[1;32m--> 388\u001b[0m     \u001b[39mself\u001b[39;49m\u001b[39m.\u001b[39;49m__connect()\n\u001b[0;32m    389\u001b[0m \u001b[39mself\u001b[39m\u001b[39m.\u001b[39mfinalize_callback \u001b[39m=\u001b[39m deque()\n",
      "File \u001b[1;32mc:\\Users\\zubik\\AppData\\Local\\Programs\\Python\\Python310\\lib\\site-packages\\sqlalchemy\\pool\\base.py:690\u001b[0m, in \u001b[0;36m_ConnectionRecord.__connect\u001b[1;34m(self)\u001b[0m\n\u001b[0;32m    689\u001b[0m \u001b[39mexcept\u001b[39;00m \u001b[39mBaseException\u001b[39;00m \u001b[39mas\u001b[39;00m e:\n\u001b[1;32m--> 690\u001b[0m     \u001b[39mwith\u001b[39;00m util\u001b[39m.\u001b[39msafe_reraise():\n\u001b[0;32m    691\u001b[0m         pool\u001b[39m.\u001b[39mlogger\u001b[39m.\u001b[39mdebug(\u001b[39m\"\u001b[39m\u001b[39mError on connect(): \u001b[39m\u001b[39m%s\u001b[39;00m\u001b[39m\"\u001b[39m, e)\n",
      "File \u001b[1;32mc:\\Users\\zubik\\AppData\\Local\\Programs\\Python\\Python310\\lib\\site-packages\\sqlalchemy\\util\\langhelpers.py:70\u001b[0m, in \u001b[0;36msafe_reraise.__exit__\u001b[1;34m(self, type_, value, traceback)\u001b[0m\n\u001b[0;32m     69\u001b[0m     \u001b[39mif\u001b[39;00m \u001b[39mnot\u001b[39;00m \u001b[39mself\u001b[39m\u001b[39m.\u001b[39mwarn_only:\n\u001b[1;32m---> 70\u001b[0m         compat\u001b[39m.\u001b[39;49mraise_(\n\u001b[0;32m     71\u001b[0m             exc_value,\n\u001b[0;32m     72\u001b[0m             with_traceback\u001b[39m=\u001b[39;49mexc_tb,\n\u001b[0;32m     73\u001b[0m         )\n\u001b[0;32m     74\u001b[0m \u001b[39melse\u001b[39;00m:\n",
      "File \u001b[1;32mc:\\Users\\zubik\\AppData\\Local\\Programs\\Python\\Python310\\lib\\site-packages\\sqlalchemy\\util\\compat.py:211\u001b[0m, in \u001b[0;36mraise_\u001b[1;34m(***failed resolving arguments***)\u001b[0m\n\u001b[0;32m    210\u001b[0m \u001b[39mtry\u001b[39;00m:\n\u001b[1;32m--> 211\u001b[0m     \u001b[39mraise\u001b[39;00m exception\n\u001b[0;32m    212\u001b[0m \u001b[39mfinally\u001b[39;00m:\n\u001b[0;32m    213\u001b[0m     \u001b[39m# credit to\u001b[39;00m\n\u001b[0;32m    214\u001b[0m     \u001b[39m# https://cosmicpercolator.com/2016/01/13/exception-leaks-in-python-2-and-3/\u001b[39;00m\n\u001b[0;32m    215\u001b[0m     \u001b[39m# as the __traceback__ object creates a cycle\u001b[39;00m\n",
      "File \u001b[1;32mc:\\Users\\zubik\\AppData\\Local\\Programs\\Python\\Python310\\lib\\site-packages\\sqlalchemy\\pool\\base.py:686\u001b[0m, in \u001b[0;36m_ConnectionRecord.__connect\u001b[1;34m(self)\u001b[0m\n\u001b[0;32m    685\u001b[0m \u001b[39mself\u001b[39m\u001b[39m.\u001b[39mstarttime \u001b[39m=\u001b[39m time\u001b[39m.\u001b[39mtime()\n\u001b[1;32m--> 686\u001b[0m \u001b[39mself\u001b[39m\u001b[39m.\u001b[39mdbapi_connection \u001b[39m=\u001b[39m connection \u001b[39m=\u001b[39m pool\u001b[39m.\u001b[39;49m_invoke_creator(\u001b[39mself\u001b[39;49m)\n\u001b[0;32m    687\u001b[0m pool\u001b[39m.\u001b[39mlogger\u001b[39m.\u001b[39mdebug(\u001b[39m\"\u001b[39m\u001b[39mCreated new connection \u001b[39m\u001b[39m%r\u001b[39;00m\u001b[39m\"\u001b[39m, connection)\n",
      "File \u001b[1;32mc:\\Users\\zubik\\AppData\\Local\\Programs\\Python\\Python310\\lib\\site-packages\\sqlalchemy\\engine\\create.py:574\u001b[0m, in \u001b[0;36mcreate_engine.<locals>.connect\u001b[1;34m(connection_record)\u001b[0m\n\u001b[0;32m    573\u001b[0m             \u001b[39mreturn\u001b[39;00m connection\n\u001b[1;32m--> 574\u001b[0m \u001b[39mreturn\u001b[39;00m dialect\u001b[39m.\u001b[39mconnect(\u001b[39m*\u001b[39mcargs, \u001b[39m*\u001b[39m\u001b[39m*\u001b[39mcparams)\n",
      "File \u001b[1;32mc:\\Users\\zubik\\AppData\\Local\\Programs\\Python\\Python310\\lib\\site-packages\\sqlalchemy\\engine\\default.py:598\u001b[0m, in \u001b[0;36mDefaultDialect.connect\u001b[1;34m(self, *cargs, **cparams)\u001b[0m\n\u001b[0;32m    596\u001b[0m \u001b[39mdef\u001b[39;00m \u001b[39mconnect\u001b[39m(\u001b[39mself\u001b[39m, \u001b[39m*\u001b[39mcargs, \u001b[39m*\u001b[39m\u001b[39m*\u001b[39mcparams):\n\u001b[0;32m    597\u001b[0m     \u001b[39m# inherits the docstring from interfaces.Dialect.connect\u001b[39;00m\n\u001b[1;32m--> 598\u001b[0m     \u001b[39mreturn\u001b[39;00m \u001b[39mself\u001b[39m\u001b[39m.\u001b[39mdbapi\u001b[39m.\u001b[39mconnect(\u001b[39m*\u001b[39mcargs, \u001b[39m*\u001b[39m\u001b[39m*\u001b[39mcparams)\n",
      "File \u001b[1;32mc:\\Users\\zubik\\AppData\\Local\\Programs\\Python\\Python310\\lib\\site-packages\\psycopg2\\__init__.py:122\u001b[0m, in \u001b[0;36mconnect\u001b[1;34m(dsn, connection_factory, cursor_factory, **kwargs)\u001b[0m\n\u001b[0;32m    121\u001b[0m dsn \u001b[39m=\u001b[39m _ext\u001b[39m.\u001b[39mmake_dsn(dsn, \u001b[39m*\u001b[39m\u001b[39m*\u001b[39mkwargs)\n\u001b[1;32m--> 122\u001b[0m conn \u001b[39m=\u001b[39m _connect(dsn, connection_factory\u001b[39m=\u001b[39mconnection_factory, \u001b[39m*\u001b[39m\u001b[39m*\u001b[39mkwasync)\n\u001b[0;32m    123\u001b[0m \u001b[39mif\u001b[39;00m cursor_factory \u001b[39mis\u001b[39;00m \u001b[39mnot\u001b[39;00m \u001b[39mNone\u001b[39;00m:\n",
      "\u001b[1;31mOperationalError\u001b[0m: could not translate host name \"db\" to address: Unknown host\n",
      "\nThe above exception was the direct cause of the following exception:\n",
      "\u001b[1;31mOperationalError\u001b[0m                          Traceback (most recent call last)",
      "\u001b[1;32mc:\\Users\\zubik\\CODIGOS\\data_engineer\\etl\\notebooks\\queries.ipynb Cell 3\u001b[0m in \u001b[0;36m1\n\u001b[1;32m----> <a href='vscode-notebook-cell:/c%3A/Users/zubik/CODIGOS/data_engineer/etl/notebooks/queries.ipynb#W2sZmlsZQ%3D%3D?line=0'>1</a>\u001b[0m conn \u001b[39m=\u001b[39m engine2\u001b[39m.\u001b[39mconnect()\n",
      "File \u001b[1;32mc:\\Users\\zubik\\AppData\\Local\\Programs\\Python\\Python310\\lib\\site-packages\\sqlalchemy\\engine\\base.py:3320\u001b[0m, in \u001b[0;36mEngine.connect\u001b[1;34m(self, close_with_result)\u001b[0m\n\u001b[0;32m   3305\u001b[0m \u001b[39mdef\u001b[39;00m \u001b[39mconnect\u001b[39m(\u001b[39mself\u001b[39m, close_with_result\u001b[39m=\u001b[39m\u001b[39mFalse\u001b[39;00m):\n\u001b[0;32m   3306\u001b[0m     \u001b[39m\"\"\"Return a new :class:`_engine.Connection` object.\u001b[39;00m\n\u001b[0;32m   3307\u001b[0m \n\u001b[0;32m   3308\u001b[0m \u001b[39m    The :class:`_engine.Connection` object is a facade that uses a DBAPI\u001b[39;00m\n\u001b[1;32m   (...)\u001b[0m\n\u001b[0;32m   3317\u001b[0m \n\u001b[0;32m   3318\u001b[0m \u001b[39m    \"\"\"\u001b[39;00m\n\u001b[1;32m-> 3320\u001b[0m     \u001b[39mreturn\u001b[39;00m \u001b[39mself\u001b[39;49m\u001b[39m.\u001b[39;49m_connection_cls(\u001b[39mself\u001b[39;49m, close_with_result\u001b[39m=\u001b[39;49mclose_with_result)\n",
      "File \u001b[1;32mc:\\Users\\zubik\\AppData\\Local\\Programs\\Python\\Python310\\lib\\site-packages\\sqlalchemy\\engine\\base.py:96\u001b[0m, in \u001b[0;36mConnection.__init__\u001b[1;34m(self, engine, connection, close_with_result, _branch_from, _execution_options, _dispatch, _has_events, _allow_revalidate)\u001b[0m\n\u001b[0;32m     91\u001b[0m     \u001b[39mself\u001b[39m\u001b[39m.\u001b[39m_has_events \u001b[39m=\u001b[39m _branch_from\u001b[39m.\u001b[39m_has_events\n\u001b[0;32m     92\u001b[0m \u001b[39melse\u001b[39;00m:\n\u001b[0;32m     93\u001b[0m     \u001b[39mself\u001b[39m\u001b[39m.\u001b[39m_dbapi_connection \u001b[39m=\u001b[39m (\n\u001b[0;32m     94\u001b[0m         connection\n\u001b[0;32m     95\u001b[0m         \u001b[39mif\u001b[39;00m connection \u001b[39mis\u001b[39;00m \u001b[39mnot\u001b[39;00m \u001b[39mNone\u001b[39;00m\n\u001b[1;32m---> 96\u001b[0m         \u001b[39melse\u001b[39;00m engine\u001b[39m.\u001b[39;49mraw_connection()\n\u001b[0;32m     97\u001b[0m     )\n\u001b[0;32m     99\u001b[0m     \u001b[39mself\u001b[39m\u001b[39m.\u001b[39m_transaction \u001b[39m=\u001b[39m \u001b[39mself\u001b[39m\u001b[39m.\u001b[39m_nested_transaction \u001b[39m=\u001b[39m \u001b[39mNone\u001b[39;00m\n\u001b[0;32m    100\u001b[0m     \u001b[39mself\u001b[39m\u001b[39m.\u001b[39m__savepoint_seq \u001b[39m=\u001b[39m \u001b[39m0\u001b[39m\n",
      "File \u001b[1;32mc:\\Users\\zubik\\AppData\\Local\\Programs\\Python\\Python310\\lib\\site-packages\\sqlalchemy\\engine\\base.py:3399\u001b[0m, in \u001b[0;36mEngine.raw_connection\u001b[1;34m(self, _connection)\u001b[0m\n\u001b[0;32m   3377\u001b[0m \u001b[39mdef\u001b[39;00m \u001b[39mraw_connection\u001b[39m(\u001b[39mself\u001b[39m, _connection\u001b[39m=\u001b[39m\u001b[39mNone\u001b[39;00m):\n\u001b[0;32m   3378\u001b[0m     \u001b[39m\"\"\"Return a \"raw\" DBAPI connection from the connection pool.\u001b[39;00m\n\u001b[0;32m   3379\u001b[0m \n\u001b[0;32m   3380\u001b[0m \u001b[39m    The returned object is a proxied version of the DBAPI\u001b[39;00m\n\u001b[1;32m   (...)\u001b[0m\n\u001b[0;32m   3397\u001b[0m \n\u001b[0;32m   3398\u001b[0m \u001b[39m    \"\"\"\u001b[39;00m\n\u001b[1;32m-> 3399\u001b[0m     \u001b[39mreturn\u001b[39;00m \u001b[39mself\u001b[39;49m\u001b[39m.\u001b[39;49m_wrap_pool_connect(\u001b[39mself\u001b[39;49m\u001b[39m.\u001b[39;49mpool\u001b[39m.\u001b[39;49mconnect, _connection)\n",
      "File \u001b[1;32mc:\\Users\\zubik\\AppData\\Local\\Programs\\Python\\Python310\\lib\\site-packages\\sqlalchemy\\engine\\base.py:3369\u001b[0m, in \u001b[0;36mEngine._wrap_pool_connect\u001b[1;34m(self, fn, connection)\u001b[0m\n\u001b[0;32m   3367\u001b[0m \u001b[39mexcept\u001b[39;00m dialect\u001b[39m.\u001b[39mdbapi\u001b[39m.\u001b[39mError \u001b[39mas\u001b[39;00m e:\n\u001b[0;32m   3368\u001b[0m     \u001b[39mif\u001b[39;00m connection \u001b[39mis\u001b[39;00m \u001b[39mNone\u001b[39;00m:\n\u001b[1;32m-> 3369\u001b[0m         Connection\u001b[39m.\u001b[39;49m_handle_dbapi_exception_noconnection(\n\u001b[0;32m   3370\u001b[0m             e, dialect, \u001b[39mself\u001b[39;49m\n\u001b[0;32m   3371\u001b[0m         )\n\u001b[0;32m   3372\u001b[0m     \u001b[39melse\u001b[39;00m:\n\u001b[0;32m   3373\u001b[0m         util\u001b[39m.\u001b[39mraise_(\n\u001b[0;32m   3374\u001b[0m             sys\u001b[39m.\u001b[39mexc_info()[\u001b[39m1\u001b[39m], with_traceback\u001b[39m=\u001b[39msys\u001b[39m.\u001b[39mexc_info()[\u001b[39m2\u001b[39m]\n\u001b[0;32m   3375\u001b[0m         )\n",
      "File \u001b[1;32mc:\\Users\\zubik\\AppData\\Local\\Programs\\Python\\Python310\\lib\\site-packages\\sqlalchemy\\engine\\base.py:2203\u001b[0m, in \u001b[0;36mConnection._handle_dbapi_exception_noconnection\u001b[1;34m(cls, e, dialect, engine)\u001b[0m\n\u001b[0;32m   2201\u001b[0m     util\u001b[39m.\u001b[39mraise_(newraise, with_traceback\u001b[39m=\u001b[39mexc_info[\u001b[39m2\u001b[39m], from_\u001b[39m=\u001b[39me)\n\u001b[0;32m   2202\u001b[0m \u001b[39melif\u001b[39;00m should_wrap:\n\u001b[1;32m-> 2203\u001b[0m     util\u001b[39m.\u001b[39;49mraise_(\n\u001b[0;32m   2204\u001b[0m         sqlalchemy_exception, with_traceback\u001b[39m=\u001b[39;49mexc_info[\u001b[39m2\u001b[39;49m], from_\u001b[39m=\u001b[39;49me\n\u001b[0;32m   2205\u001b[0m     )\n\u001b[0;32m   2206\u001b[0m \u001b[39melse\u001b[39;00m:\n\u001b[0;32m   2207\u001b[0m     util\u001b[39m.\u001b[39mraise_(exc_info[\u001b[39m1\u001b[39m], with_traceback\u001b[39m=\u001b[39mexc_info[\u001b[39m2\u001b[39m])\n",
      "File \u001b[1;32mc:\\Users\\zubik\\AppData\\Local\\Programs\\Python\\Python310\\lib\\site-packages\\sqlalchemy\\util\\compat.py:211\u001b[0m, in \u001b[0;36mraise_\u001b[1;34m(***failed resolving arguments***)\u001b[0m\n\u001b[0;32m    208\u001b[0m     exception\u001b[39m.\u001b[39m__cause__ \u001b[39m=\u001b[39m replace_context\n\u001b[0;32m    210\u001b[0m \u001b[39mtry\u001b[39;00m:\n\u001b[1;32m--> 211\u001b[0m     \u001b[39mraise\u001b[39;00m exception\n\u001b[0;32m    212\u001b[0m \u001b[39mfinally\u001b[39;00m:\n\u001b[0;32m    213\u001b[0m     \u001b[39m# credit to\u001b[39;00m\n\u001b[0;32m    214\u001b[0m     \u001b[39m# https://cosmicpercolator.com/2016/01/13/exception-leaks-in-python-2-and-3/\u001b[39;00m\n\u001b[0;32m    215\u001b[0m     \u001b[39m# as the __traceback__ object creates a cycle\u001b[39;00m\n\u001b[0;32m    216\u001b[0m     \u001b[39mdel\u001b[39;00m exception, replace_context, from_, with_traceback\n",
      "File \u001b[1;32mc:\\Users\\zubik\\AppData\\Local\\Programs\\Python\\Python310\\lib\\site-packages\\sqlalchemy\\engine\\base.py:3366\u001b[0m, in \u001b[0;36mEngine._wrap_pool_connect\u001b[1;34m(self, fn, connection)\u001b[0m\n\u001b[0;32m   3364\u001b[0m dialect \u001b[39m=\u001b[39m \u001b[39mself\u001b[39m\u001b[39m.\u001b[39mdialect\n\u001b[0;32m   3365\u001b[0m \u001b[39mtry\u001b[39;00m:\n\u001b[1;32m-> 3366\u001b[0m     \u001b[39mreturn\u001b[39;00m fn()\n\u001b[0;32m   3367\u001b[0m \u001b[39mexcept\u001b[39;00m dialect\u001b[39m.\u001b[39mdbapi\u001b[39m.\u001b[39mError \u001b[39mas\u001b[39;00m e:\n\u001b[0;32m   3368\u001b[0m     \u001b[39mif\u001b[39;00m connection \u001b[39mis\u001b[39;00m \u001b[39mNone\u001b[39;00m:\n",
      "File \u001b[1;32mc:\\Users\\zubik\\AppData\\Local\\Programs\\Python\\Python310\\lib\\site-packages\\sqlalchemy\\pool\\base.py:327\u001b[0m, in \u001b[0;36mPool.connect\u001b[1;34m(self)\u001b[0m\n\u001b[0;32m    319\u001b[0m \u001b[39mdef\u001b[39;00m \u001b[39mconnect\u001b[39m(\u001b[39mself\u001b[39m):\n\u001b[0;32m    320\u001b[0m     \u001b[39m\"\"\"Return a DBAPI connection from the pool.\u001b[39;00m\n\u001b[0;32m    321\u001b[0m \n\u001b[0;32m    322\u001b[0m \u001b[39m    The connection is instrumented such that when its\u001b[39;00m\n\u001b[1;32m   (...)\u001b[0m\n\u001b[0;32m    325\u001b[0m \n\u001b[0;32m    326\u001b[0m \u001b[39m    \"\"\"\u001b[39;00m\n\u001b[1;32m--> 327\u001b[0m     \u001b[39mreturn\u001b[39;00m _ConnectionFairy\u001b[39m.\u001b[39;49m_checkout(\u001b[39mself\u001b[39;49m)\n",
      "File \u001b[1;32mc:\\Users\\zubik\\AppData\\Local\\Programs\\Python\\Python310\\lib\\site-packages\\sqlalchemy\\pool\\base.py:894\u001b[0m, in \u001b[0;36m_ConnectionFairy._checkout\u001b[1;34m(cls, pool, threadconns, fairy)\u001b[0m\n\u001b[0;32m    891\u001b[0m \u001b[39m@classmethod\u001b[39m\n\u001b[0;32m    892\u001b[0m \u001b[39mdef\u001b[39;00m \u001b[39m_checkout\u001b[39m(\u001b[39mcls\u001b[39m, pool, threadconns\u001b[39m=\u001b[39m\u001b[39mNone\u001b[39;00m, fairy\u001b[39m=\u001b[39m\u001b[39mNone\u001b[39;00m):\n\u001b[0;32m    893\u001b[0m     \u001b[39mif\u001b[39;00m \u001b[39mnot\u001b[39;00m fairy:\n\u001b[1;32m--> 894\u001b[0m         fairy \u001b[39m=\u001b[39m _ConnectionRecord\u001b[39m.\u001b[39;49mcheckout(pool)\n\u001b[0;32m    896\u001b[0m         fairy\u001b[39m.\u001b[39m_pool \u001b[39m=\u001b[39m pool\n\u001b[0;32m    897\u001b[0m         fairy\u001b[39m.\u001b[39m_counter \u001b[39m=\u001b[39m \u001b[39m0\u001b[39m\n",
      "File \u001b[1;32mc:\\Users\\zubik\\AppData\\Local\\Programs\\Python\\Python310\\lib\\site-packages\\sqlalchemy\\pool\\base.py:493\u001b[0m, in \u001b[0;36m_ConnectionRecord.checkout\u001b[1;34m(cls, pool)\u001b[0m\n\u001b[0;32m    491\u001b[0m \u001b[39m@classmethod\u001b[39m\n\u001b[0;32m    492\u001b[0m \u001b[39mdef\u001b[39;00m \u001b[39mcheckout\u001b[39m(\u001b[39mcls\u001b[39m, pool):\n\u001b[1;32m--> 493\u001b[0m     rec \u001b[39m=\u001b[39m pool\u001b[39m.\u001b[39;49m_do_get()\n\u001b[0;32m    494\u001b[0m     \u001b[39mtry\u001b[39;00m:\n\u001b[0;32m    495\u001b[0m         dbapi_connection \u001b[39m=\u001b[39m rec\u001b[39m.\u001b[39mget_connection()\n",
      "File \u001b[1;32mc:\\Users\\zubik\\AppData\\Local\\Programs\\Python\\Python310\\lib\\site-packages\\sqlalchemy\\pool\\impl.py:445\u001b[0m, in \u001b[0;36mStaticPool._do_get\u001b[1;34m(self)\u001b[0m\n\u001b[0;32m    444\u001b[0m \u001b[39mdef\u001b[39;00m \u001b[39m_do_get\u001b[39m(\u001b[39mself\u001b[39m):\n\u001b[1;32m--> 445\u001b[0m     rec \u001b[39m=\u001b[39m \u001b[39mself\u001b[39;49m\u001b[39m.\u001b[39;49mconnection\n\u001b[0;32m    446\u001b[0m     \u001b[39mif\u001b[39;00m rec\u001b[39m.\u001b[39m_is_hard_or_soft_invalidated():\n\u001b[0;32m    447\u001b[0m         \u001b[39mdel\u001b[39;00m \u001b[39mself\u001b[39m\u001b[39m.\u001b[39m\u001b[39m__dict__\u001b[39m[\u001b[39m\"\u001b[39m\u001b[39mconnection\u001b[39m\u001b[39m\"\u001b[39m]\n",
      "File \u001b[1;32mc:\\Users\\zubik\\AppData\\Local\\Programs\\Python\\Python310\\lib\\site-packages\\sqlalchemy\\util\\langhelpers.py:1113\u001b[0m, in \u001b[0;36mmemoized_property.__get__\u001b[1;34m(self, obj, cls)\u001b[0m\n\u001b[0;32m   1111\u001b[0m \u001b[39mif\u001b[39;00m obj \u001b[39mis\u001b[39;00m \u001b[39mNone\u001b[39;00m:\n\u001b[0;32m   1112\u001b[0m     \u001b[39mreturn\u001b[39;00m \u001b[39mself\u001b[39m\n\u001b[1;32m-> 1113\u001b[0m obj\u001b[39m.\u001b[39m\u001b[39m__dict__\u001b[39m[\u001b[39mself\u001b[39m\u001b[39m.\u001b[39m\u001b[39m__name__\u001b[39m] \u001b[39m=\u001b[39m result \u001b[39m=\u001b[39m \u001b[39mself\u001b[39;49m\u001b[39m.\u001b[39;49mfget(obj)\n\u001b[0;32m   1114\u001b[0m \u001b[39mreturn\u001b[39;00m result\n",
      "File \u001b[1;32mc:\\Users\\zubik\\AppData\\Local\\Programs\\Python\\Python310\\lib\\site-packages\\sqlalchemy\\pool\\impl.py:405\u001b[0m, in \u001b[0;36mStaticPool.connection\u001b[1;34m(self)\u001b[0m\n\u001b[0;32m    403\u001b[0m \u001b[39m@util\u001b[39m\u001b[39m.\u001b[39mmemoized_property\n\u001b[0;32m    404\u001b[0m \u001b[39mdef\u001b[39;00m \u001b[39mconnection\u001b[39m(\u001b[39mself\u001b[39m):\n\u001b[1;32m--> 405\u001b[0m     \u001b[39mreturn\u001b[39;00m _ConnectionRecord(\u001b[39mself\u001b[39;49m)\n",
      "File \u001b[1;32mc:\\Users\\zubik\\AppData\\Local\\Programs\\Python\\Python310\\lib\\site-packages\\sqlalchemy\\pool\\base.py:388\u001b[0m, in \u001b[0;36m_ConnectionRecord.__init__\u001b[1;34m(self, pool, connect)\u001b[0m\n\u001b[0;32m    386\u001b[0m \u001b[39mself\u001b[39m\u001b[39m.\u001b[39m__pool \u001b[39m=\u001b[39m pool\n\u001b[0;32m    387\u001b[0m \u001b[39mif\u001b[39;00m connect:\n\u001b[1;32m--> 388\u001b[0m     \u001b[39mself\u001b[39;49m\u001b[39m.\u001b[39;49m__connect()\n\u001b[0;32m    389\u001b[0m \u001b[39mself\u001b[39m\u001b[39m.\u001b[39mfinalize_callback \u001b[39m=\u001b[39m deque()\n",
      "File \u001b[1;32mc:\\Users\\zubik\\AppData\\Local\\Programs\\Python\\Python310\\lib\\site-packages\\sqlalchemy\\pool\\base.py:690\u001b[0m, in \u001b[0;36m_ConnectionRecord.__connect\u001b[1;34m(self)\u001b[0m\n\u001b[0;32m    688\u001b[0m     \u001b[39mself\u001b[39m\u001b[39m.\u001b[39mfresh \u001b[39m=\u001b[39m \u001b[39mTrue\u001b[39;00m\n\u001b[0;32m    689\u001b[0m \u001b[39mexcept\u001b[39;00m \u001b[39mBaseException\u001b[39;00m \u001b[39mas\u001b[39;00m e:\n\u001b[1;32m--> 690\u001b[0m     \u001b[39mwith\u001b[39;00m util\u001b[39m.\u001b[39msafe_reraise():\n\u001b[0;32m    691\u001b[0m         pool\u001b[39m.\u001b[39mlogger\u001b[39m.\u001b[39mdebug(\u001b[39m\"\u001b[39m\u001b[39mError on connect(): \u001b[39m\u001b[39m%s\u001b[39;00m\u001b[39m\"\u001b[39m, e)\n\u001b[0;32m    692\u001b[0m \u001b[39melse\u001b[39;00m:\n\u001b[0;32m    693\u001b[0m     \u001b[39m# in SQLAlchemy 1.4 the first_connect event is not used by\u001b[39;00m\n\u001b[0;32m    694\u001b[0m     \u001b[39m# the engine, so this will usually not be set\u001b[39;00m\n",
      "File \u001b[1;32mc:\\Users\\zubik\\AppData\\Local\\Programs\\Python\\Python310\\lib\\site-packages\\sqlalchemy\\util\\langhelpers.py:70\u001b[0m, in \u001b[0;36msafe_reraise.__exit__\u001b[1;34m(self, type_, value, traceback)\u001b[0m\n\u001b[0;32m     68\u001b[0m     \u001b[39mself\u001b[39m\u001b[39m.\u001b[39m_exc_info \u001b[39m=\u001b[39m \u001b[39mNone\u001b[39;00m  \u001b[39m# remove potential circular references\u001b[39;00m\n\u001b[0;32m     69\u001b[0m     \u001b[39mif\u001b[39;00m \u001b[39mnot\u001b[39;00m \u001b[39mself\u001b[39m\u001b[39m.\u001b[39mwarn_only:\n\u001b[1;32m---> 70\u001b[0m         compat\u001b[39m.\u001b[39;49mraise_(\n\u001b[0;32m     71\u001b[0m             exc_value,\n\u001b[0;32m     72\u001b[0m             with_traceback\u001b[39m=\u001b[39;49mexc_tb,\n\u001b[0;32m     73\u001b[0m         )\n\u001b[0;32m     74\u001b[0m \u001b[39melse\u001b[39;00m:\n\u001b[0;32m     75\u001b[0m     \u001b[39mif\u001b[39;00m \u001b[39mnot\u001b[39;00m compat\u001b[39m.\u001b[39mpy3k \u001b[39mand\u001b[39;00m \u001b[39mself\u001b[39m\u001b[39m.\u001b[39m_exc_info \u001b[39mand\u001b[39;00m \u001b[39mself\u001b[39m\u001b[39m.\u001b[39m_exc_info[\u001b[39m1\u001b[39m]:\n\u001b[0;32m     76\u001b[0m         \u001b[39m# emulate Py3K's behavior of telling us when an exception\u001b[39;00m\n\u001b[0;32m     77\u001b[0m         \u001b[39m# occurs in an exception handler.\u001b[39;00m\n",
      "File \u001b[1;32mc:\\Users\\zubik\\AppData\\Local\\Programs\\Python\\Python310\\lib\\site-packages\\sqlalchemy\\util\\compat.py:211\u001b[0m, in \u001b[0;36mraise_\u001b[1;34m(***failed resolving arguments***)\u001b[0m\n\u001b[0;32m    208\u001b[0m     exception\u001b[39m.\u001b[39m__cause__ \u001b[39m=\u001b[39m replace_context\n\u001b[0;32m    210\u001b[0m \u001b[39mtry\u001b[39;00m:\n\u001b[1;32m--> 211\u001b[0m     \u001b[39mraise\u001b[39;00m exception\n\u001b[0;32m    212\u001b[0m \u001b[39mfinally\u001b[39;00m:\n\u001b[0;32m    213\u001b[0m     \u001b[39m# credit to\u001b[39;00m\n\u001b[0;32m    214\u001b[0m     \u001b[39m# https://cosmicpercolator.com/2016/01/13/exception-leaks-in-python-2-and-3/\u001b[39;00m\n\u001b[0;32m    215\u001b[0m     \u001b[39m# as the __traceback__ object creates a cycle\u001b[39;00m\n\u001b[0;32m    216\u001b[0m     \u001b[39mdel\u001b[39;00m exception, replace_context, from_, with_traceback\n",
      "File \u001b[1;32mc:\\Users\\zubik\\AppData\\Local\\Programs\\Python\\Python310\\lib\\site-packages\\sqlalchemy\\pool\\base.py:686\u001b[0m, in \u001b[0;36m_ConnectionRecord.__connect\u001b[1;34m(self)\u001b[0m\n\u001b[0;32m    684\u001b[0m \u001b[39mtry\u001b[39;00m:\n\u001b[0;32m    685\u001b[0m     \u001b[39mself\u001b[39m\u001b[39m.\u001b[39mstarttime \u001b[39m=\u001b[39m time\u001b[39m.\u001b[39mtime()\n\u001b[1;32m--> 686\u001b[0m     \u001b[39mself\u001b[39m\u001b[39m.\u001b[39mdbapi_connection \u001b[39m=\u001b[39m connection \u001b[39m=\u001b[39m pool\u001b[39m.\u001b[39;49m_invoke_creator(\u001b[39mself\u001b[39;49m)\n\u001b[0;32m    687\u001b[0m     pool\u001b[39m.\u001b[39mlogger\u001b[39m.\u001b[39mdebug(\u001b[39m\"\u001b[39m\u001b[39mCreated new connection \u001b[39m\u001b[39m%r\u001b[39;00m\u001b[39m\"\u001b[39m, connection)\n\u001b[0;32m    688\u001b[0m     \u001b[39mself\u001b[39m\u001b[39m.\u001b[39mfresh \u001b[39m=\u001b[39m \u001b[39mTrue\u001b[39;00m\n",
      "File \u001b[1;32mc:\\Users\\zubik\\AppData\\Local\\Programs\\Python\\Python310\\lib\\site-packages\\sqlalchemy\\engine\\create.py:574\u001b[0m, in \u001b[0;36mcreate_engine.<locals>.connect\u001b[1;34m(connection_record)\u001b[0m\n\u001b[0;32m    572\u001b[0m         \u001b[39mif\u001b[39;00m connection \u001b[39mis\u001b[39;00m \u001b[39mnot\u001b[39;00m \u001b[39mNone\u001b[39;00m:\n\u001b[0;32m    573\u001b[0m             \u001b[39mreturn\u001b[39;00m connection\n\u001b[1;32m--> 574\u001b[0m \u001b[39mreturn\u001b[39;00m dialect\u001b[39m.\u001b[39mconnect(\u001b[39m*\u001b[39mcargs, \u001b[39m*\u001b[39m\u001b[39m*\u001b[39mcparams)\n",
      "File \u001b[1;32mc:\\Users\\zubik\\AppData\\Local\\Programs\\Python\\Python310\\lib\\site-packages\\sqlalchemy\\engine\\default.py:598\u001b[0m, in \u001b[0;36mDefaultDialect.connect\u001b[1;34m(self, *cargs, **cparams)\u001b[0m\n\u001b[0;32m    596\u001b[0m \u001b[39mdef\u001b[39;00m \u001b[39mconnect\u001b[39m(\u001b[39mself\u001b[39m, \u001b[39m*\u001b[39mcargs, \u001b[39m*\u001b[39m\u001b[39m*\u001b[39mcparams):\n\u001b[0;32m    597\u001b[0m     \u001b[39m# inherits the docstring from interfaces.Dialect.connect\u001b[39;00m\n\u001b[1;32m--> 598\u001b[0m     \u001b[39mreturn\u001b[39;00m \u001b[39mself\u001b[39m\u001b[39m.\u001b[39mdbapi\u001b[39m.\u001b[39mconnect(\u001b[39m*\u001b[39mcargs, \u001b[39m*\u001b[39m\u001b[39m*\u001b[39mcparams)\n",
      "File \u001b[1;32mc:\\Users\\zubik\\AppData\\Local\\Programs\\Python\\Python310\\lib\\site-packages\\psycopg2\\__init__.py:122\u001b[0m, in \u001b[0;36mconnect\u001b[1;34m(dsn, connection_factory, cursor_factory, **kwargs)\u001b[0m\n\u001b[0;32m    119\u001b[0m     kwasync[\u001b[39m'\u001b[39m\u001b[39masync_\u001b[39m\u001b[39m'\u001b[39m] \u001b[39m=\u001b[39m kwargs\u001b[39m.\u001b[39mpop(\u001b[39m'\u001b[39m\u001b[39masync_\u001b[39m\u001b[39m'\u001b[39m)\n\u001b[0;32m    121\u001b[0m dsn \u001b[39m=\u001b[39m _ext\u001b[39m.\u001b[39mmake_dsn(dsn, \u001b[39m*\u001b[39m\u001b[39m*\u001b[39mkwargs)\n\u001b[1;32m--> 122\u001b[0m conn \u001b[39m=\u001b[39m _connect(dsn, connection_factory\u001b[39m=\u001b[39mconnection_factory, \u001b[39m*\u001b[39m\u001b[39m*\u001b[39mkwasync)\n\u001b[0;32m    123\u001b[0m \u001b[39mif\u001b[39;00m cursor_factory \u001b[39mis\u001b[39;00m \u001b[39mnot\u001b[39;00m \u001b[39mNone\u001b[39;00m:\n\u001b[0;32m    124\u001b[0m     conn\u001b[39m.\u001b[39mcursor_factory \u001b[39m=\u001b[39m cursor_factory\n",
      "\u001b[1;31mOperationalError\u001b[0m: (psycopg2.OperationalError) could not translate host name \"db\" to address: Unknown host\n\n(Background on this error at: https://sqlalche.me/e/14/e3q8)"
     ]
    }
   ],
   "source": [
    "conn = engine2.connect()"
   ]
  },
  {
   "cell_type": "code",
   "execution_count": 4,
   "id": "a022c12f-9fd0-448c-927f-41c765de6ad3",
   "metadata": {
    "tags": []
   },
   "outputs": [
    {
     "data": {
      "text/plain": [
       "<sqlalchemy.engine.cursor.CursorResult at 0x7f6c0ca435e0>"
      ]
     },
     "execution_count": 4,
     "metadata": {},
     "output_type": "execute_result"
    }
   ],
   "source": [
    "conn.execute(text(\"\"\" DELETE FROM my_song_history\n",
    "        WHERE played_at BETWEEN '2023/5/12 00:00:00.00' AND '2023/5/13 23:59:59.999' ;\"\"\"))"
   ]
  },
  {
   "cell_type": "code",
   "execution_count": 5,
   "id": "667ff21c-0160-430d-860b-b187a1d1c511",
   "metadata": {
    "tags": []
   },
   "outputs": [
    {
     "data": {
      "text/plain": [
       "<sqlalchemy.engine.cursor.CursorResult at 0x7f6c0ca43580>"
      ]
     },
     "execution_count": 5,
     "metadata": {},
     "output_type": "execute_result"
    }
   ],
   "source": [
    "conn.execute(text(\"\"\" DELETE FROM top_50_arg_songs\n",
    "        WHERE extract_date BETWEEN '2023/5/13 00:00:00.00' AND '2023/5/13 23:59:59.999' ;\"\"\"))"
   ]
  },
  {
   "cell_type": "code",
   "execution_count": 9,
   "id": "ad81ec2a-b98d-481c-9611-4bda9a3c7ee7",
   "metadata": {
    "tags": []
   },
   "outputs": [],
   "source": [
    "# conn.execute(text(\"\"\"DROP TABLE my_song_history;\"\"\"))"
   ]
  },
  {
   "cell_type": "code",
   "execution_count": 9,
   "id": "ee02d912-d22f-42cf-8b29-678da6f60a39",
   "metadata": {
    "tags": []
   },
   "outputs": [
    {
     "data": {
      "text/plain": [
       "<sqlalchemy.engine.cursor.CursorResult at 0x7fdbdf3df760>"
      ]
     },
     "execution_count": 9,
     "metadata": {},
     "output_type": "execute_result"
    }
   ],
   "source": [
    "conn.execute(text(\"\"\"CREATE table if not exists my_song_history(\n",
    "    song_name text,\n",
    "    album text,\n",
    "    artist text,\n",
    "    duration_sec int,\n",
    "    played_at TIMESTAMP WITHOUT TIME ZONE,\n",
    "    PRIMARY KEY(played_at)\n",
    ");\"\"\"))"
   ]
  },
  {
   "cell_type": "code",
   "execution_count": 12,
   "id": "f1eaa706-a6e5-4f7d-a43e-2a9dfdf27993",
   "metadata": {
    "tags": []
   },
   "outputs": [
    {
     "data": {
      "text/plain": [
       "<sqlalchemy.engine.cursor.CursorResult at 0x7fd9deb636a0>"
      ]
     },
     "execution_count": 12,
     "metadata": {},
     "output_type": "execute_result"
    }
   ],
   "source": [
    "conn.execute(text('ROLLBACK'))"
   ]
  },
  {
   "cell_type": "code",
   "execution_count": 13,
   "id": "cd34183c-ee61-4540-9d81-c4c6e8ef99aa",
   "metadata": {
    "tags": []
   },
   "outputs": [
    {
     "data": {
      "text/plain": [
       "[('Un Finde | CROSSOVER #2', 'Big One', 1, datetime.date(2023, 5, 10)),\n",
       " ('Pobre Corazón - En Vivo', 'Ke Personajes', 2, datetime.date(2023, 5, 10)),\n",
       " ('un x100to', 'Grupo Frontera', 3, datetime.date(2023, 5, 10)),\n",
       " ('La Bebe - Remix', 'Yng Lvcas', 4, datetime.date(2023, 5, 10)),\n",
       " ('M.A - Remix', 'BM', 5, datetime.date(2023, 5, 10)),\n",
       " ('Classy 101', 'Feid', 6, datetime.date(2023, 5, 10)),\n",
       " ('En La Intimidad | CROSSOVER #1', 'Big One', 7, datetime.date(2023, 5, 10)),\n",
       " ('Perfecta (Versión 2023)', 'Miranda!', 8, datetime.date(2023, 5, 10)),\n",
       " ('Ya No Vuelvas (Versión Cuarteto)', 'Luck Ra', 9, datetime.date(2023, 5, 10)),\n",
       " ('Rara Vez', 'Taiu', 10, datetime.date(2023, 5, 10)),\n",
       " ('Ella Baila Sola', 'Eslabon Armado', 11, datetime.date(2023, 5, 10)),\n",
       " ('Yandel 150', 'Yandel', 12, datetime.date(2023, 5, 10)),\n",
       " ('Jagger.mp3', 'Emilia', 13, datetime.date(2023, 5, 10)),\n",
       " ('M.A (Mejores Amigos)', 'BM', 14, datetime.date(2023, 5, 10)),\n",
       " ('TQG', 'KAROL G', 15, datetime.date(2023, 5, 10)),\n",
       " ('Cupido', 'TINI', 16, datetime.date(2023, 5, 10)),\n",
       " ('ADIÓS', 'Maria Becerra', 17, datetime.date(2023, 5, 10)),\n",
       " ('MERCHO', 'LiL CaKe', 18, datetime.date(2023, 5, 10)),\n",
       " ('BESO', 'ROSALÍA', 19, datetime.date(2023, 5, 10)),\n",
       " ('Si No Te Tengo / Ángel / Aquello Que Pasó', 'Ke Personajes', 20, datetime.date(2023, 5, 10)),\n",
       " ('Quiero Creer', 'Luck Ra', 21, datetime.date(2023, 5, 10)),\n",
       " ('Muñecas', 'TINI', 22, datetime.date(2023, 5, 10)),\n",
       " ('Hey Mor', 'Ozuna', 23, datetime.date(2023, 5, 10)),\n",
       " ('Costumbres - Vivo', 'Damas Gratis', 24, datetime.date(2023, 5, 10)),\n",
       " ('Feliz Cumpleaños Ferxxo', 'Feid', 25, datetime.date(2023, 5, 10)),\n",
       " ('DISCOTEKA (feat. Locura Mix)', 'The La Planta', 26, datetime.date(2023, 5, 10)),\n",
       " ('qué le pasa conmigo?', 'Nicki Nicole', 27, datetime.date(2023, 5, 10)),\n",
       " ('aPoLLo13', 'Duki', 28, datetime.date(2023, 5, 10)),\n",
       " ('Te Escapas De Mis Brazos (Remix)', 'ECKO', 29, datetime.date(2023, 5, 10)),\n",
       " ('AL BORDE', 'Milo j', 30, datetime.date(2023, 5, 10)),\n",
       " ('Shakira: Bzrp Music Sessions, Vol. 53', 'Bizarrap', 31, datetime.date(2023, 5, 10)),\n",
       " ('Normal', 'Feid', 32, datetime.date(2023, 5, 10)),\n",
       " ('Amanecemos', 'La Joaqui', 33, datetime.date(2023, 5, 10)),\n",
       " ('Marisola - Remix', 'Cris Mj', 34, datetime.date(2023, 5, 10)),\n",
       " ('Milagrosa', 'Milo j', 35, datetime.date(2023, 5, 10)),\n",
       " ('La Bachata', 'Manuel Turizo', 36, datetime.date(2023, 5, 10)),\n",
       " ('PARA AMARTE A TI', 'KHEA', 37, datetime.date(2023, 5, 10)),\n",
       " ('PUNTO G', 'Quevedo', 38, datetime.date(2023, 5, 10)),\n",
       " ('CHORRITO PA LAS ANIMAS', 'Feid', 39, datetime.date(2023, 5, 10)),\n",
       " ('No_se_ve.mp3', 'Emilia', 40, datetime.date(2023, 5, 10)),\n",
       " ('ARRANCARMELO', 'WOS', 41, datetime.date(2023, 5, 10)),\n",
       " ('Coco Chanel', 'Eladio Carrion', 42, datetime.date(2023, 5, 10)),\n",
       " ('Vida Gangster', 'Lauty Gram', 43, datetime.date(2023, 5, 10)),\n",
       " ('Azote - Remix', 'Lolo OG', 44, datetime.date(2023, 5, 10)),\n",
       " ('Uno los Dos', 'Miranda!', 45, datetime.date(2023, 5, 10)),\n",
       " ('Lisa', 'Young Miko', 46, datetime.date(2023, 5, 10)),\n",
       " ('Quevedo: Bzrp Music Sessions, Vol. 52', 'Bizarrap', 47, datetime.date(2023, 5, 10)),\n",
       " ('PLAYA DEL INGLÉS', 'Quevedo', 48, datetime.date(2023, 5, 10)),\n",
       " ('Dos Besitos', 'La Joaqui', 49, datetime.date(2023, 5, 10)),\n",
       " ('Le doy perreo', 'Callejero Fino', 50, datetime.date(2023, 5, 10)),\n",
       " ('Un Finde | CROSSOVER #2', 'Big One', 1, datetime.date(2023, 5, 12)),\n",
       " ('La Bebe - Remix', 'Yng Lvcas', 2, datetime.date(2023, 5, 12)),\n",
       " ('un x100to', 'Grupo Frontera', 3, datetime.date(2023, 5, 12)),\n",
       " ('M.A - Remix', 'BM', 4, datetime.date(2023, 5, 12)),\n",
       " ('Pobre Corazón - En Vivo', 'Ke Personajes', 5, datetime.date(2023, 5, 12)),\n",
       " ('Classy 101', 'Feid', 6, datetime.date(2023, 5, 12)),\n",
       " ('Perfecta (Versión 2023)', 'Miranda!', 7, datetime.date(2023, 5, 12)),\n",
       " ('En La Intimidad | CROSSOVER #1', 'Big One', 8, datetime.date(2023, 5, 12)),\n",
       " ('Ella Baila Sola', 'Eslabon Armado', 9, datetime.date(2023, 5, 12)),\n",
       " ('Ya No Vuelvas (Versión Cuarteto)', 'Luck Ra', 10, datetime.date(2023, 5, 12)),\n",
       " ('Rara Vez', 'Taiu', 11, datetime.date(2023, 5, 12)),\n",
       " ('M.A (Mejores Amigos)', 'BM', 12, datetime.date(2023, 5, 12)),\n",
       " ('Yandel 150', 'Yandel', 13, datetime.date(2023, 5, 12)),\n",
       " ('Jagger.mp3', 'Emilia', 14, datetime.date(2023, 5, 12)),\n",
       " ('ADIÓS', 'Maria Becerra', 15, datetime.date(2023, 5, 12)),\n",
       " ('TQG', 'KAROL G', 16, datetime.date(2023, 5, 12)),\n",
       " ('Cupido', 'TINI', 17, datetime.date(2023, 5, 12)),\n",
       " ('MERCHO', 'LiL CaKe', 18, datetime.date(2023, 5, 12)),\n",
       " ('BESO', 'ROSALÍA', 19, datetime.date(2023, 5, 12)),\n",
       " ('Si No Te Tengo / Ángel / Aquello Que Pasó', 'Ke Personajes', 20, datetime.date(2023, 5, 12)),\n",
       " ('Quiero Creer', 'Luck Ra', 21, datetime.date(2023, 5, 12)),\n",
       " ('Costumbres - Vivo', 'Damas Gratis', 22, datetime.date(2023, 5, 12)),\n",
       " ('qué le pasa conmigo?', 'Nicki Nicole', 23, datetime.date(2023, 5, 12)),\n",
       " ('Muñecas', 'TINI', 24, datetime.date(2023, 5, 12)),\n",
       " ('DISCOTEKA (feat. Locura Mix)', 'The La Planta', 25, datetime.date(2023, 5, 12)),\n",
       " ('Hey Mor', 'Ozuna', 26, datetime.date(2023, 5, 12)),\n",
       " ('Feliz Cumpleaños Ferxxo', 'Feid', 27, datetime.date(2023, 5, 12)),\n",
       " ('No_se_ve.mp3', 'Emilia', 28, datetime.date(2023, 5, 12)),\n",
       " ('AL BORDE', 'Milo j', 29, datetime.date(2023, 5, 12)),\n",
       " ('Te Escapas De Mis Brazos (Remix)', 'ECKO', 30, datetime.date(2023, 5, 12)),\n",
       " ('Amanecemos', 'La Joaqui', 31, datetime.date(2023, 5, 12)),\n",
       " ('aPoLLo13', 'Duki', 32, datetime.date(2023, 5, 12)),\n",
       " ('Marisola - Remix', 'Cris Mj', 33, datetime.date(2023, 5, 12)),\n",
       " ('Normal', 'Feid', 34, datetime.date(2023, 5, 12)),\n",
       " ('PUNTO G', 'Quevedo', 35, datetime.date(2023, 5, 12)),\n",
       " ('CHORRITO PA LAS ANIMAS', 'Feid', 36, datetime.date(2023, 5, 12)),\n",
       " ('La Bachata', 'Manuel Turizo', 37, datetime.date(2023, 5, 12)),\n",
       " ('Milagrosa', 'Milo j', 38, datetime.date(2023, 5, 12)),\n",
       " ('Shakira: Bzrp Music Sessions, Vol. 53', 'Bizarrap', 39, datetime.date(2023, 5, 12)),\n",
       " ('ARRANCARMELO', 'WOS', 40, datetime.date(2023, 5, 12)),\n",
       " ('Coco Chanel', 'Eladio Carrion', 41, datetime.date(2023, 5, 12)),\n",
       " ('Azote - Remix', 'Lolo OG', 42, datetime.date(2023, 5, 12)),\n",
       " ('Uno los Dos', 'Miranda!', 43, datetime.date(2023, 5, 12)),\n",
       " ('Vida Gangster', 'Lauty Gram', 44, datetime.date(2023, 5, 12)),\n",
       " ('Lisa', 'Young Miko', 45, datetime.date(2023, 5, 12)),\n",
       " ('Niña Bonita', 'Feid', 46, datetime.date(2023, 5, 12)),\n",
       " ('PARA AMARTE A TI', 'KHEA', 47, datetime.date(2023, 5, 12)),\n",
       " ('Quevedo: Bzrp Music Sessions, Vol. 52', 'Bizarrap', 48, datetime.date(2023, 5, 12)),\n",
       " ('Dos Besitos', 'La Joaqui', 49, datetime.date(2023, 5, 12)),\n",
       " ('PLAYA DEL INGLÉS', 'Quevedo', 50, datetime.date(2023, 5, 12))]"
      ]
     },
     "execution_count": 13,
     "metadata": {},
     "output_type": "execute_result"
    }
   ],
   "source": [
    "conn.execute(text('SELECT * FROM top_50_arg_songs')).fetchall()"
   ]
  },
  {
   "cell_type": "code",
   "execution_count": 15,
   "id": "cbe05a7f-9bad-423d-acca-bc094896d214",
   "metadata": {
    "tags": []
   },
   "outputs": [
    {
     "data": {
      "text/plain": [
       "<sqlalchemy.engine.cursor.CursorResult at 0x7f451e5ea2c0>"
      ]
     },
     "execution_count": 15,
     "metadata": {},
     "output_type": "execute_result"
    }
   ],
   "source": [
    "conn.execute(text('TRUNCATE my_song_history'))"
   ]
  },
  {
   "cell_type": "code",
   "execution_count": 19,
   "id": "2346a81d-175c-42fd-98f8-9a5211222546",
   "metadata": {
    "tags": []
   },
   "outputs": [
    {
     "data": {
      "text/plain": [
       "[('Anti-Hero', 'Midnights', 'Taylor Swift', 200, datetime.datetime(2023, 5, 11, 23, 0, 55)),\n",
       " ('Anti-Hero', 'Midnights', 'Taylor Swift', 200, datetime.datetime(2023, 5, 11, 22, 31)),\n",
       " ('THE DAY', 'Butterfly Effect', 'PornoGraffitti', 241, datetime.datetime(2023, 5, 11, 18, 11, 15)),\n",
       " ('Anti-Hero', 'Midnights', 'Taylor Swift', 200, datetime.datetime(2023, 5, 11, 15, 18, 54)),\n",
       " ('Butterfly', 'NO SLEEP TILL TOKYO', 'MIYAVI', 199, datetime.datetime(2023, 5, 11, 15, 14, 30)),\n",
       " ('絶体絶命', 'PURE', 'Cö Shu Nie', 148, datetime.datetime(2023, 5, 11, 15, 11, 7)),\n",
       " ('Blank Space', '1989 (Deluxe)', 'Taylor Swift', 231, datetime.datetime(2023, 5, 11, 15, 8, 39)),\n",
       " ('We Can Work It Out - Remastered 2015', '1 (Remastered)', 'The Beatles', 135, datetime.datetime(2023, 5, 11, 15, 4, 46)),\n",
       " ('99.9', '99.9', 'MOB CHOIR', 188, datetime.datetime(2023, 5, 11, 15, 2, 30)),\n",
       " ('In the End', 'Hybrid Theory (Bonus Edition)', 'Linkin Park', 216, datetime.datetime(2023, 5, 11, 14, 59, 20)),\n",
       " ('THE SHAPE OF', '安月名莉子 1st Album「BLUE MOON」', '安月名莉子', 212, datetime.datetime(2023, 5, 11, 14, 55, 43))]"
      ]
     },
     "execution_count": 19,
     "metadata": {},
     "output_type": "execute_result"
    }
   ],
   "source": [
    "conn.execute(text(\"SELECT * FROM my_song_history\")).fetchall()"
   ]
  },
  {
   "cell_type": "code",
   "execution_count": null,
   "id": "0313d8ff-adc2-4a06-978d-fd740a5a29b9",
   "metadata": {},
   "outputs": [],
   "source": []
  }
 ],
 "metadata": {
  "kernelspec": {
   "display_name": "Python 3 (ipykernel)",
   "language": "python",
   "name": "python3"
  },
  "language_info": {
   "codemirror_mode": {
    "name": "ipython",
    "version": 3
   },
   "file_extension": ".py",
   "mimetype": "text/x-python",
   "name": "python",
   "nbconvert_exporter": "python",
   "pygments_lexer": "ipython3",
   "version": "3.10.0"
  }
 },
 "nbformat": 4,
 "nbformat_minor": 5
}
