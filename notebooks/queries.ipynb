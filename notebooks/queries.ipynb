{
 "cells": [
  {
   "cell_type": "code",
   "execution_count": 1,
   "id": "417c5ab2-e57a-4827-b610-86efe5deb879",
   "metadata": {
    "tags": []
   },
   "outputs": [],
   "source": [
    "from sqlalchemy import create_engine ,text\n",
    "from sqlalchemy.pool import StaticPool\n",
    "from engine import engine"
   ]
  },
  {
   "cell_type": "code",
   "execution_count": 2,
   "id": "e42ce293-2a93-468f-b353-d538f087e921",
   "metadata": {
    "tags": []
   },
   "outputs": [],
   "source": [
    "engine2 = create_engine('postgresql://username:password@db:5432/database', poolclass =StaticPool,isolation_level=\"AUTOCOMMIT\")"
   ]
  },
  {
   "cell_type": "code",
   "execution_count": 3,
   "id": "78b53fb8-0ed0-4270-9411-e544dafdb042",
   "metadata": {
    "tags": []
   },
   "outputs": [],
   "source": [
    "conn = engine2.connect()"
   ]
  },
  {
   "cell_type": "code",
   "execution_count": 4,
   "id": "a022c12f-9fd0-448c-927f-41c765de6ad3",
   "metadata": {
    "tags": []
   },
   "outputs": [
    {
     "data": {
      "text/plain": [
       "<sqlalchemy.engine.cursor.CursorResult at 0x7f6c0ca435e0>"
      ]
     },
     "execution_count": 4,
     "metadata": {},
     "output_type": "execute_result"
    }
   ],
   "source": [
    "conn.execute(text(\"\"\" DELETE FROM my_song_history\n",
    "        WHERE played_at BETWEEN '2023/5/12 00:00:00.00' AND '2023/5/13 23:59:59.999' ;\"\"\"))"
   ]
  },
  {
   "cell_type": "code",
   "execution_count": 5,
   "id": "667ff21c-0160-430d-860b-b187a1d1c511",
   "metadata": {
    "tags": []
   },
   "outputs": [
    {
     "data": {
      "text/plain": [
       "<sqlalchemy.engine.cursor.CursorResult at 0x7f6c0ca43580>"
      ]
     },
     "execution_count": 5,
     "metadata": {},
     "output_type": "execute_result"
    }
   ],
   "source": [
    "conn.execute(text(\"\"\" DELETE FROM top_50_arg_songs\n",
    "        WHERE extract_date BETWEEN '2023/5/13 00:00:00.00' AND '2023/5/13 23:59:59.999' ;\"\"\"))"
   ]
  },
  {
   "cell_type": "code",
   "execution_count": 9,
   "id": "ad81ec2a-b98d-481c-9611-4bda9a3c7ee7",
   "metadata": {
    "tags": []
   },
   "outputs": [],
   "source": [
    "# conn.execute(text(\"\"\"DROP TABLE my_song_history;\"\"\"))"
   ]
  },
  {
   "cell_type": "code",
   "execution_count": 9,
   "id": "ee02d912-d22f-42cf-8b29-678da6f60a39",
   "metadata": {
    "tags": []
   },
   "outputs": [
    {
     "data": {
      "text/plain": [
       "<sqlalchemy.engine.cursor.CursorResult at 0x7fdbdf3df760>"
      ]
     },
     "execution_count": 9,
     "metadata": {},
     "output_type": "execute_result"
    }
   ],
   "source": [
    "conn.execute(text(\"\"\"CREATE table if not exists my_song_history(\n",
    "    song_name text,\n",
    "    album text,\n",
    "    artist text,\n",
    "    duration_sec int,\n",
    "    played_at TIMESTAMP WITHOUT TIME ZONE,\n",
    "    PRIMARY KEY(played_at)\n",
    ");\"\"\"))"
   ]
  },
  {
   "cell_type": "code",
   "execution_count": 12,
   "id": "f1eaa706-a6e5-4f7d-a43e-2a9dfdf27993",
   "metadata": {
    "tags": []
   },
   "outputs": [
    {
     "data": {
      "text/plain": [
       "<sqlalchemy.engine.cursor.CursorResult at 0x7fd9deb636a0>"
      ]
     },
     "execution_count": 12,
     "metadata": {},
     "output_type": "execute_result"
    }
   ],
   "source": [
    "conn.execute(text('ROLLBACK'))"
   ]
  },
  {
   "cell_type": "code",
   "execution_count": 13,
   "id": "cd34183c-ee61-4540-9d81-c4c6e8ef99aa",
   "metadata": {
    "tags": []
   },
   "outputs": [
    {
     "data": {
      "text/plain": [
       "[('Un Finde | CROSSOVER #2', 'Big One', 1, datetime.date(2023, 5, 10)),\n",
       " ('Pobre Corazón - En Vivo', 'Ke Personajes', 2, datetime.date(2023, 5, 10)),\n",
       " ('un x100to', 'Grupo Frontera', 3, datetime.date(2023, 5, 10)),\n",
       " ('La Bebe - Remix', 'Yng Lvcas', 4, datetime.date(2023, 5, 10)),\n",
       " ('M.A - Remix', 'BM', 5, datetime.date(2023, 5, 10)),\n",
       " ('Classy 101', 'Feid', 6, datetime.date(2023, 5, 10)),\n",
       " ('En La Intimidad | CROSSOVER #1', 'Big One', 7, datetime.date(2023, 5, 10)),\n",
       " ('Perfecta (Versión 2023)', 'Miranda!', 8, datetime.date(2023, 5, 10)),\n",
       " ('Ya No Vuelvas (Versión Cuarteto)', 'Luck Ra', 9, datetime.date(2023, 5, 10)),\n",
       " ('Rara Vez', 'Taiu', 10, datetime.date(2023, 5, 10)),\n",
       " ('Ella Baila Sola', 'Eslabon Armado', 11, datetime.date(2023, 5, 10)),\n",
       " ('Yandel 150', 'Yandel', 12, datetime.date(2023, 5, 10)),\n",
       " ('Jagger.mp3', 'Emilia', 13, datetime.date(2023, 5, 10)),\n",
       " ('M.A (Mejores Amigos)', 'BM', 14, datetime.date(2023, 5, 10)),\n",
       " ('TQG', 'KAROL G', 15, datetime.date(2023, 5, 10)),\n",
       " ('Cupido', 'TINI', 16, datetime.date(2023, 5, 10)),\n",
       " ('ADIÓS', 'Maria Becerra', 17, datetime.date(2023, 5, 10)),\n",
       " ('MERCHO', 'LiL CaKe', 18, datetime.date(2023, 5, 10)),\n",
       " ('BESO', 'ROSALÍA', 19, datetime.date(2023, 5, 10)),\n",
       " ('Si No Te Tengo / Ángel / Aquello Que Pasó', 'Ke Personajes', 20, datetime.date(2023, 5, 10)),\n",
       " ('Quiero Creer', 'Luck Ra', 21, datetime.date(2023, 5, 10)),\n",
       " ('Muñecas', 'TINI', 22, datetime.date(2023, 5, 10)),\n",
       " ('Hey Mor', 'Ozuna', 23, datetime.date(2023, 5, 10)),\n",
       " ('Costumbres - Vivo', 'Damas Gratis', 24, datetime.date(2023, 5, 10)),\n",
       " ('Feliz Cumpleaños Ferxxo', 'Feid', 25, datetime.date(2023, 5, 10)),\n",
       " ('DISCOTEKA (feat. Locura Mix)', 'The La Planta', 26, datetime.date(2023, 5, 10)),\n",
       " ('qué le pasa conmigo?', 'Nicki Nicole', 27, datetime.date(2023, 5, 10)),\n",
       " ('aPoLLo13', 'Duki', 28, datetime.date(2023, 5, 10)),\n",
       " ('Te Escapas De Mis Brazos (Remix)', 'ECKO', 29, datetime.date(2023, 5, 10)),\n",
       " ('AL BORDE', 'Milo j', 30, datetime.date(2023, 5, 10)),\n",
       " ('Shakira: Bzrp Music Sessions, Vol. 53', 'Bizarrap', 31, datetime.date(2023, 5, 10)),\n",
       " ('Normal', 'Feid', 32, datetime.date(2023, 5, 10)),\n",
       " ('Amanecemos', 'La Joaqui', 33, datetime.date(2023, 5, 10)),\n",
       " ('Marisola - Remix', 'Cris Mj', 34, datetime.date(2023, 5, 10)),\n",
       " ('Milagrosa', 'Milo j', 35, datetime.date(2023, 5, 10)),\n",
       " ('La Bachata', 'Manuel Turizo', 36, datetime.date(2023, 5, 10)),\n",
       " ('PARA AMARTE A TI', 'KHEA', 37, datetime.date(2023, 5, 10)),\n",
       " ('PUNTO G', 'Quevedo', 38, datetime.date(2023, 5, 10)),\n",
       " ('CHORRITO PA LAS ANIMAS', 'Feid', 39, datetime.date(2023, 5, 10)),\n",
       " ('No_se_ve.mp3', 'Emilia', 40, datetime.date(2023, 5, 10)),\n",
       " ('ARRANCARMELO', 'WOS', 41, datetime.date(2023, 5, 10)),\n",
       " ('Coco Chanel', 'Eladio Carrion', 42, datetime.date(2023, 5, 10)),\n",
       " ('Vida Gangster', 'Lauty Gram', 43, datetime.date(2023, 5, 10)),\n",
       " ('Azote - Remix', 'Lolo OG', 44, datetime.date(2023, 5, 10)),\n",
       " ('Uno los Dos', 'Miranda!', 45, datetime.date(2023, 5, 10)),\n",
       " ('Lisa', 'Young Miko', 46, datetime.date(2023, 5, 10)),\n",
       " ('Quevedo: Bzrp Music Sessions, Vol. 52', 'Bizarrap', 47, datetime.date(2023, 5, 10)),\n",
       " ('PLAYA DEL INGLÉS', 'Quevedo', 48, datetime.date(2023, 5, 10)),\n",
       " ('Dos Besitos', 'La Joaqui', 49, datetime.date(2023, 5, 10)),\n",
       " ('Le doy perreo', 'Callejero Fino', 50, datetime.date(2023, 5, 10)),\n",
       " ('Un Finde | CROSSOVER #2', 'Big One', 1, datetime.date(2023, 5, 12)),\n",
       " ('La Bebe - Remix', 'Yng Lvcas', 2, datetime.date(2023, 5, 12)),\n",
       " ('un x100to', 'Grupo Frontera', 3, datetime.date(2023, 5, 12)),\n",
       " ('M.A - Remix', 'BM', 4, datetime.date(2023, 5, 12)),\n",
       " ('Pobre Corazón - En Vivo', 'Ke Personajes', 5, datetime.date(2023, 5, 12)),\n",
       " ('Classy 101', 'Feid', 6, datetime.date(2023, 5, 12)),\n",
       " ('Perfecta (Versión 2023)', 'Miranda!', 7, datetime.date(2023, 5, 12)),\n",
       " ('En La Intimidad | CROSSOVER #1', 'Big One', 8, datetime.date(2023, 5, 12)),\n",
       " ('Ella Baila Sola', 'Eslabon Armado', 9, datetime.date(2023, 5, 12)),\n",
       " ('Ya No Vuelvas (Versión Cuarteto)', 'Luck Ra', 10, datetime.date(2023, 5, 12)),\n",
       " ('Rara Vez', 'Taiu', 11, datetime.date(2023, 5, 12)),\n",
       " ('M.A (Mejores Amigos)', 'BM', 12, datetime.date(2023, 5, 12)),\n",
       " ('Yandel 150', 'Yandel', 13, datetime.date(2023, 5, 12)),\n",
       " ('Jagger.mp3', 'Emilia', 14, datetime.date(2023, 5, 12)),\n",
       " ('ADIÓS', 'Maria Becerra', 15, datetime.date(2023, 5, 12)),\n",
       " ('TQG', 'KAROL G', 16, datetime.date(2023, 5, 12)),\n",
       " ('Cupido', 'TINI', 17, datetime.date(2023, 5, 12)),\n",
       " ('MERCHO', 'LiL CaKe', 18, datetime.date(2023, 5, 12)),\n",
       " ('BESO', 'ROSALÍA', 19, datetime.date(2023, 5, 12)),\n",
       " ('Si No Te Tengo / Ángel / Aquello Que Pasó', 'Ke Personajes', 20, datetime.date(2023, 5, 12)),\n",
       " ('Quiero Creer', 'Luck Ra', 21, datetime.date(2023, 5, 12)),\n",
       " ('Costumbres - Vivo', 'Damas Gratis', 22, datetime.date(2023, 5, 12)),\n",
       " ('qué le pasa conmigo?', 'Nicki Nicole', 23, datetime.date(2023, 5, 12)),\n",
       " ('Muñecas', 'TINI', 24, datetime.date(2023, 5, 12)),\n",
       " ('DISCOTEKA (feat. Locura Mix)', 'The La Planta', 25, datetime.date(2023, 5, 12)),\n",
       " ('Hey Mor', 'Ozuna', 26, datetime.date(2023, 5, 12)),\n",
       " ('Feliz Cumpleaños Ferxxo', 'Feid', 27, datetime.date(2023, 5, 12)),\n",
       " ('No_se_ve.mp3', 'Emilia', 28, datetime.date(2023, 5, 12)),\n",
       " ('AL BORDE', 'Milo j', 29, datetime.date(2023, 5, 12)),\n",
       " ('Te Escapas De Mis Brazos (Remix)', 'ECKO', 30, datetime.date(2023, 5, 12)),\n",
       " ('Amanecemos', 'La Joaqui', 31, datetime.date(2023, 5, 12)),\n",
       " ('aPoLLo13', 'Duki', 32, datetime.date(2023, 5, 12)),\n",
       " ('Marisola - Remix', 'Cris Mj', 33, datetime.date(2023, 5, 12)),\n",
       " ('Normal', 'Feid', 34, datetime.date(2023, 5, 12)),\n",
       " ('PUNTO G', 'Quevedo', 35, datetime.date(2023, 5, 12)),\n",
       " ('CHORRITO PA LAS ANIMAS', 'Feid', 36, datetime.date(2023, 5, 12)),\n",
       " ('La Bachata', 'Manuel Turizo', 37, datetime.date(2023, 5, 12)),\n",
       " ('Milagrosa', 'Milo j', 38, datetime.date(2023, 5, 12)),\n",
       " ('Shakira: Bzrp Music Sessions, Vol. 53', 'Bizarrap', 39, datetime.date(2023, 5, 12)),\n",
       " ('ARRANCARMELO', 'WOS', 40, datetime.date(2023, 5, 12)),\n",
       " ('Coco Chanel', 'Eladio Carrion', 41, datetime.date(2023, 5, 12)),\n",
       " ('Azote - Remix', 'Lolo OG', 42, datetime.date(2023, 5, 12)),\n",
       " ('Uno los Dos', 'Miranda!', 43, datetime.date(2023, 5, 12)),\n",
       " ('Vida Gangster', 'Lauty Gram', 44, datetime.date(2023, 5, 12)),\n",
       " ('Lisa', 'Young Miko', 45, datetime.date(2023, 5, 12)),\n",
       " ('Niña Bonita', 'Feid', 46, datetime.date(2023, 5, 12)),\n",
       " ('PARA AMARTE A TI', 'KHEA', 47, datetime.date(2023, 5, 12)),\n",
       " ('Quevedo: Bzrp Music Sessions, Vol. 52', 'Bizarrap', 48, datetime.date(2023, 5, 12)),\n",
       " ('Dos Besitos', 'La Joaqui', 49, datetime.date(2023, 5, 12)),\n",
       " ('PLAYA DEL INGLÉS', 'Quevedo', 50, datetime.date(2023, 5, 12))]"
      ]
     },
     "execution_count": 13,
     "metadata": {},
     "output_type": "execute_result"
    }
   ],
   "source": [
    "conn.execute(text('SELECT * FROM top_50_arg_songs')).fetchall()"
   ]
  },
  {
   "cell_type": "code",
   "execution_count": 15,
   "id": "cbe05a7f-9bad-423d-acca-bc094896d214",
   "metadata": {
    "tags": []
   },
   "outputs": [
    {
     "data": {
      "text/plain": [
       "<sqlalchemy.engine.cursor.CursorResult at 0x7f451e5ea2c0>"
      ]
     },
     "execution_count": 15,
     "metadata": {},
     "output_type": "execute_result"
    }
   ],
   "source": [
    "conn.execute(text('TRUNCATE my_song_history'))"
   ]
  },
  {
   "cell_type": "code",
   "execution_count": 19,
   "id": "2346a81d-175c-42fd-98f8-9a5211222546",
   "metadata": {
    "tags": []
   },
   "outputs": [
    {
     "data": {
      "text/plain": [
       "[('Anti-Hero', 'Midnights', 'Taylor Swift', 200, datetime.datetime(2023, 5, 11, 23, 0, 55)),\n",
       " ('Anti-Hero', 'Midnights', 'Taylor Swift', 200, datetime.datetime(2023, 5, 11, 22, 31)),\n",
       " ('THE DAY', 'Butterfly Effect', 'PornoGraffitti', 241, datetime.datetime(2023, 5, 11, 18, 11, 15)),\n",
       " ('Anti-Hero', 'Midnights', 'Taylor Swift', 200, datetime.datetime(2023, 5, 11, 15, 18, 54)),\n",
       " ('Butterfly', 'NO SLEEP TILL TOKYO', 'MIYAVI', 199, datetime.datetime(2023, 5, 11, 15, 14, 30)),\n",
       " ('絶体絶命', 'PURE', 'Cö Shu Nie', 148, datetime.datetime(2023, 5, 11, 15, 11, 7)),\n",
       " ('Blank Space', '1989 (Deluxe)', 'Taylor Swift', 231, datetime.datetime(2023, 5, 11, 15, 8, 39)),\n",
       " ('We Can Work It Out - Remastered 2015', '1 (Remastered)', 'The Beatles', 135, datetime.datetime(2023, 5, 11, 15, 4, 46)),\n",
       " ('99.9', '99.9', 'MOB CHOIR', 188, datetime.datetime(2023, 5, 11, 15, 2, 30)),\n",
       " ('In the End', 'Hybrid Theory (Bonus Edition)', 'Linkin Park', 216, datetime.datetime(2023, 5, 11, 14, 59, 20)),\n",
       " ('THE SHAPE OF', '安月名莉子 1st Album「BLUE MOON」', '安月名莉子', 212, datetime.datetime(2023, 5, 11, 14, 55, 43))]"
      ]
     },
     "execution_count": 19,
     "metadata": {},
     "output_type": "execute_result"
    }
   ],
   "source": [
    "conn.execute(text(\"SELECT * FROM my_song_history\")).fetchall()"
   ]
  },
  {
   "cell_type": "code",
   "execution_count": null,
   "id": "0313d8ff-adc2-4a06-978d-fd740a5a29b9",
   "metadata": {},
   "outputs": [],
   "source": []
  }
 ],
 "metadata": {
  "kernelspec": {
   "display_name": "Python 3 (ipykernel)",
   "language": "python",
   "name": "python3"
  },
  "language_info": {
   "codemirror_mode": {
    "name": "ipython",
    "version": 3
   },
   "file_extension": ".py",
   "mimetype": "text/x-python",
   "name": "python",
   "nbconvert_exporter": "python",
   "pygments_lexer": "ipython3",
   "version": "3.10.10"
  }
 },
 "nbformat": 4,
 "nbformat_minor": 5
}
