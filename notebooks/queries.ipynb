{
 "cells": [
  {
   "cell_type": "code",
   "execution_count": 3,
   "id": "ed1b9f19-363d-45f8-89fa-2b1ff5b3f1b2",
   "metadata": {
    "tags": []
   },
   "outputs": [],
   "source": [
    "from sqlalchemy import create_engine ,text\n",
    "from sqlalchemy.pool import StaticPool\n",
    "\n",
    "engine = create_engine('postgresql://username:password@db:5432/database', poolclass =StaticPool,isolation_level=\"AUTOCOMMIT\")"
   ]
  },
  {
   "cell_type": "code",
   "execution_count": 10,
   "id": "417c5ab2-e57a-4827-b610-86efe5deb879",
   "metadata": {
    "tags": []
   },
   "outputs": [
    {
     "ename": "ImportError",
     "evalue": "cannot import name 'engine' from 'engine' (/notebooks/engine.py)",
     "output_type": "error",
     "traceback": [
      "\u001b[0;31m---------------------------------------------------------------------------\u001b[0m",
      "\u001b[0;31mImportError\u001b[0m                               Traceback (most recent call last)",
      "Cell \u001b[0;32mIn[10], line 1\u001b[0m\n\u001b[0;32m----> 1\u001b[0m \u001b[38;5;28;01mfrom\u001b[39;00m \u001b[38;5;21;01mengine\u001b[39;00m \u001b[38;5;28;01mimport\u001b[39;00m engine\n",
      "\u001b[0;31mImportError\u001b[0m: cannot import name 'engine' from 'engine' (/notebooks/engine.py)"
     ]
    }
   ],
   "source": [
    "from engine import engine"
   ]
  },
  {
   "cell_type": "code",
   "execution_count": 7,
   "id": "e42ce293-2a93-468f-b353-d538f087e921",
   "metadata": {
    "tags": []
   },
   "outputs": [],
   "source": [
    "engine2 = create_engine('postgresql://username:password@db:5432/database', poolclass =StaticPool,isolation_level=\"AUTOCOMMIT\")"
   ]
  },
  {
   "cell_type": "code",
   "execution_count": 8,
   "id": "3f040747-34d1-4d2c-b89a-87bb9b8b6c23",
   "metadata": {
    "tags": []
   },
   "outputs": [
    {
     "data": {
      "text/plain": [
       "139719859004048"
      ]
     },
     "execution_count": 8,
     "metadata": {},
     "output_type": "execute_result"
    }
   ],
   "source": [
    "id(engine2)"
   ]
  },
  {
   "cell_type": "code",
   "execution_count": 2,
   "id": "78b53fb8-0ed0-4270-9411-e544dafdb042",
   "metadata": {
    "tags": []
   },
   "outputs": [],
   "source": [
    "conn = engine.connect()"
   ]
  },
  {
   "cell_type": "code",
   "execution_count": 5,
   "id": "1607ef1f-3d62-4532-85ce-4557cb86ca29",
   "metadata": {
    "tags": []
   },
   "outputs": [
    {
     "data": {
      "text/plain": [
       "<sqlalchemy.engine.cursor.CursorResult at 0x7f28eeeff0a0>"
      ]
     },
     "execution_count": 5,
     "metadata": {},
     "output_type": "execute_result"
    }
   ],
   "source": [
    "conn.execute(text(\"ROLLBACK;\"))"
   ]
  },
  {
   "cell_type": "code",
   "execution_count": 17,
   "id": "ee02d912-d22f-42cf-8b29-678da6f60a39",
   "metadata": {
    "tags": []
   },
   "outputs": [
    {
     "data": {
      "text/plain": [
       "<sqlalchemy.engine.cursor.CursorResult at 0x7f28eecf79a0>"
      ]
     },
     "execution_count": 17,
     "metadata": {},
     "output_type": "execute_result"
    }
   ],
   "source": [
    "conn.execute(text(\"\"\"CREATE table if not exists my_song_history(\n",
    "    song_name varchar(35),\n",
    "    album varchar(35),\n",
    "    artist varchar(30),\n",
    "    duration_sec int,\n",
    "    played_at TIMESTAMP WITHOUT TIME ZONE,\n",
    "    PRIMARY KEY(played_at)\n",
    ");\"\"\"))"
   ]
  },
  {
   "cell_type": "code",
   "execution_count": 7,
   "id": "f1eaa706-a6e5-4f7d-a43e-2a9dfdf27993",
   "metadata": {
    "tags": []
   },
   "outputs": [
    {
     "data": {
      "text/plain": [
       "[('Un Finde | CROSSOVER #2', 'Big One', 1, datetime.date(2023, 5, 10)),\n",
       " ('Pobre Corazón - En Vivo', 'Ke Personajes', 2, datetime.date(2023, 5, 10)),\n",
       " ('un x100to', 'Grupo Frontera', 3, datetime.date(2023, 5, 10)),\n",
       " ('La Bebe - Remix', 'Yng Lvcas', 4, datetime.date(2023, 5, 10)),\n",
       " ('M.A - Remix', 'BM', 5, datetime.date(2023, 5, 10)),\n",
       " ('Classy 101', 'Feid', 6, datetime.date(2023, 5, 10)),\n",
       " ('En La Intimidad | CROSSOVER #1', 'Big One', 7, datetime.date(2023, 5, 10)),\n",
       " ('Perfecta (Versión 2023)', 'Miranda!', 8, datetime.date(2023, 5, 10)),\n",
       " ('Ya No Vuelvas (Versión Cuarteto)', 'Luck Ra', 9, datetime.date(2023, 5, 10)),\n",
       " ('Rara Vez', 'Taiu', 10, datetime.date(2023, 5, 10)),\n",
       " ('Ella Baila Sola', 'Eslabon Armado', 11, datetime.date(2023, 5, 10)),\n",
       " ('Yandel 150', 'Yandel', 12, datetime.date(2023, 5, 10)),\n",
       " ('Jagger.mp3', 'Emilia', 13, datetime.date(2023, 5, 10)),\n",
       " ('M.A (Mejores Amigos)', 'BM', 14, datetime.date(2023, 5, 10)),\n",
       " ('TQG', 'KAROL G', 15, datetime.date(2023, 5, 10)),\n",
       " ('Cupido', 'TINI', 16, datetime.date(2023, 5, 10)),\n",
       " ('ADIÓS', 'Maria Becerra', 17, datetime.date(2023, 5, 10)),\n",
       " ('MERCHO', 'LiL CaKe', 18, datetime.date(2023, 5, 10)),\n",
       " ('BESO', 'ROSALÍA', 19, datetime.date(2023, 5, 10)),\n",
       " ('Si No Te Tengo / Ángel / Aquello Que Pasó', 'Ke Personajes', 20, datetime.date(2023, 5, 10)),\n",
       " ('Quiero Creer', 'Luck Ra', 21, datetime.date(2023, 5, 10)),\n",
       " ('Muñecas', 'TINI', 22, datetime.date(2023, 5, 10)),\n",
       " ('Hey Mor', 'Ozuna', 23, datetime.date(2023, 5, 10)),\n",
       " ('Costumbres - Vivo', 'Damas Gratis', 24, datetime.date(2023, 5, 10)),\n",
       " ('Feliz Cumpleaños Ferxxo', 'Feid', 25, datetime.date(2023, 5, 10)),\n",
       " ('DISCOTEKA (feat. Locura Mix)', 'The La Planta', 26, datetime.date(2023, 5, 10)),\n",
       " ('qué le pasa conmigo?', 'Nicki Nicole', 27, datetime.date(2023, 5, 10)),\n",
       " ('aPoLLo13', 'Duki', 28, datetime.date(2023, 5, 10)),\n",
       " ('Te Escapas De Mis Brazos (Remix)', 'ECKO', 29, datetime.date(2023, 5, 10)),\n",
       " ('AL BORDE', 'Milo j', 30, datetime.date(2023, 5, 10)),\n",
       " ('Shakira: Bzrp Music Sessions, Vol. 53', 'Bizarrap', 31, datetime.date(2023, 5, 10)),\n",
       " ('Normal', 'Feid', 32, datetime.date(2023, 5, 10)),\n",
       " ('Amanecemos', 'La Joaqui', 33, datetime.date(2023, 5, 10)),\n",
       " ('Marisola - Remix', 'Cris Mj', 34, datetime.date(2023, 5, 10)),\n",
       " ('Milagrosa', 'Milo j', 35, datetime.date(2023, 5, 10)),\n",
       " ('La Bachata', 'Manuel Turizo', 36, datetime.date(2023, 5, 10)),\n",
       " ('PARA AMARTE A TI', 'KHEA', 37, datetime.date(2023, 5, 10)),\n",
       " ('PUNTO G', 'Quevedo', 38, datetime.date(2023, 5, 10)),\n",
       " ('CHORRITO PA LAS ANIMAS', 'Feid', 39, datetime.date(2023, 5, 10)),\n",
       " ('No_se_ve.mp3', 'Emilia', 40, datetime.date(2023, 5, 10)),\n",
       " ('ARRANCARMELO', 'WOS', 41, datetime.date(2023, 5, 10)),\n",
       " ('Coco Chanel', 'Eladio Carrion', 42, datetime.date(2023, 5, 10)),\n",
       " ('Vida Gangster', 'Lauty Gram', 43, datetime.date(2023, 5, 10)),\n",
       " ('Azote - Remix', 'Lolo OG', 44, datetime.date(2023, 5, 10)),\n",
       " ('Uno los Dos', 'Miranda!', 45, datetime.date(2023, 5, 10)),\n",
       " ('Lisa', 'Young Miko', 46, datetime.date(2023, 5, 10)),\n",
       " ('Quevedo: Bzrp Music Sessions, Vol. 52', 'Bizarrap', 47, datetime.date(2023, 5, 10)),\n",
       " ('PLAYA DEL INGLÉS', 'Quevedo', 48, datetime.date(2023, 5, 10)),\n",
       " ('Dos Besitos', 'La Joaqui', 49, datetime.date(2023, 5, 10)),\n",
       " ('Le doy perreo', 'Callejero Fino', 50, datetime.date(2023, 5, 10)),\n",
       " ('Un Finde | CROSSOVER #2', 'Big One', 1, datetime.date(2023, 5, 11)),\n",
       " ('Pobre Corazón - En Vivo', 'Ke Personajes', 2, datetime.date(2023, 5, 11)),\n",
       " ('La Bebe - Remix', 'Yng Lvcas', 3, datetime.date(2023, 5, 11)),\n",
       " ('un x100to', 'Grupo Frontera', 4, datetime.date(2023, 5, 11)),\n",
       " ('M.A - Remix', 'BM', 5, datetime.date(2023, 5, 11)),\n",
       " ('Classy 101', 'Feid', 6, datetime.date(2023, 5, 11)),\n",
       " ('En La Intimidad | CROSSOVER #1', 'Big One', 7, datetime.date(2023, 5, 11)),\n",
       " ('Perfecta (Versión 2023)', 'Miranda!', 8, datetime.date(2023, 5, 11)),\n",
       " ('Ya No Vuelvas (Versión Cuarteto)', 'Luck Ra', 9, datetime.date(2023, 5, 11)),\n",
       " ('Rara Vez', 'Taiu', 10, datetime.date(2023, 5, 11)),\n",
       " ('Ella Baila Sola', 'Eslabon Armado', 11, datetime.date(2023, 5, 11)),\n",
       " ('Yandel 150', 'Yandel', 12, datetime.date(2023, 5, 11)),\n",
       " ('Jagger.mp3', 'Emilia', 13, datetime.date(2023, 5, 11)),\n",
       " ('M.A (Mejores Amigos)', 'BM', 14, datetime.date(2023, 5, 11)),\n",
       " ('ADIÓS', 'Maria Becerra', 15, datetime.date(2023, 5, 11)),\n",
       " ('TQG', 'KAROL G', 16, datetime.date(2023, 5, 11)),\n",
       " ('Cupido', 'TINI', 17, datetime.date(2023, 5, 11)),\n",
       " ('MERCHO', 'LiL CaKe', 18, datetime.date(2023, 5, 11)),\n",
       " ('BESO', 'ROSALÍA', 19, datetime.date(2023, 5, 11)),\n",
       " ('Si No Te Tengo / Ángel / Aquello Que Pasó', 'Ke Personajes', 20, datetime.date(2023, 5, 11)),\n",
       " ('Quiero Creer', 'Luck Ra', 21, datetime.date(2023, 5, 11)),\n",
       " ('Muñecas', 'TINI', 22, datetime.date(2023, 5, 11)),\n",
       " ('Costumbres - Vivo', 'Damas Gratis', 23, datetime.date(2023, 5, 11)),\n",
       " ('Hey Mor', 'Ozuna', 24, datetime.date(2023, 5, 11)),\n",
       " ('DISCOTEKA (feat. Locura Mix)', 'The La Planta', 25, datetime.date(2023, 5, 11)),\n",
       " ('qué le pasa conmigo?', 'Nicki Nicole', 26, datetime.date(2023, 5, 11)),\n",
       " ('Feliz Cumpleaños Ferxxo', 'Feid', 27, datetime.date(2023, 5, 11)),\n",
       " ('AL BORDE', 'Milo j', 28, datetime.date(2023, 5, 11)),\n",
       " ('Te Escapas De Mis Brazos (Remix)', 'ECKO', 29, datetime.date(2023, 5, 11)),\n",
       " ('aPoLLo13', 'Duki', 30, datetime.date(2023, 5, 11)),\n",
       " ('Amanecemos', 'La Joaqui', 31, datetime.date(2023, 5, 11)),\n",
       " ('Normal', 'Feid', 32, datetime.date(2023, 5, 11)),\n",
       " ('Shakira: Bzrp Music Sessions, Vol. 53', 'Bizarrap', 33, datetime.date(2023, 5, 11)),\n",
       " ('Marisola - Remix', 'Cris Mj', 34, datetime.date(2023, 5, 11)),\n",
       " ('No_se_ve.mp3', 'Emilia', 35, datetime.date(2023, 5, 11)),\n",
       " ('PUNTO G', 'Quevedo', 36, datetime.date(2023, 5, 11)),\n",
       " ('Milagrosa', 'Milo j', 37, datetime.date(2023, 5, 11)),\n",
       " ('CHORRITO PA LAS ANIMAS', 'Feid', 38, datetime.date(2023, 5, 11)),\n",
       " ('La Bachata', 'Manuel Turizo', 39, datetime.date(2023, 5, 11)),\n",
       " ('PARA AMARTE A TI', 'KHEA', 40, datetime.date(2023, 5, 11)),\n",
       " ('ARRANCARMELO', 'WOS', 41, datetime.date(2023, 5, 11)),\n",
       " ('Uno los Dos', 'Miranda!', 42, datetime.date(2023, 5, 11)),\n",
       " ('Coco Chanel', 'Eladio Carrion', 43, datetime.date(2023, 5, 11)),\n",
       " ('Azote - Remix', 'Lolo OG', 44, datetime.date(2023, 5, 11)),\n",
       " ('Vida Gangster', 'Lauty Gram', 45, datetime.date(2023, 5, 11)),\n",
       " ('Lisa', 'Young Miko', 46, datetime.date(2023, 5, 11)),\n",
       " ('Quevedo: Bzrp Music Sessions, Vol. 52', 'Bizarrap', 47, datetime.date(2023, 5, 11)),\n",
       " ('PLAYA DEL INGLÉS', 'Quevedo', 48, datetime.date(2023, 5, 11)),\n",
       " ('Le doy perreo', 'Callejero Fino', 49, datetime.date(2023, 5, 11)),\n",
       " ('Dos Besitos', 'La Joaqui', 50, datetime.date(2023, 5, 11))]"
      ]
     },
     "execution_count": 7,
     "metadata": {},
     "output_type": "execute_result"
    }
   ],
   "source": [
    "conn.execute(text('SELECT * FROM top_50_arg_songs')).fetchall()"
   ]
  },
  {
   "cell_type": "code",
   "execution_count": 10,
   "id": "2346a81d-175c-42fd-98f8-9a5211222546",
   "metadata": {
    "tags": []
   },
   "outputs": [
    {
     "ename": "ProgrammingError",
     "evalue": "(psycopg2.errors.InvalidSchemaName) schema \"datetime\" does not exist\nLINE 1: ...gs VALUES ('Le doy perreo', 'Callejero Fino', 50, datetime.d...\n                                                             ^\n\n[SQL: INSERT INTO top_50_arg_songs VALUES ('Le doy perreo', 'Callejero Fino', 50, datetime.date(2000, 5, 9))]\n(Background on this error at: https://sqlalche.me/e/20/f405)",
     "output_type": "error",
     "traceback": [
      "\u001b[0;31m---------------------------------------------------------------------------\u001b[0m",
      "\u001b[0;31mInvalidSchemaName\u001b[0m                         Traceback (most recent call last)",
      "File \u001b[0;32m/opt/conda/lib/python3.10/site-packages/sqlalchemy/engine/base.py:1963\u001b[0m, in \u001b[0;36mConnection._exec_single_context\u001b[0;34m(self, dialect, context, statement, parameters)\u001b[0m\n\u001b[1;32m   1962\u001b[0m     \u001b[38;5;28;01mif\u001b[39;00m \u001b[38;5;129;01mnot\u001b[39;00m evt_handled:\n\u001b[0;32m-> 1963\u001b[0m         \u001b[38;5;28;43mself\u001b[39;49m\u001b[38;5;241;43m.\u001b[39;49m\u001b[43mdialect\u001b[49m\u001b[38;5;241;43m.\u001b[39;49m\u001b[43mdo_execute\u001b[49m\u001b[43m(\u001b[49m\n\u001b[1;32m   1964\u001b[0m \u001b[43m            \u001b[49m\u001b[43mcursor\u001b[49m\u001b[43m,\u001b[49m\u001b[43m \u001b[49m\u001b[43mstr_statement\u001b[49m\u001b[43m,\u001b[49m\u001b[43m \u001b[49m\u001b[43meffective_parameters\u001b[49m\u001b[43m,\u001b[49m\u001b[43m \u001b[49m\u001b[43mcontext\u001b[49m\n\u001b[1;32m   1965\u001b[0m \u001b[43m        \u001b[49m\u001b[43m)\u001b[49m\n\u001b[1;32m   1967\u001b[0m \u001b[38;5;28;01mif\u001b[39;00m \u001b[38;5;28mself\u001b[39m\u001b[38;5;241m.\u001b[39m_has_events \u001b[38;5;129;01mor\u001b[39;00m \u001b[38;5;28mself\u001b[39m\u001b[38;5;241m.\u001b[39mengine\u001b[38;5;241m.\u001b[39m_has_events:\n",
      "File \u001b[0;32m/opt/conda/lib/python3.10/site-packages/sqlalchemy/engine/default.py:920\u001b[0m, in \u001b[0;36mDefaultDialect.do_execute\u001b[0;34m(self, cursor, statement, parameters, context)\u001b[0m\n\u001b[1;32m    919\u001b[0m \u001b[38;5;28;01mdef\u001b[39;00m \u001b[38;5;21mdo_execute\u001b[39m(\u001b[38;5;28mself\u001b[39m, cursor, statement, parameters, context\u001b[38;5;241m=\u001b[39m\u001b[38;5;28;01mNone\u001b[39;00m):\n\u001b[0;32m--> 920\u001b[0m     \u001b[43mcursor\u001b[49m\u001b[38;5;241;43m.\u001b[39;49m\u001b[43mexecute\u001b[49m\u001b[43m(\u001b[49m\u001b[43mstatement\u001b[49m\u001b[43m,\u001b[49m\u001b[43m \u001b[49m\u001b[43mparameters\u001b[49m\u001b[43m)\u001b[49m\n",
      "\u001b[0;31mInvalidSchemaName\u001b[0m: schema \"datetime\" does not exist\nLINE 1: ...gs VALUES ('Le doy perreo', 'Callejero Fino', 50, datetime.d...\n                                                             ^\n",
      "\nThe above exception was the direct cause of the following exception:\n",
      "\u001b[0;31mProgrammingError\u001b[0m                          Traceback (most recent call last)",
      "Cell \u001b[0;32mIn[10], line 1\u001b[0m\n\u001b[0;32m----> 1\u001b[0m \u001b[43mconn\u001b[49m\u001b[38;5;241;43m.\u001b[39;49m\u001b[43mexecute\u001b[49m\u001b[43m(\u001b[49m\u001b[43mtext\u001b[49m\u001b[43m(\u001b[49m\u001b[38;5;124;43m\"\u001b[39;49m\u001b[38;5;124;43mINSERT INTO top_50_arg_songs VALUES (\u001b[39;49m\u001b[38;5;124;43m'\u001b[39;49m\u001b[38;5;124;43mLe doy perreo\u001b[39;49m\u001b[38;5;124;43m'\u001b[39;49m\u001b[38;5;124;43m, \u001b[39;49m\u001b[38;5;124;43m'\u001b[39;49m\u001b[38;5;124;43mCallejero Fino\u001b[39;49m\u001b[38;5;124;43m'\u001b[39;49m\u001b[38;5;124;43m, 50, datetime.date(2000, 5, 9))\u001b[39;49m\u001b[38;5;124;43m\"\u001b[39;49m\u001b[43m)\u001b[49m\u001b[43m)\u001b[49m\n",
      "File \u001b[0;32m/opt/conda/lib/python3.10/site-packages/sqlalchemy/engine/base.py:1413\u001b[0m, in \u001b[0;36mConnection.execute\u001b[0;34m(self, statement, parameters, execution_options)\u001b[0m\n\u001b[1;32m   1411\u001b[0m     \u001b[38;5;28;01mraise\u001b[39;00m exc\u001b[38;5;241m.\u001b[39mObjectNotExecutableError(statement) \u001b[38;5;28;01mfrom\u001b[39;00m \u001b[38;5;21;01merr\u001b[39;00m\n\u001b[1;32m   1412\u001b[0m \u001b[38;5;28;01melse\u001b[39;00m:\n\u001b[0;32m-> 1413\u001b[0m     \u001b[38;5;28;01mreturn\u001b[39;00m \u001b[43mmeth\u001b[49m\u001b[43m(\u001b[49m\n\u001b[1;32m   1414\u001b[0m \u001b[43m        \u001b[49m\u001b[38;5;28;43mself\u001b[39;49m\u001b[43m,\u001b[49m\n\u001b[1;32m   1415\u001b[0m \u001b[43m        \u001b[49m\u001b[43mdistilled_parameters\u001b[49m\u001b[43m,\u001b[49m\n\u001b[1;32m   1416\u001b[0m \u001b[43m        \u001b[49m\u001b[43mexecution_options\u001b[49m\u001b[43m \u001b[49m\u001b[38;5;129;43;01mor\u001b[39;49;00m\u001b[43m \u001b[49m\u001b[43mNO_OPTIONS\u001b[49m\u001b[43m,\u001b[49m\n\u001b[1;32m   1417\u001b[0m \u001b[43m    \u001b[49m\u001b[43m)\u001b[49m\n",
      "File \u001b[0;32m/opt/conda/lib/python3.10/site-packages/sqlalchemy/sql/elements.py:483\u001b[0m, in \u001b[0;36mClauseElement._execute_on_connection\u001b[0;34m(self, connection, distilled_params, execution_options)\u001b[0m\n\u001b[1;32m    481\u001b[0m     \u001b[38;5;28;01mif\u001b[39;00m TYPE_CHECKING:\n\u001b[1;32m    482\u001b[0m         \u001b[38;5;28;01massert\u001b[39;00m \u001b[38;5;28misinstance\u001b[39m(\u001b[38;5;28mself\u001b[39m, Executable)\n\u001b[0;32m--> 483\u001b[0m     \u001b[38;5;28;01mreturn\u001b[39;00m \u001b[43mconnection\u001b[49m\u001b[38;5;241;43m.\u001b[39;49m\u001b[43m_execute_clauseelement\u001b[49m\u001b[43m(\u001b[49m\n\u001b[1;32m    484\u001b[0m \u001b[43m        \u001b[49m\u001b[38;5;28;43mself\u001b[39;49m\u001b[43m,\u001b[49m\u001b[43m \u001b[49m\u001b[43mdistilled_params\u001b[49m\u001b[43m,\u001b[49m\u001b[43m \u001b[49m\u001b[43mexecution_options\u001b[49m\n\u001b[1;32m    485\u001b[0m \u001b[43m    \u001b[49m\u001b[43m)\u001b[49m\n\u001b[1;32m    486\u001b[0m \u001b[38;5;28;01melse\u001b[39;00m:\n\u001b[1;32m    487\u001b[0m     \u001b[38;5;28;01mraise\u001b[39;00m exc\u001b[38;5;241m.\u001b[39mObjectNotExecutableError(\u001b[38;5;28mself\u001b[39m)\n",
      "File \u001b[0;32m/opt/conda/lib/python3.10/site-packages/sqlalchemy/engine/base.py:1637\u001b[0m, in \u001b[0;36mConnection._execute_clauseelement\u001b[0;34m(self, elem, distilled_parameters, execution_options)\u001b[0m\n\u001b[1;32m   1625\u001b[0m compiled_cache: Optional[CompiledCacheType] \u001b[38;5;241m=\u001b[39m execution_options\u001b[38;5;241m.\u001b[39mget(\n\u001b[1;32m   1626\u001b[0m     \u001b[38;5;124m\"\u001b[39m\u001b[38;5;124mcompiled_cache\u001b[39m\u001b[38;5;124m\"\u001b[39m, \u001b[38;5;28mself\u001b[39m\u001b[38;5;241m.\u001b[39mengine\u001b[38;5;241m.\u001b[39m_compiled_cache\n\u001b[1;32m   1627\u001b[0m )\n\u001b[1;32m   1629\u001b[0m compiled_sql, extracted_params, cache_hit \u001b[38;5;241m=\u001b[39m elem\u001b[38;5;241m.\u001b[39m_compile_w_cache(\n\u001b[1;32m   1630\u001b[0m     dialect\u001b[38;5;241m=\u001b[39mdialect,\n\u001b[1;32m   1631\u001b[0m     compiled_cache\u001b[38;5;241m=\u001b[39mcompiled_cache,\n\u001b[0;32m   (...)\u001b[0m\n\u001b[1;32m   1635\u001b[0m     linting\u001b[38;5;241m=\u001b[39m\u001b[38;5;28mself\u001b[39m\u001b[38;5;241m.\u001b[39mdialect\u001b[38;5;241m.\u001b[39mcompiler_linting \u001b[38;5;241m|\u001b[39m compiler\u001b[38;5;241m.\u001b[39mWARN_LINTING,\n\u001b[1;32m   1636\u001b[0m )\n\u001b[0;32m-> 1637\u001b[0m ret \u001b[38;5;241m=\u001b[39m \u001b[38;5;28;43mself\u001b[39;49m\u001b[38;5;241;43m.\u001b[39;49m\u001b[43m_execute_context\u001b[49m\u001b[43m(\u001b[49m\n\u001b[1;32m   1638\u001b[0m \u001b[43m    \u001b[49m\u001b[43mdialect\u001b[49m\u001b[43m,\u001b[49m\n\u001b[1;32m   1639\u001b[0m \u001b[43m    \u001b[49m\u001b[43mdialect\u001b[49m\u001b[38;5;241;43m.\u001b[39;49m\u001b[43mexecution_ctx_cls\u001b[49m\u001b[38;5;241;43m.\u001b[39;49m\u001b[43m_init_compiled\u001b[49m\u001b[43m,\u001b[49m\n\u001b[1;32m   1640\u001b[0m \u001b[43m    \u001b[49m\u001b[43mcompiled_sql\u001b[49m\u001b[43m,\u001b[49m\n\u001b[1;32m   1641\u001b[0m \u001b[43m    \u001b[49m\u001b[43mdistilled_parameters\u001b[49m\u001b[43m,\u001b[49m\n\u001b[1;32m   1642\u001b[0m \u001b[43m    \u001b[49m\u001b[43mexecution_options\u001b[49m\u001b[43m,\u001b[49m\n\u001b[1;32m   1643\u001b[0m \u001b[43m    \u001b[49m\u001b[43mcompiled_sql\u001b[49m\u001b[43m,\u001b[49m\n\u001b[1;32m   1644\u001b[0m \u001b[43m    \u001b[49m\u001b[43mdistilled_parameters\u001b[49m\u001b[43m,\u001b[49m\n\u001b[1;32m   1645\u001b[0m \u001b[43m    \u001b[49m\u001b[43melem\u001b[49m\u001b[43m,\u001b[49m\n\u001b[1;32m   1646\u001b[0m \u001b[43m    \u001b[49m\u001b[43mextracted_params\u001b[49m\u001b[43m,\u001b[49m\n\u001b[1;32m   1647\u001b[0m \u001b[43m    \u001b[49m\u001b[43mcache_hit\u001b[49m\u001b[38;5;241;43m=\u001b[39;49m\u001b[43mcache_hit\u001b[49m\u001b[43m,\u001b[49m\n\u001b[1;32m   1648\u001b[0m \u001b[43m\u001b[49m\u001b[43m)\u001b[49m\n\u001b[1;32m   1649\u001b[0m \u001b[38;5;28;01mif\u001b[39;00m has_events:\n\u001b[1;32m   1650\u001b[0m     \u001b[38;5;28mself\u001b[39m\u001b[38;5;241m.\u001b[39mdispatch\u001b[38;5;241m.\u001b[39mafter_execute(\n\u001b[1;32m   1651\u001b[0m         \u001b[38;5;28mself\u001b[39m,\n\u001b[1;32m   1652\u001b[0m         elem,\n\u001b[0;32m   (...)\u001b[0m\n\u001b[1;32m   1656\u001b[0m         ret,\n\u001b[1;32m   1657\u001b[0m     )\n",
      "File \u001b[0;32m/opt/conda/lib/python3.10/site-packages/sqlalchemy/engine/base.py:1841\u001b[0m, in \u001b[0;36mConnection._execute_context\u001b[0;34m(self, dialect, constructor, statement, parameters, execution_options, *args, **kw)\u001b[0m\n\u001b[1;32m   1836\u001b[0m     \u001b[38;5;28;01mreturn\u001b[39;00m \u001b[38;5;28mself\u001b[39m\u001b[38;5;241m.\u001b[39m_exec_insertmany_context(\n\u001b[1;32m   1837\u001b[0m         dialect,\n\u001b[1;32m   1838\u001b[0m         context,\n\u001b[1;32m   1839\u001b[0m     )\n\u001b[1;32m   1840\u001b[0m \u001b[38;5;28;01melse\u001b[39;00m:\n\u001b[0;32m-> 1841\u001b[0m     \u001b[38;5;28;01mreturn\u001b[39;00m \u001b[38;5;28;43mself\u001b[39;49m\u001b[38;5;241;43m.\u001b[39;49m\u001b[43m_exec_single_context\u001b[49m\u001b[43m(\u001b[49m\n\u001b[1;32m   1842\u001b[0m \u001b[43m        \u001b[49m\u001b[43mdialect\u001b[49m\u001b[43m,\u001b[49m\u001b[43m \u001b[49m\u001b[43mcontext\u001b[49m\u001b[43m,\u001b[49m\u001b[43m \u001b[49m\u001b[43mstatement\u001b[49m\u001b[43m,\u001b[49m\u001b[43m \u001b[49m\u001b[43mparameters\u001b[49m\n\u001b[1;32m   1843\u001b[0m \u001b[43m    \u001b[49m\u001b[43m)\u001b[49m\n",
      "File \u001b[0;32m/opt/conda/lib/python3.10/site-packages/sqlalchemy/engine/base.py:1982\u001b[0m, in \u001b[0;36mConnection._exec_single_context\u001b[0;34m(self, dialect, context, statement, parameters)\u001b[0m\n\u001b[1;32m   1979\u001b[0m     result \u001b[38;5;241m=\u001b[39m context\u001b[38;5;241m.\u001b[39m_setup_result_proxy()\n\u001b[1;32m   1981\u001b[0m \u001b[38;5;28;01mexcept\u001b[39;00m \u001b[38;5;167;01mBaseException\u001b[39;00m \u001b[38;5;28;01mas\u001b[39;00m e:\n\u001b[0;32m-> 1982\u001b[0m     \u001b[38;5;28;43mself\u001b[39;49m\u001b[38;5;241;43m.\u001b[39;49m\u001b[43m_handle_dbapi_exception\u001b[49m\u001b[43m(\u001b[49m\n\u001b[1;32m   1983\u001b[0m \u001b[43m        \u001b[49m\u001b[43me\u001b[49m\u001b[43m,\u001b[49m\u001b[43m \u001b[49m\u001b[43mstr_statement\u001b[49m\u001b[43m,\u001b[49m\u001b[43m \u001b[49m\u001b[43meffective_parameters\u001b[49m\u001b[43m,\u001b[49m\u001b[43m \u001b[49m\u001b[43mcursor\u001b[49m\u001b[43m,\u001b[49m\u001b[43m \u001b[49m\u001b[43mcontext\u001b[49m\n\u001b[1;32m   1984\u001b[0m \u001b[43m    \u001b[49m\u001b[43m)\u001b[49m\n\u001b[1;32m   1986\u001b[0m \u001b[38;5;28;01mreturn\u001b[39;00m result\n",
      "File \u001b[0;32m/opt/conda/lib/python3.10/site-packages/sqlalchemy/engine/base.py:2339\u001b[0m, in \u001b[0;36mConnection._handle_dbapi_exception\u001b[0;34m(self, e, statement, parameters, cursor, context, is_sub_exec)\u001b[0m\n\u001b[1;32m   2337\u001b[0m \u001b[38;5;28;01melif\u001b[39;00m should_wrap:\n\u001b[1;32m   2338\u001b[0m     \u001b[38;5;28;01massert\u001b[39;00m sqlalchemy_exception \u001b[38;5;129;01mis\u001b[39;00m \u001b[38;5;129;01mnot\u001b[39;00m \u001b[38;5;28;01mNone\u001b[39;00m\n\u001b[0;32m-> 2339\u001b[0m     \u001b[38;5;28;01mraise\u001b[39;00m sqlalchemy_exception\u001b[38;5;241m.\u001b[39mwith_traceback(exc_info[\u001b[38;5;241m2\u001b[39m]) \u001b[38;5;28;01mfrom\u001b[39;00m \u001b[38;5;21;01me\u001b[39;00m\n\u001b[1;32m   2340\u001b[0m \u001b[38;5;28;01melse\u001b[39;00m:\n\u001b[1;32m   2341\u001b[0m     \u001b[38;5;28;01massert\u001b[39;00m exc_info[\u001b[38;5;241m1\u001b[39m] \u001b[38;5;129;01mis\u001b[39;00m \u001b[38;5;129;01mnot\u001b[39;00m \u001b[38;5;28;01mNone\u001b[39;00m\n",
      "File \u001b[0;32m/opt/conda/lib/python3.10/site-packages/sqlalchemy/engine/base.py:1963\u001b[0m, in \u001b[0;36mConnection._exec_single_context\u001b[0;34m(self, dialect, context, statement, parameters)\u001b[0m\n\u001b[1;32m   1961\u001b[0m                 \u001b[38;5;28;01mbreak\u001b[39;00m\n\u001b[1;32m   1962\u001b[0m     \u001b[38;5;28;01mif\u001b[39;00m \u001b[38;5;129;01mnot\u001b[39;00m evt_handled:\n\u001b[0;32m-> 1963\u001b[0m         \u001b[38;5;28;43mself\u001b[39;49m\u001b[38;5;241;43m.\u001b[39;49m\u001b[43mdialect\u001b[49m\u001b[38;5;241;43m.\u001b[39;49m\u001b[43mdo_execute\u001b[49m\u001b[43m(\u001b[49m\n\u001b[1;32m   1964\u001b[0m \u001b[43m            \u001b[49m\u001b[43mcursor\u001b[49m\u001b[43m,\u001b[49m\u001b[43m \u001b[49m\u001b[43mstr_statement\u001b[49m\u001b[43m,\u001b[49m\u001b[43m \u001b[49m\u001b[43meffective_parameters\u001b[49m\u001b[43m,\u001b[49m\u001b[43m \u001b[49m\u001b[43mcontext\u001b[49m\n\u001b[1;32m   1965\u001b[0m \u001b[43m        \u001b[49m\u001b[43m)\u001b[49m\n\u001b[1;32m   1967\u001b[0m \u001b[38;5;28;01mif\u001b[39;00m \u001b[38;5;28mself\u001b[39m\u001b[38;5;241m.\u001b[39m_has_events \u001b[38;5;129;01mor\u001b[39;00m \u001b[38;5;28mself\u001b[39m\u001b[38;5;241m.\u001b[39mengine\u001b[38;5;241m.\u001b[39m_has_events:\n\u001b[1;32m   1968\u001b[0m     \u001b[38;5;28mself\u001b[39m\u001b[38;5;241m.\u001b[39mdispatch\u001b[38;5;241m.\u001b[39mafter_cursor_execute(\n\u001b[1;32m   1969\u001b[0m         \u001b[38;5;28mself\u001b[39m,\n\u001b[1;32m   1970\u001b[0m         cursor,\n\u001b[0;32m   (...)\u001b[0m\n\u001b[1;32m   1974\u001b[0m         context\u001b[38;5;241m.\u001b[39mexecutemany,\n\u001b[1;32m   1975\u001b[0m     )\n",
      "File \u001b[0;32m/opt/conda/lib/python3.10/site-packages/sqlalchemy/engine/default.py:920\u001b[0m, in \u001b[0;36mDefaultDialect.do_execute\u001b[0;34m(self, cursor, statement, parameters, context)\u001b[0m\n\u001b[1;32m    919\u001b[0m \u001b[38;5;28;01mdef\u001b[39;00m \u001b[38;5;21mdo_execute\u001b[39m(\u001b[38;5;28mself\u001b[39m, cursor, statement, parameters, context\u001b[38;5;241m=\u001b[39m\u001b[38;5;28;01mNone\u001b[39;00m):\n\u001b[0;32m--> 920\u001b[0m     \u001b[43mcursor\u001b[49m\u001b[38;5;241;43m.\u001b[39;49m\u001b[43mexecute\u001b[49m\u001b[43m(\u001b[49m\u001b[43mstatement\u001b[49m\u001b[43m,\u001b[49m\u001b[43m \u001b[49m\u001b[43mparameters\u001b[49m\u001b[43m)\u001b[49m\n",
      "\u001b[0;31mProgrammingError\u001b[0m: (psycopg2.errors.InvalidSchemaName) schema \"datetime\" does not exist\nLINE 1: ...gs VALUES ('Le doy perreo', 'Callejero Fino', 50, datetime.d...\n                                                             ^\n\n[SQL: INSERT INTO top_50_arg_songs VALUES ('Le doy perreo', 'Callejero Fino', 50, datetime.date(2000, 5, 9))]\n(Background on this error at: https://sqlalche.me/e/20/f405)"
     ]
    }
   ],
   "source": [
    "conn.execute(text(\"INSERT INTO top_50_arg_songs VALUES ('Le doy perreo', 'Callejero Fino', 50, datetime.date(2000, 5, 9))\"))"
   ]
  },
  {
   "cell_type": "code",
   "execution_count": null,
   "id": "0313d8ff-adc2-4a06-978d-fd740a5a29b9",
   "metadata": {},
   "outputs": [],
   "source": []
  }
 ],
 "metadata": {
  "kernelspec": {
   "display_name": "Python 3 (ipykernel)",
   "language": "python",
   "name": "python3"
  },
  "language_info": {
   "codemirror_mode": {
    "name": "ipython",
    "version": 3
   },
   "file_extension": ".py",
   "mimetype": "text/x-python",
   "name": "python",
   "nbconvert_exporter": "python",
   "pygments_lexer": "ipython3",
   "version": "3.10.10"
  }
 },
 "nbformat": 4,
 "nbformat_minor": 5
}
