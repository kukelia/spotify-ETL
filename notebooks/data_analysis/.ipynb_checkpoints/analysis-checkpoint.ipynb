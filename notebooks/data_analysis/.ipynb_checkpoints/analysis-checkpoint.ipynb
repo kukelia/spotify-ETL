{
 "cells": [
  {
   "cell_type": "markdown",
   "metadata": {
    "tags": []
   },
   "source": [
    "# Top 50 Songs Argentina Data Analysis"
   ]
  },
  {
   "cell_type": "code",
   "execution_count": 27,
   "metadata": {
    "tags": []
   },
   "outputs": [],
   "source": [
    "import pandas as pd\n",
    "import datetime\n",
    "import sys\n",
    "sys.path.append('../')\n",
    "from engine import engine\n",
    "\n",
    "top_50_df = pd.read_sql_table('top_50_arg_songs', engine)"
   ]
  },
  {
   "cell_type": "code",
   "execution_count": 4,
   "metadata": {
    "tags": []
   },
   "outputs": [
    {
     "data": {
      "text/html": [
       "<div>\n",
       "<style scoped>\n",
       "    .dataframe tbody tr th:only-of-type {\n",
       "        vertical-align: middle;\n",
       "    }\n",
       "\n",
       "    .dataframe tbody tr th {\n",
       "        vertical-align: top;\n",
       "    }\n",
       "\n",
       "    .dataframe thead th {\n",
       "        text-align: right;\n",
       "    }\n",
       "</style>\n",
       "<table border=\"1\" class=\"dataframe\">\n",
       "  <thead>\n",
       "    <tr style=\"text-align: right;\">\n",
       "      <th></th>\n",
       "      <th>song_name</th>\n",
       "      <th>artist</th>\n",
       "      <th>rank</th>\n",
       "      <th>extract_date</th>\n",
       "    </tr>\n",
       "  </thead>\n",
       "  <tbody>\n",
       "    <tr>\n",
       "      <th>0</th>\n",
       "      <td>Un Finde | CROSSOVER #2</td>\n",
       "      <td>Big One</td>\n",
       "      <td>1</td>\n",
       "      <td>2023-05-10</td>\n",
       "    </tr>\n",
       "    <tr>\n",
       "      <th>1</th>\n",
       "      <td>Pobre Corazón - En Vivo</td>\n",
       "      <td>Ke Personajes</td>\n",
       "      <td>2</td>\n",
       "      <td>2023-05-10</td>\n",
       "    </tr>\n",
       "    <tr>\n",
       "      <th>2</th>\n",
       "      <td>un x100to</td>\n",
       "      <td>Grupo Frontera</td>\n",
       "      <td>3</td>\n",
       "      <td>2023-05-10</td>\n",
       "    </tr>\n",
       "    <tr>\n",
       "      <th>3</th>\n",
       "      <td>La Bebe - Remix</td>\n",
       "      <td>Yng Lvcas</td>\n",
       "      <td>4</td>\n",
       "      <td>2023-05-10</td>\n",
       "    </tr>\n",
       "  </tbody>\n",
       "</table>\n",
       "</div>"
      ],
      "text/plain": [
       "                 song_name          artist  rank extract_date\n",
       "0  Un Finde | CROSSOVER #2         Big One     1   2023-05-10\n",
       "1  Pobre Corazón - En Vivo   Ke Personajes     2   2023-05-10\n",
       "2                un x100to  Grupo Frontera     3   2023-05-10\n",
       "3          La Bebe - Remix       Yng Lvcas     4   2023-05-10"
      ]
     },
     "execution_count": 4,
     "metadata": {},
     "output_type": "execute_result"
    }
   ],
   "source": [
    "top_50_df.head(4)"
   ]
  },
  {
   "cell_type": "markdown",
   "metadata": {},
   "source": [
    "Selecting Samples from May 10th to June 10th (1 Month)"
   ]
  },
  {
   "cell_type": "code",
   "execution_count": 24,
   "metadata": {
    "tags": []
   },
   "outputs": [],
   "source": [
    "# top_50_df = top_50_df.loc[top_50_df['extract_date'] <= pd.to_datetime(datetime.date(2023,6,10))]"
   ]
  },
  {
   "cell_type": "code",
   "execution_count": 28,
   "metadata": {
    "tags": []
   },
   "outputs": [
    {
     "data": {
      "text/plain": [
       "song_name       69\n",
       "artist          47\n",
       "rank            50\n",
       "extract_date    30\n",
       "dtype: int64"
      ]
     },
     "execution_count": 28,
     "metadata": {},
     "output_type": "execute_result"
    }
   ],
   "source": [
    "top_50_df.nunique()"
   ]
  },
  {
   "cell_type": "code",
   "execution_count": 25,
   "metadata": {
    "tags": []
   },
   "outputs": [
    {
     "data": {
      "text/html": [
       "<div>\n",
       "<style scoped>\n",
       "    .dataframe tbody tr th:only-of-type {\n",
       "        vertical-align: middle;\n",
       "    }\n",
       "\n",
       "    .dataframe tbody tr th {\n",
       "        vertical-align: top;\n",
       "    }\n",
       "\n",
       "    .dataframe thead th {\n",
       "        text-align: right;\n",
       "    }\n",
       "</style>\n",
       "<table border=\"1\" class=\"dataframe\">\n",
       "  <thead>\n",
       "    <tr style=\"text-align: right;\">\n",
       "      <th></th>\n",
       "      <th>0</th>\n",
       "    </tr>\n",
       "  </thead>\n",
       "  <tbody>\n",
       "    <tr>\n",
       "      <th>0</th>\n",
       "      <td>2023-05-10</td>\n",
       "    </tr>\n",
       "    <tr>\n",
       "      <th>1</th>\n",
       "      <td>2023-05-12</td>\n",
       "    </tr>\n",
       "    <tr>\n",
       "      <th>3</th>\n",
       "      <td>2023-05-13</td>\n",
       "    </tr>\n",
       "    <tr>\n",
       "      <th>4</th>\n",
       "      <td>2023-05-14</td>\n",
       "    </tr>\n",
       "    <tr>\n",
       "      <th>2</th>\n",
       "      <td>2023-05-18</td>\n",
       "    </tr>\n",
       "    <tr>\n",
       "      <th>5</th>\n",
       "      <td>2023-05-19</td>\n",
       "    </tr>\n",
       "    <tr>\n",
       "      <th>6</th>\n",
       "      <td>2023-05-20</td>\n",
       "    </tr>\n",
       "    <tr>\n",
       "      <th>7</th>\n",
       "      <td>2023-05-21</td>\n",
       "    </tr>\n",
       "    <tr>\n",
       "      <th>8</th>\n",
       "      <td>2023-05-23</td>\n",
       "    </tr>\n",
       "    <tr>\n",
       "      <th>9</th>\n",
       "      <td>2023-05-24</td>\n",
       "    </tr>\n",
       "    <tr>\n",
       "      <th>10</th>\n",
       "      <td>2023-05-25</td>\n",
       "    </tr>\n",
       "    <tr>\n",
       "      <th>11</th>\n",
       "      <td>2023-05-26</td>\n",
       "    </tr>\n",
       "    <tr>\n",
       "      <th>12</th>\n",
       "      <td>2023-05-27</td>\n",
       "    </tr>\n",
       "    <tr>\n",
       "      <th>13</th>\n",
       "      <td>2023-05-28</td>\n",
       "    </tr>\n",
       "    <tr>\n",
       "      <th>14</th>\n",
       "      <td>2023-05-29</td>\n",
       "    </tr>\n",
       "    <tr>\n",
       "      <th>15</th>\n",
       "      <td>2023-05-30</td>\n",
       "    </tr>\n",
       "    <tr>\n",
       "      <th>16</th>\n",
       "      <td>2023-05-31</td>\n",
       "    </tr>\n",
       "    <tr>\n",
       "      <th>17</th>\n",
       "      <td>2023-06-01</td>\n",
       "    </tr>\n",
       "    <tr>\n",
       "      <th>18</th>\n",
       "      <td>2023-06-02</td>\n",
       "    </tr>\n",
       "    <tr>\n",
       "      <th>19</th>\n",
       "      <td>2023-06-03</td>\n",
       "    </tr>\n",
       "    <tr>\n",
       "      <th>20</th>\n",
       "      <td>2023-06-04</td>\n",
       "    </tr>\n",
       "    <tr>\n",
       "      <th>21</th>\n",
       "      <td>2023-06-05</td>\n",
       "    </tr>\n",
       "    <tr>\n",
       "      <th>22</th>\n",
       "      <td>2023-06-06</td>\n",
       "    </tr>\n",
       "    <tr>\n",
       "      <th>23</th>\n",
       "      <td>2023-06-07</td>\n",
       "    </tr>\n",
       "    <tr>\n",
       "      <th>24</th>\n",
       "      <td>2023-06-08</td>\n",
       "    </tr>\n",
       "    <tr>\n",
       "      <th>25</th>\n",
       "      <td>2023-06-09</td>\n",
       "    </tr>\n",
       "    <tr>\n",
       "      <th>26</th>\n",
       "      <td>2023-06-10</td>\n",
       "    </tr>\n",
       "  </tbody>\n",
       "</table>\n",
       "</div>"
      ],
      "text/plain": [
       "            0\n",
       "0  2023-05-10\n",
       "1  2023-05-12\n",
       "3  2023-05-13\n",
       "4  2023-05-14\n",
       "2  2023-05-18\n",
       "5  2023-05-19\n",
       "6  2023-05-20\n",
       "7  2023-05-21\n",
       "8  2023-05-23\n",
       "9  2023-05-24\n",
       "10 2023-05-25\n",
       "11 2023-05-26\n",
       "12 2023-05-27\n",
       "13 2023-05-28\n",
       "14 2023-05-29\n",
       "15 2023-05-30\n",
       "16 2023-05-31\n",
       "17 2023-06-01\n",
       "18 2023-06-02\n",
       "19 2023-06-03\n",
       "20 2023-06-04\n",
       "21 2023-06-05\n",
       "22 2023-06-06\n",
       "23 2023-06-07\n",
       "24 2023-06-08\n",
       "25 2023-06-09\n",
       "26 2023-06-10"
      ]
     },
     "execution_count": 25,
     "metadata": {},
     "output_type": "execute_result"
    }
   ],
   "source": [
    "pd.DataFrame( top_50_df['extract_date'].unique()).sort_values(0)"
   ]
  },
  {
   "cell_type": "markdown",
   "metadata": {
    "tags": []
   },
   "source": [
    "## Top 10 songs during May"
   ]
  },
  {
   "cell_type": "code",
   "execution_count": 37,
   "metadata": {
    "tags": []
   },
   "outputs": [],
   "source": [
    "def calculate_points(df):\n",
    "    return (1/df['rank'])\n",
    "top_50_df['points'] = top_50_df.apply(calculate_points, axis=1)"
   ]
  },
  {
   "cell_type": "code",
   "execution_count": 46,
   "metadata": {
    "tags": []
   },
   "outputs": [
    {
     "data": {
      "text/html": [
       "<div>\n",
       "<style scoped>\n",
       "    .dataframe tbody tr th:only-of-type {\n",
       "        vertical-align: middle;\n",
       "    }\n",
       "\n",
       "    .dataframe tbody tr th {\n",
       "        vertical-align: top;\n",
       "    }\n",
       "\n",
       "    .dataframe thead th {\n",
       "        text-align: right;\n",
       "    }\n",
       "</style>\n",
       "<table border=\"1\" class=\"dataframe\">\n",
       "  <thead>\n",
       "    <tr style=\"text-align: right;\">\n",
       "      <th></th>\n",
       "      <th></th>\n",
       "      <th>rank</th>\n",
       "      <th>points</th>\n",
       "    </tr>\n",
       "    <tr>\n",
       "      <th>song_name</th>\n",
       "      <th>artist</th>\n",
       "      <th></th>\n",
       "      <th></th>\n",
       "    </tr>\n",
       "  </thead>\n",
       "  <tbody>\n",
       "    <tr>\n",
       "      <th>MORNING</th>\n",
       "      <th>Milo j</th>\n",
       "      <td>50</td>\n",
       "      <td>0.020000</td>\n",
       "    </tr>\n",
       "    <tr>\n",
       "      <th>Le doy perreo</th>\n",
       "      <th>Callejero Fino</th>\n",
       "      <td>50</td>\n",
       "      <td>0.020000</td>\n",
       "    </tr>\n",
       "    <tr>\n",
       "      <th>Dos Días en la Vida - EADDA9223 (feat. Lali &amp; Nicki Nicole)</th>\n",
       "      <th>Fito Paez</th>\n",
       "      <td>48</td>\n",
       "      <td>0.020833</td>\n",
       "    </tr>\n",
       "    <tr>\n",
       "      <th>Tu Turrito</th>\n",
       "      <th>Rei</th>\n",
       "      <td>98</td>\n",
       "      <td>0.040833</td>\n",
       "    </tr>\n",
       "    <tr>\n",
       "      <th>Milagrosa Tiktok</th>\n",
       "      <th>scuboom</th>\n",
       "      <td>91</td>\n",
       "      <td>0.044218</td>\n",
       "    </tr>\n",
       "    <tr>\n",
       "      <th>...</th>\n",
       "      <th>...</th>\n",
       "      <td>...</td>\n",
       "      <td>...</td>\n",
       "    </tr>\n",
       "    <tr>\n",
       "      <th>Peso Pluma: Bzrp Music Sessions, Vol. 55</th>\n",
       "      <th>Bizarrap</th>\n",
       "      <td>30</td>\n",
       "      <td>5.333333</td>\n",
       "    </tr>\n",
       "    <tr>\n",
       "      <th>M.A - Remix</th>\n",
       "      <th>BM</th>\n",
       "      <td>191</td>\n",
       "      <td>6.253882</td>\n",
       "    </tr>\n",
       "    <tr>\n",
       "      <th>Los del Espacio</th>\n",
       "      <th>LIT killah</th>\n",
       "      <td>11</td>\n",
       "      <td>11.000000</td>\n",
       "    </tr>\n",
       "    <tr>\n",
       "      <th>La Bebe - Remix</th>\n",
       "      <th>Yng Lvcas</th>\n",
       "      <td>89</td>\n",
       "      <td>11.633333</td>\n",
       "    </tr>\n",
       "    <tr>\n",
       "      <th>Un Finde | CROSSOVER #2</th>\n",
       "      <th>Big One</th>\n",
       "      <td>46</td>\n",
       "      <td>23.333333</td>\n",
       "    </tr>\n",
       "  </tbody>\n",
       "</table>\n",
       "<p>69 rows × 2 columns</p>\n",
       "</div>"
      ],
      "text/plain": [
       "                                                                   rank   \n",
       "song_name                                          artist                 \n",
       "MORNING                                            Milo j            50  \\\n",
       "Le doy perreo                                      Callejero Fino    50   \n",
       "Dos Días en la Vida - EADDA9223 (feat. Lali & N... Fito Paez         48   \n",
       "Tu Turrito                                         Rei               98   \n",
       "Milagrosa Tiktok                                   scuboom           91   \n",
       "...                                                                 ...   \n",
       "Peso Pluma: Bzrp Music Sessions, Vol. 55           Bizarrap          30   \n",
       "M.A - Remix                                        BM               191   \n",
       "Los del Espacio                                    LIT killah        11   \n",
       "La Bebe - Remix                                    Yng Lvcas         89   \n",
       "Un Finde | CROSSOVER #2                            Big One           46   \n",
       "\n",
       "                                                                      points  \n",
       "song_name                                          artist                     \n",
       "MORNING                                            Milo j           0.020000  \n",
       "Le doy perreo                                      Callejero Fino   0.020000  \n",
       "Dos Días en la Vida - EADDA9223 (feat. Lali & N... Fito Paez        0.020833  \n",
       "Tu Turrito                                         Rei              0.040833  \n",
       "Milagrosa Tiktok                                   scuboom          0.044218  \n",
       "...                                                                      ...  \n",
       "Peso Pluma: Bzrp Music Sessions, Vol. 55           Bizarrap         5.333333  \n",
       "M.A - Remix                                        BM               6.253882  \n",
       "Los del Espacio                                    LIT killah      11.000000  \n",
       "La Bebe - Remix                                    Yng Lvcas       11.633333  \n",
       "Un Finde | CROSSOVER #2                            Big One         23.333333  \n",
       "\n",
       "[69 rows x 2 columns]"
      ]
     },
     "execution_count": 46,
     "metadata": {},
     "output_type": "execute_result"
    }
   ],
   "source": [
    "top_50_df.drop('extract_date',axis=1).groupby(['song_name','artist']).agg('sum').sort_values('points')"
   ]
  },
  {
   "cell_type": "code",
   "execution_count": null,
   "metadata": {},
   "outputs": [],
   "source": [
    "sort_values"
   ]
  }
 ],
 "metadata": {
  "kernelspec": {
   "display_name": "Python 3 (ipykernel)",
   "language": "python",
   "name": "python3"
  },
  "language_info": {
   "codemirror_mode": {
    "name": "ipython",
    "version": 3
   },
   "file_extension": ".py",
   "mimetype": "text/x-python",
   "name": "python",
   "nbconvert_exporter": "python",
   "pygments_lexer": "ipython3",
   "version": "3.10.10"
  }
 },
 "nbformat": 4,
 "nbformat_minor": 4
}
