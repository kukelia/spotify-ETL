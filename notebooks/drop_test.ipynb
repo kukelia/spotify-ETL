{
 "cells": [
  {
   "cell_type": "code",
   "execution_count": 8,
   "metadata": {},
   "outputs": [
    {
     "name": "stdout",
     "output_type": "stream",
     "text": [
      "actualizado\n",
      "se creo instancia\n"
     ]
    }
   ],
   "source": [
    "import datetime\n",
    "import sys\n",
    "import pandas as pd\n",
    "sys.path.append('../dags')\n",
    "from spotify_personal_played import extract, transform\n",
    "raw = extract()"
   ]
  },
  {
   "cell_type": "code",
   "execution_count": 10,
   "metadata": {},
   "outputs": [],
   "source": [
    "raw_data = raw\n",
    "myList = []\n",
    "for song in raw_data['items']:\n",
    "    myList.append(\n",
    "        {\n",
    "            'song_name' : song['track']['name'],\n",
    "            'artist' : song['track']['artists'][0]['name'], #only care for main artist\n",
    "            'album' : song['track']['album']['name'],\n",
    "            'duration_ms' : song['track']['duration_ms'],\n",
    "            'played_at' : song['played_at']\n",
    "        }\n",
    "    )\n",
    "df = pd.DataFrame(myList)"
   ]
  },
  {
   "cell_type": "code",
   "execution_count": 12,
   "metadata": {},
   "outputs": [
    {
     "data": {
      "text/plain": [
       "0   2023-05-26 12:04:41\n",
       "1   2023-05-26 11:24:45\n",
       "2   2023-05-25 20:52:17\n",
       "3   2023-05-25 19:13:20\n",
       "4   2023-05-25 18:59:09\n",
       "5   2023-05-25 17:28:19\n",
       "6   2023-05-25 15:14:52\n",
       "7   2023-05-25 13:43:00\n",
       "8   2023-05-25 12:50:33\n",
       "Name: played_at, dtype: datetime64[ns]"
      ]
     },
     "execution_count": 12,
     "metadata": {},
     "output_type": "execute_result"
    }
   ],
   "source": [
    "df['played_at'] = pd.to_datetime(pd.to_datetime(df['played_at']).apply(lambda x: x -datetime.timedelta(hours=3)).dt.strftime('%Y/%m/%d %H:%M:%S'))\n",
    "df['played_at']"
   ]
  },
  {
   "cell_type": "code",
   "execution_count": 23,
   "metadata": {},
   "outputs": [
    {
     "name": "stdout",
     "output_type": "stream",
     "text": [
      "2023-05-25\n",
      "   song_name        artist      album  duration_ms           played_at\n",
      "0  Rebellion           Ado  Rebellion       178064 2023-05-26 12:04:41\n",
      "1    rashisa  SUPER BEAVER     aisuru       266520 2023-05-26 11:24:45\n",
      "Int64Index([0, 1], dtype='int64')\n"
     ]
    }
   ],
   "source": [
    "yesterday = datetime.datetime.today().date() - datetime.timedelta(days=1)\n",
    "print(yesterday)\n",
    "songs_to_remove = df.loc[df['played_at'].dt.date != yesterday]\n",
    "print(songs_to_remove)\n",
    "print(songs_to_remove.index)"
   ]
  },
  {
   "cell_type": "code",
   "execution_count": 7,
   "metadata": {},
   "outputs": [
    {
     "data": {
      "text/plain": [
       "Int64Index([ 1,  2,  3,  4,  5,  6,  7,  9, 10, 11, 12, 13, 14, 15, 16, 17, 18,\n",
       "            19, 20, 21, 22, 23, 24, 25, 26, 27, 28, 29, 30, 31, 32, 33, 34, 35,\n",
       "            36, 37, 38, 39, 40, 41, 42, 43, 44, 45, 46, 47, 48, 49],\n",
       "           dtype='int64')"
      ]
     },
     "execution_count": 7,
     "metadata": {},
     "output_type": "execute_result"
    }
   ],
   "source": [
    "indexes = df.loc[df['artist'] != 'Big One'].index\n",
    "indexes"
   ]
  },
  {
   "cell_type": "code",
   "execution_count": 8,
   "metadata": {},
   "outputs": [],
   "source": [
    "indexes = df.loc[df['artist'] == 'Big One'].index\n",
    "df.drop(inplace=True, index=indexes)"
   ]
  },
  {
   "cell_type": "code",
   "execution_count": 10,
   "metadata": {},
   "outputs": [
    {
     "name": "stdout",
     "output_type": "stream",
     "text": [
      "<built-in method index of str object at 0x000001C9AAC52730>\n",
      "<built-in method index of str object at 0x000001C9AAC52E30>\n",
      "<built-in method index of str object at 0x000001C9AAC526F0>\n",
      "<built-in method index of str object at 0x000001C9AAC52070>\n",
      "<built-in method index of str object at 0x000001C9AAC525B0>\n",
      "<built-in method index of str object at 0x000001C9AAC51FB0>\n",
      "<built-in method index of str object at 0x000001C9AAC53870>\n",
      "<built-in method index of str object at 0x000001C9AAC52130>\n",
      "<built-in method index of str object at 0x000001C9AAC53730>\n",
      "<built-in method index of str object at 0x000001C9AAC52D30>\n",
      "<built-in method index of str object at 0x000001C9AAC52F70>\n",
      "<built-in method index of str object at 0x000001C9AAC53930>\n",
      "<built-in method index of str object at 0x000001C9AABFE330>\n",
      "<built-in method index of str object at 0x000001C9AAC53870>\n",
      "<built-in method index of str object at 0x000001C9AAC526F0>\n",
      "<built-in method index of str object at 0x000001C9AABFE030>\n",
      "<built-in method index of str object at 0x000001C9AABFE1F0>\n",
      "<built-in method index of str object at 0x000001C9AABFDB30>\n",
      "<built-in method index of str object at 0x000001C9AABFFCB0>\n",
      "<built-in method index of str object at 0x000001C9AABFDDB0>\n",
      "<built-in method index of str object at 0x000001C9AABFF6F0>\n",
      "<built-in method index of str object at 0x000001C9AABFFBF0>\n",
      "<built-in method index of str object at 0x000001C9AAC26FD0>\n",
      "<built-in method index of str object at 0x000001C9AAC52130>\n",
      "<built-in method index of str object at 0x000001C9AAC53730>\n",
      "<built-in method index of str object at 0x000001C9AAC525B0>\n",
      "<built-in method index of str object at 0x000001C9AAC52E30>\n",
      "<built-in method index of str object at 0x000001C9AABFE830>\n",
      "<built-in method index of str object at 0x000001C9AABFE230>\n",
      "<built-in method index of str object at 0x000001C9AABFF6F0>\n",
      "<built-in method index of str object at 0x000001C9AABFD230>\n",
      "<built-in method index of str object at 0x000001C9AAC52E30>\n",
      "<built-in method index of str object at 0x000001C9AABFEC70>\n",
      "<built-in method index of str object at 0x000001C9AABFEF70>\n",
      "<built-in method index of str object at 0x000001C9AABFD8B0>\n",
      "<built-in method index of str object at 0x000001C9AABFE4F0>\n",
      "<built-in method index of str object at 0x000001C9AABFFCB0>\n",
      "<built-in method index of str object at 0x000001C9AABFF270>\n",
      "<built-in method index of str object at 0x000001C9AABFE730>\n",
      "<built-in method index of str object at 0x000001C9AABFD230>\n",
      "<built-in method index of str object at 0x000001C9AABFE5B0>\n",
      "<built-in method index of str object at 0x000001C9AABFFCB0>\n",
      "<built-in method index of str object at 0x000001C9AABFF7F0>\n",
      "<built-in method index of str object at 0x000001C9AABFEF30>\n",
      "<built-in method index of str object at 0x000001C9AABFDAB0>\n",
      "<built-in method index of str object at 0x000001C9AAC52E30>\n",
      "<built-in method index of str object at 0x000001C9AABFC3B0>\n",
      "<built-in method index of str object at 0x000001C9AAC52E30>\n"
     ]
    }
   ],
   "source": [
    "for record in df['artist']:\n",
    "    print(record.index)"
   ]
  },
  {
   "cell_type": "code",
   "execution_count": 9,
   "metadata": {},
   "outputs": [
    {
     "data": {
      "text/html": [
       "<div>\n",
       "<style scoped>\n",
       "    .dataframe tbody tr th:only-of-type {\n",
       "        vertical-align: middle;\n",
       "    }\n",
       "\n",
       "    .dataframe tbody tr th {\n",
       "        vertical-align: top;\n",
       "    }\n",
       "\n",
       "    .dataframe thead th {\n",
       "        text-align: right;\n",
       "    }\n",
       "</style>\n",
       "<table border=\"1\" class=\"dataframe\">\n",
       "  <thead>\n",
       "    <tr style=\"text-align: right;\">\n",
       "      <th></th>\n",
       "      <th>song_name</th>\n",
       "      <th>artist</th>\n",
       "      <th>rank</th>\n",
       "      <th>extract_date</th>\n",
       "    </tr>\n",
       "  </thead>\n",
       "  <tbody>\n",
       "    <tr>\n",
       "      <th>1</th>\n",
       "      <td>La Bebe - Remix</td>\n",
       "      <td>Yng Lvcas</td>\n",
       "      <td>2</td>\n",
       "      <td>2023-05-24</td>\n",
       "    </tr>\n",
       "    <tr>\n",
       "      <th>2</th>\n",
       "      <td>Classy 101</td>\n",
       "      <td>Feid</td>\n",
       "      <td>3</td>\n",
       "      <td>2023-05-24</td>\n",
       "    </tr>\n",
       "    <tr>\n",
       "      <th>3</th>\n",
       "      <td>M.A - Remix</td>\n",
       "      <td>BM</td>\n",
       "      <td>4</td>\n",
       "      <td>2023-05-24</td>\n",
       "    </tr>\n",
       "    <tr>\n",
       "      <th>4</th>\n",
       "      <td>un x100to</td>\n",
       "      <td>Grupo Frontera</td>\n",
       "      <td>5</td>\n",
       "      <td>2023-05-24</td>\n",
       "    </tr>\n",
       "    <tr>\n",
       "      <th>5</th>\n",
       "      <td>Pobre Corazón - En Vivo</td>\n",
       "      <td>Ke Personajes</td>\n",
       "      <td>6</td>\n",
       "      <td>2023-05-24</td>\n",
       "    </tr>\n",
       "    <tr>\n",
       "      <th>6</th>\n",
       "      <td>Me Enteré</td>\n",
       "      <td>Tiago PZK</td>\n",
       "      <td>7</td>\n",
       "      <td>2023-05-24</td>\n",
       "    </tr>\n",
       "    <tr>\n",
       "      <th>7</th>\n",
       "      <td>No_se_ve.mp3</td>\n",
       "      <td>Emilia</td>\n",
       "      <td>8</td>\n",
       "      <td>2023-05-24</td>\n",
       "    </tr>\n",
       "    <tr>\n",
       "      <th>9</th>\n",
       "      <td>Ya No Vuelvas (Versión Cuarteto)</td>\n",
       "      <td>Luck Ra</td>\n",
       "      <td>10</td>\n",
       "      <td>2023-05-24</td>\n",
       "    </tr>\n",
       "    <tr>\n",
       "      <th>10</th>\n",
       "      <td>ADIÓS</td>\n",
       "      <td>Maria Becerra</td>\n",
       "      <td>11</td>\n",
       "      <td>2023-05-24</td>\n",
       "    </tr>\n",
       "    <tr>\n",
       "      <th>11</th>\n",
       "      <td>Ella Baila Sola</td>\n",
       "      <td>Eslabon Armado</td>\n",
       "      <td>12</td>\n",
       "      <td>2023-05-24</td>\n",
       "    </tr>\n",
       "  </tbody>\n",
       "</table>\n",
       "</div>"
      ],
      "text/plain": [
       "                           song_name          artist  rank extract_date\n",
       "1                    La Bebe - Remix       Yng Lvcas     2   2023-05-24\n",
       "2                         Classy 101            Feid     3   2023-05-24\n",
       "3                        M.A - Remix              BM     4   2023-05-24\n",
       "4                          un x100to  Grupo Frontera     5   2023-05-24\n",
       "5            Pobre Corazón - En Vivo   Ke Personajes     6   2023-05-24\n",
       "6                          Me Enteré       Tiago PZK     7   2023-05-24\n",
       "7                       No_se_ve.mp3          Emilia     8   2023-05-24\n",
       "9   Ya No Vuelvas (Versión Cuarteto)         Luck Ra    10   2023-05-24\n",
       "10                             ADIÓS   Maria Becerra    11   2023-05-24\n",
       "11                   Ella Baila Sola  Eslabon Armado    12   2023-05-24"
      ]
     },
     "execution_count": 9,
     "metadata": {},
     "output_type": "execute_result"
    }
   ],
   "source": [
    "df.head(10)"
   ]
  },
  {
   "cell_type": "code",
   "execution_count": null,
   "metadata": {},
   "outputs": [],
   "source": []
  }
 ],
 "metadata": {
  "kernelspec": {
   "display_name": "Python 3",
   "language": "python",
   "name": "python3"
  },
  "language_info": {
   "codemirror_mode": {
    "name": "ipython",
    "version": 3
   },
   "file_extension": ".py",
   "mimetype": "text/x-python",
   "name": "python",
   "nbconvert_exporter": "python",
   "pygments_lexer": "ipython3",
   "version": "3.10.0"
  },
  "orig_nbformat": 4
 },
 "nbformat": 4,
 "nbformat_minor": 2
}
