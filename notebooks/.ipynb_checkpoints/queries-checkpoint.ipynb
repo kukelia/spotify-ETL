{
 "cells": [
  {
   "cell_type": "code",
   "execution_count": 1,
   "id": "ed1b9f19-363d-45f8-89fa-2b1ff5b3f1b2",
   "metadata": {
    "tags": []
   },
   "outputs": [],
   "source": [
    "from sqlalchemy import create_engine ,text\n",
    "from sqlalchemy.pool import StaticPool"
   ]
  },
  {
   "cell_type": "code",
   "execution_count": 2,
   "id": "35df503c-a87e-4f41-bf97-328e37a2b643",
   "metadata": {
    "tags": []
   },
   "outputs": [],
   "source": [
    "engine = create_engine('postgresql://username:password@db:5432/database', poolclass =StaticPool)"
   ]
  },
  {
   "cell_type": "code",
   "execution_count": 3,
   "id": "78b53fb8-0ed0-4270-9411-e544dafdb042",
   "metadata": {
    "tags": []
   },
   "outputs": [],
   "source": [
    "conn = engine.connect()"
   ]
  },
  {
   "cell_type": "code",
   "execution_count": 4,
   "id": "f1eaa706-a6e5-4f7d-a43e-2a9dfdf27993",
   "metadata": {
    "tags": []
   },
   "outputs": [
    {
     "data": {
      "text/plain": [
       "[('Un Finde | CROSSOVER #2', 'Big One', 1, datetime.date(2023, 5, 7)),\n",
       " ('Pobre Corazón - En Vivo', 'Ke Personajes', 2, datetime.date(2023, 5, 7)),\n",
       " ('M.A - Remix', 'BM', 3, datetime.date(2023, 5, 7)),\n",
       " ('La Bebe - Remix', 'Yng Lvcas', 4, datetime.date(2023, 5, 7)),\n",
       " ('un x100to', 'Grupo Frontera', 5, datetime.date(2023, 5, 7)),\n",
       " ('En La Intimidad | CROSSOVER #1', 'Big One', 6, datetime.date(2023, 5, 7)),\n",
       " ('Classy 101', 'Feid', 7, datetime.date(2023, 5, 7)),\n",
       " ('Ya No Vuelvas (Versión Cuarteto)', 'Luck Ra', 8, datetime.date(2023, 5, 7)),\n",
       " ('Perfecta (Versión 2023)', 'Miranda!', 9, datetime.date(2023, 5, 7)),\n",
       " ('Rara Vez', 'Taiu', 10, datetime.date(2023, 5, 7)),\n",
       " ('M.A (Mejores Amigos)', 'BM', 11, datetime.date(2023, 5, 7)),\n",
       " ('Yandel 150', 'Yandel', 12, datetime.date(2023, 5, 7)),\n",
       " ('Jagger.mp3', 'Emilia', 13, datetime.date(2023, 5, 7)),\n",
       " ('TQG', 'KAROL G', 14, datetime.date(2023, 5, 7)),\n",
       " ('MERCHO', 'LiL CaKe', 15, datetime.date(2023, 5, 7)),\n",
       " ('Ella Baila Sola', 'Eslabon Armado', 16, datetime.date(2023, 5, 7)),\n",
       " ('Cupido', 'TINI', 17, datetime.date(2023, 5, 7)),\n",
       " ('ADIÓS', 'Maria Becerra', 18, datetime.date(2023, 5, 7)),\n",
       " ('Si No Te Tengo / Ángel / Aquello Que Pasó', 'Ke Personajes', 19, datetime.date(2023, 5, 7)),\n",
       " ('Quiero Creer', 'Luck Ra', 20, datetime.date(2023, 5, 7)),\n",
       " ('Costumbres - Vivo', 'Damas Gratis', 21, datetime.date(2023, 5, 7)),\n",
       " ('Muñecas', 'TINI', 22, datetime.date(2023, 5, 7)),\n",
       " ('BESO', 'ROSALÍA', 23, datetime.date(2023, 5, 7)),\n",
       " ('aPoLLo13', 'Duki', 24, datetime.date(2023, 5, 7)),\n",
       " ('Te Escapas De Mis Brazos (Remix)', 'ECKO', 25, datetime.date(2023, 5, 7)),\n",
       " ('DISCOTEKA (feat. Locura Mix)', 'The La Planta', 26, datetime.date(2023, 5, 7)),\n",
       " ('Feliz Cumpleaños Ferxxo', 'Feid', 27, datetime.date(2023, 5, 7)),\n",
       " ('Amanecemos', 'La Joaqui', 28, datetime.date(2023, 5, 7)),\n",
       " ('Hey Mor', 'Ozuna', 29, datetime.date(2023, 5, 7)),\n",
       " ('Shakira: Bzrp Music Sessions, Vol. 53', 'Bizarrap', 30, datetime.date(2023, 5, 7)),\n",
       " ('qué le pasa conmigo?', 'Nicki Nicole', 31, datetime.date(2023, 5, 7)),\n",
       " ('Milagrosa', 'Milo j', 32, datetime.date(2023, 5, 7)),\n",
       " ('AL BORDE', 'Milo j', 33, datetime.date(2023, 5, 7)),\n",
       " ('Normal', 'Feid', 34, datetime.date(2023, 5, 7)),\n",
       " ('Marisola - Remix', 'Cris Mj', 35, datetime.date(2023, 5, 7)),\n",
       " ('PUNTO G', 'Quevedo', 36, datetime.date(2023, 5, 7)),\n",
       " ('La Bachata', 'Manuel Turizo', 37, datetime.date(2023, 5, 7)),\n",
       " ('CHORRITO PA LAS ANIMAS', 'Feid', 38, datetime.date(2023, 5, 7)),\n",
       " ('Azote - Remix', 'Lolo OG', 39, datetime.date(2023, 5, 7)),\n",
       " ('ARRANCARMELO', 'WOS', 40, datetime.date(2023, 5, 7)),\n",
       " ('Dos Besitos', 'La Joaqui', 41, datetime.date(2023, 5, 7)),\n",
       " ('Vida Gangster', 'Lauty Gram', 42, datetime.date(2023, 5, 7)),\n",
       " ('Pa’ la Selección', 'La T y La M', 43, datetime.date(2023, 5, 7)),\n",
       " ('PARA AMARTE A TI', 'KHEA', 44, datetime.date(2023, 5, 7)),\n",
       " ('Quevedo: Bzrp Music Sessions, Vol. 52', 'Bizarrap', 45, datetime.date(2023, 5, 7)),\n",
       " ('Coco Chanel', 'Eladio Carrion', 46, datetime.date(2023, 5, 7)),\n",
       " ('PLAYA DEL INGLÉS', 'Quevedo', 47, datetime.date(2023, 5, 7)),\n",
       " ('Lisa', 'Young Miko', 48, datetime.date(2023, 5, 7)),\n",
       " ('Uno los Dos', 'Miranda!', 49, datetime.date(2023, 5, 7)),\n",
       " ('Otro Día Más', 'Ke Personajes', 50, datetime.date(2023, 5, 7))]"
      ]
     },
     "execution_count": 4,
     "metadata": {},
     "output_type": "execute_result"
    }
   ],
   "source": [
    "conn.execute(text('SELECT * FROM top_50_arg_songs')).fetchall()"
   ]
  },
  {
   "cell_type": "code",
   "execution_count": null,
   "id": "2346a81d-175c-42fd-98f8-9a5211222546",
   "metadata": {},
   "outputs": [],
   "source": []
  }
 ],
 "metadata": {
  "kernelspec": {
   "display_name": "Python 3 (ipykernel)",
   "language": "python",
   "name": "python3"
  },
  "language_info": {
   "codemirror_mode": {
    "name": "ipython",
    "version": 3
   },
   "file_extension": ".py",
   "mimetype": "text/x-python",
   "name": "python",
   "nbconvert_exporter": "python",
   "pygments_lexer": "ipython3",
   "version": "3.10.10"
  }
 },
 "nbformat": 4,
 "nbformat_minor": 5
}
