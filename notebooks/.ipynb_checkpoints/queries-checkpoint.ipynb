{
 "cells": [
  {
   "cell_type": "code",
   "execution_count": 1,
   "id": "417c5ab2-e57a-4827-b610-86efe5deb879",
   "metadata": {
    "tags": []
   },
   "outputs": [],
   "source": [
    "from sqlalchemy import create_engine ,text\n",
    "from sqlalchemy.pool import StaticPool\n",
    "from engine import engine"
   ]
  },
  {
   "cell_type": "code",
   "execution_count": 6,
   "id": "e42ce293-2a93-468f-b353-d538f087e921",
   "metadata": {
    "tags": []
   },
   "outputs": [],
   "source": [
    "engine2 = create_engine('postgresql://username:password@db:5432/database', poolclass =StaticPool,isolation_level=\"AUTOCOMMIT\")"
   ]
  },
  {
   "cell_type": "code",
   "execution_count": 2,
   "id": "78b53fb8-0ed0-4270-9411-e544dafdb042",
   "metadata": {
    "tags": []
   },
   "outputs": [],
   "source": [
    "conn = engine.connect()"
   ]
  },
  {
   "cell_type": "code",
   "execution_count": 17,
   "id": "a022c12f-9fd0-448c-927f-41c765de6ad3",
   "metadata": {
    "tags": []
   },
   "outputs": [
    {
     "data": {
      "text/plain": [
       "True"
      ]
     },
     "execution_count": 17,
     "metadata": {},
     "output_type": "execute_result"
    }
   ],
   "source": [
    "conn.execute(text(\"\"\"SELECT * FROM my_song_history \n",
    "        WHERE played_at BETWEEN '2023/5/11 00:00:00.00' AND '2023/5/11 23:59:59.999' LIMIT 1;\"\"\")).fetchone() == None"
   ]
  },
  {
   "cell_type": "code",
   "execution_count": 9,
   "id": "ad81ec2a-b98d-481c-9611-4bda9a3c7ee7",
   "metadata": {
    "tags": []
   },
   "outputs": [],
   "source": [
    "# conn.execute(text(\"\"\"DROP TABLE my_song_history;\"\"\"))"
   ]
  },
  {
   "cell_type": "code",
   "execution_count": 9,
   "id": "ee02d912-d22f-42cf-8b29-678da6f60a39",
   "metadata": {
    "tags": []
   },
   "outputs": [
    {
     "data": {
      "text/plain": [
       "<sqlalchemy.engine.cursor.CursorResult at 0x7fdbdf3df760>"
      ]
     },
     "execution_count": 9,
     "metadata": {},
     "output_type": "execute_result"
    }
   ],
   "source": [
    "conn.execute(text(\"\"\"CREATE table if not exists my_song_history(\n",
    "    song_name text,\n",
    "    album text,\n",
    "    artist text,\n",
    "    duration_sec int,\n",
    "    played_at TIMESTAMP WITHOUT TIME ZONE,\n",
    "    PRIMARY KEY(played_at)\n",
    ");\"\"\"))"
   ]
  },
  {
   "cell_type": "code",
   "execution_count": 7,
   "id": "f1eaa706-a6e5-4f7d-a43e-2a9dfdf27993",
   "metadata": {
    "tags": []
   },
   "outputs": [
    {
     "data": {
      "text/plain": [
       "<sqlalchemy.engine.cursor.CursorResult at 0x7f451e4248e0>"
      ]
     },
     "execution_count": 7,
     "metadata": {},
     "output_type": "execute_result"
    }
   ],
   "source": [
    "conn.execute(text('ROLLBACK'))"
   ]
  },
  {
   "cell_type": "code",
   "execution_count": 15,
   "id": "cbe05a7f-9bad-423d-acca-bc094896d214",
   "metadata": {
    "tags": []
   },
   "outputs": [
    {
     "data": {
      "text/plain": [
       "<sqlalchemy.engine.cursor.CursorResult at 0x7f451e5ea2c0>"
      ]
     },
     "execution_count": 15,
     "metadata": {},
     "output_type": "execute_result"
    }
   ],
   "source": [
    "conn.execute(text('TRUNCATE my_song_history'))"
   ]
  },
  {
   "cell_type": "code",
   "execution_count": 19,
   "id": "2346a81d-175c-42fd-98f8-9a5211222546",
   "metadata": {
    "tags": []
   },
   "outputs": [
    {
     "data": {
      "text/plain": [
       "[('Anti-Hero', 'Midnights', 'Taylor Swift', 200, datetime.datetime(2023, 5, 11, 23, 0, 55)),\n",
       " ('Anti-Hero', 'Midnights', 'Taylor Swift', 200, datetime.datetime(2023, 5, 11, 22, 31)),\n",
       " ('THE DAY', 'Butterfly Effect', 'PornoGraffitti', 241, datetime.datetime(2023, 5, 11, 18, 11, 15)),\n",
       " ('Anti-Hero', 'Midnights', 'Taylor Swift', 200, datetime.datetime(2023, 5, 11, 15, 18, 54)),\n",
       " ('Butterfly', 'NO SLEEP TILL TOKYO', 'MIYAVI', 199, datetime.datetime(2023, 5, 11, 15, 14, 30)),\n",
       " ('絶体絶命', 'PURE', 'Cö Shu Nie', 148, datetime.datetime(2023, 5, 11, 15, 11, 7)),\n",
       " ('Blank Space', '1989 (Deluxe)', 'Taylor Swift', 231, datetime.datetime(2023, 5, 11, 15, 8, 39)),\n",
       " ('We Can Work It Out - Remastered 2015', '1 (Remastered)', 'The Beatles', 135, datetime.datetime(2023, 5, 11, 15, 4, 46)),\n",
       " ('99.9', '99.9', 'MOB CHOIR', 188, datetime.datetime(2023, 5, 11, 15, 2, 30)),\n",
       " ('In the End', 'Hybrid Theory (Bonus Edition)', 'Linkin Park', 216, datetime.datetime(2023, 5, 11, 14, 59, 20)),\n",
       " ('THE SHAPE OF', '安月名莉子 1st Album「BLUE MOON」', '安月名莉子', 212, datetime.datetime(2023, 5, 11, 14, 55, 43))]"
      ]
     },
     "execution_count": 19,
     "metadata": {},
     "output_type": "execute_result"
    }
   ],
   "source": [
    "conn.execute(text(\"SELECT * FROM my_song_history\")).fetchall()"
   ]
  },
  {
   "cell_type": "code",
   "execution_count": null,
   "id": "0313d8ff-adc2-4a06-978d-fd740a5a29b9",
   "metadata": {},
   "outputs": [],
   "source": []
  }
 ],
 "metadata": {
  "kernelspec": {
   "display_name": "Python 3 (ipykernel)",
   "language": "python",
   "name": "python3"
  },
  "language_info": {
   "codemirror_mode": {
    "name": "ipython",
    "version": 3
   },
   "file_extension": ".py",
   "mimetype": "text/x-python",
   "name": "python",
   "nbconvert_exporter": "python",
   "pygments_lexer": "ipython3",
   "version": "3.10.10"
  }
 },
 "nbformat": 4,
 "nbformat_minor": 5
}
