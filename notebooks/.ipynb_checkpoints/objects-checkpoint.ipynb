{
 "cells": [
  {
   "cell_type": "code",
   "execution_count": null,
   "id": "d1cf0e2a-d5ed-44d7-995a-d83ebf3f3586",
   "metadata": {},
   "outputs": [],
   "source": [
    "class Manzana():\n",
    "    def __init__(x):\n",
    "        print(x + 3)\n",
    "        \n",
    "class Hola(Manzana):\n",
    "    def __init__(x=2):\n",
    "        super()."
   ]
  }
 ],
 "metadata": {
  "kernelspec": {
   "display_name": "Python 3 (ipykernel)",
   "language": "python",
   "name": "python3"
  },
  "language_info": {
   "codemirror_mode": {
    "name": "ipython",
    "version": 3
   },
   "file_extension": ".py",
   "mimetype": "text/x-python",
   "name": "python",
   "nbconvert_exporter": "python",
   "pygments_lexer": "ipython3",
   "version": "3.10.10"
  }
 },
 "nbformat": 4,
 "nbformat_minor": 5
}
