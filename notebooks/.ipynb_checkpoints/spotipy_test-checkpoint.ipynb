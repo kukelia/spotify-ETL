{
 "cells": [
  {
   "cell_type": "code",
   "execution_count": 1,
   "id": "5f1c09ef-d196-46c7-a1a4-37974071fb74",
   "metadata": {
    "tags": []
   },
   "outputs": [],
   "source": [
    "from spotipy import Spotify\n",
    "\n",
    "class Spoti2(Spotify):\n",
    "    \n",
    "    spoty_obj = None\n",
    "    \n",
    "    def __new__(cls,*args,**kwargs):\n",
    "        if cls.spoty_obj is None:\n",
    "            cls.spoty_obj = super().__new__(cls)\n",
    "            print('se creo instancia')\n",
    "        return cls.spoty_obj\n",
    "    def __init__(self, **args):\n",
    "        super().__init__(**args)"
   ]
  },
  {
   "cell_type": "code",
   "execution_count": 2,
   "id": "d2f8e0c6-e048-4b4c-b3ce-4e7834a84358",
   "metadata": {
    "tags": []
   },
   "outputs": [
    {
     "name": "stdout",
     "output_type": "stream",
     "text": [
      "se creo instancia\n"
     ]
    }
   ],
   "source": [
    "from spotipy import SpotifyOAuth\n",
    "scope='user-read-recently-played'\n",
    "\n",
    "creds = SpotifyOAuth(scope=scope, client_id='2d33cb98e7304ac2958a0d6e5a765a56', client_secret='da989bfc36ff49139522ef5a58867cb5', redirect_uri='http://127.0.0.1:9090')\n",
    "sp = Spoti2(auth_manager=creds)"
   ]
  },
  {
   "cell_type": "code",
   "execution_count": 3,
   "id": "983093fc-a05a-472c-8232-b74a2a6dfc75",
   "metadata": {
    "tags": []
   },
   "outputs": [],
   "source": [
    "raw_data = sp.current_user_recently_played(limit=50)"
   ]
  },
  {
   "cell_type": "code",
   "execution_count": 4,
   "id": "d29db502-bf26-43b3-a4dd-8927dfaf56e4",
   "metadata": {
    "tags": []
   },
   "outputs": [
    {
     "data": {
      "text/plain": [
       "dict_keys(['items', 'next', 'cursors', 'limit', 'href'])"
      ]
     },
     "execution_count": 4,
     "metadata": {},
     "output_type": "execute_result"
    }
   ],
   "source": [
    "raw_data.keys()"
   ]
  },
  {
   "cell_type": "code",
   "execution_count": 35,
   "id": "4d0dce59-67a5-412b-82f0-9b8737847147",
   "metadata": {
    "tags": []
   },
   "outputs": [
    {
     "data": {
      "text/plain": [
       "dict_keys(['track', 'played_at', 'context'])"
      ]
     },
     "execution_count": 35,
     "metadata": {},
     "output_type": "execute_result"
    }
   ],
   "source": [
    "raw_data['items'][0].keys() #get played at here"
   ]
  },
  {
   "cell_type": "code",
   "execution_count": 36,
   "id": "e2b4d775-5eb4-4cba-9d1c-13cc10f0d042",
   "metadata": {
    "tags": []
   },
   "outputs": [
    {
     "data": {
      "text/plain": [
       "'2023-05-11T15:08:39.003Z'"
      ]
     },
     "execution_count": 36,
     "metadata": {},
     "output_type": "execute_result"
    }
   ],
   "source": [
    "raw_data['items'][0]['played_at'] #played_at's raw format"
   ]
  },
  {
   "cell_type": "code",
   "execution_count": 37,
   "id": "2e42b08e-8497-4e8f-ac79-227a61fc2c5f",
   "metadata": {
    "tags": []
   },
   "outputs": [
    {
     "data": {
      "text/plain": [
       "dict_keys(['album', 'artists', 'available_markets', 'disc_number', 'duration_ms', 'explicit', 'external_ids', 'external_urls', 'href', 'id', 'is_local', 'name', 'popularity', 'preview_url', 'track_number', 'type', 'uri'])"
      ]
     },
     "execution_count": 37,
     "metadata": {},
     "output_type": "execute_result"
    }
   ],
   "source": [
    "raw_data['items'][0]['track'].keys() #get album, artist, duration, name"
   ]
  },
  {
   "cell_type": "code",
   "execution_count": 6,
   "id": "739cd3a8-529a-468b-b3cb-6e971c0d2b42",
   "metadata": {
    "tags": []
   },
   "outputs": [
    {
     "data": {
      "text/plain": [
       "'Butterfly'"
      ]
     },
     "execution_count": 6,
     "metadata": {},
     "output_type": "execute_result"
    }
   ],
   "source": [
    "raw_data['items'][0]['track']['name']"
   ]
  },
  {
   "cell_type": "code",
   "execution_count": 36,
   "id": "41d4fa59-40f1-406e-b7a8-f0261bb492ea",
   "metadata": {},
   "outputs": [],
   "source": [
    "import pandas as pd\n",
    "myList = []\n",
    "\n",
    "for song in raw_data['items']:\n",
    "    myList.append(\n",
    "        {\n",
    "            'name' : song['track']['name'],\n",
    "            'artist' : song['track']['artists'][0]['name'], #only care for main artist\n",
    "            'album' : song['track']['album']['name'],\n",
    "            'duration' : song['track']['duration_ms'],\n",
    "            'played_at' : song['played_at']\n",
    "        }\n",
    "    )\n",
    "df = pd.DataFrame(myList)"
   ]
  },
  {
   "cell_type": "code",
   "execution_count": 37,
   "id": "1ae623f5-35de-4650-b321-63a398ada174",
   "metadata": {
    "tags": []
   },
   "outputs": [
    {
     "data": {
      "text/plain": [
       "datetime.datetime(2023, 5, 11, 15, 14, 30, 696000)"
      ]
     },
     "execution_count": 37,
     "metadata": {},
     "output_type": "execute_result"
    }
   ],
   "source": [
    "import datetime\n",
    "datetime.datetime.strptime(raw_data['items'][0]['played_at'], '%Y-%m-%dT%H:%M:%S.%fZ')"
   ]
  },
  {
   "cell_type": "code",
   "execution_count": 38,
   "id": "3f1ba6ff-491f-4129-a3ff-d445b99adeb2",
   "metadata": {
    "tags": []
   },
   "outputs": [],
   "source": [
    "df['played_at'] = pd.to_datetime(df['played_at']).apply(lambda x: x.strftime('%Y/%m/%d %H:%M:%S'))"
   ]
  },
  {
   "cell_type": "code",
   "execution_count": 39,
   "id": "e19512a9-99d4-4a3d-8874-f5152b5b0422",
   "metadata": {
    "tags": []
   },
   "outputs": [
    {
     "data": {
      "text/html": [
       "<div>\n",
       "<style scoped>\n",
       "    .dataframe tbody tr th:only-of-type {\n",
       "        vertical-align: middle;\n",
       "    }\n",
       "\n",
       "    .dataframe tbody tr th {\n",
       "        vertical-align: top;\n",
       "    }\n",
       "\n",
       "    .dataframe thead th {\n",
       "        text-align: right;\n",
       "    }\n",
       "</style>\n",
       "<table border=\"1\" class=\"dataframe\">\n",
       "  <thead>\n",
       "    <tr style=\"text-align: right;\">\n",
       "      <th></th>\n",
       "      <th>name</th>\n",
       "      <th>artist</th>\n",
       "      <th>album</th>\n",
       "      <th>duration</th>\n",
       "      <th>played_at</th>\n",
       "    </tr>\n",
       "  </thead>\n",
       "  <tbody>\n",
       "    <tr>\n",
       "      <th>0</th>\n",
       "      <td>Butterfly</td>\n",
       "      <td>MIYAVI</td>\n",
       "      <td>NO SLEEP TILL TOKYO</td>\n",
       "      <td>199733</td>\n",
       "      <td>2023/05/11 15:14:30</td>\n",
       "    </tr>\n",
       "    <tr>\n",
       "      <th>1</th>\n",
       "      <td>絶体絶命</td>\n",
       "      <td>Cö Shu Nie</td>\n",
       "      <td>PURE</td>\n",
       "      <td>148746</td>\n",
       "      <td>2023/05/11 15:11:07</td>\n",
       "    </tr>\n",
       "  </tbody>\n",
       "</table>\n",
       "</div>"
      ],
      "text/plain": [
       "        name      artist                album  duration            played_at\n",
       "0  Butterfly      MIYAVI  NO SLEEP TILL TOKYO    199733  2023/05/11 15:14:30\n",
       "1       絶体絶命  Cö Shu Nie                 PURE    148746  2023/05/11 15:11:07"
      ]
     },
     "execution_count": 39,
     "metadata": {},
     "output_type": "execute_result"
    }
   ],
   "source": [
    "df.head()"
   ]
  },
  {
   "cell_type": "code",
   "execution_count": null,
   "id": "6161902d-1435-4326-8bcd-2937532d4f76",
   "metadata": {},
   "outputs": [],
   "source": [
    "df.to_sql('top_50_arg_songs',con=engine, index=False, if_exists='append')"
   ]
  }
 ],
 "metadata": {
  "kernelspec": {
   "display_name": "Python 3 (ipykernel)",
   "language": "python",
   "name": "python3"
  },
  "language_info": {
   "codemirror_mode": {
    "name": "ipython",
    "version": 3
   },
   "file_extension": ".py",
   "mimetype": "text/x-python",
   "name": "python",
   "nbconvert_exporter": "python",
   "pygments_lexer": "ipython3",
   "version": "3.10.10"
  }
 },
 "nbformat": 4,
 "nbformat_minor": 5
}
