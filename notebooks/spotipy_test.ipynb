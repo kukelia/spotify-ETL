{
 "cells": [
  {
   "cell_type": "code",
   "execution_count": 1,
   "id": "983093fc-a05a-472c-8232-b74a2a6dfc75",
   "metadata": {
    "tags": []
   },
   "outputs": [
    {
     "name": "stdout",
     "output_type": "stream",
     "text": [
      "actualizado\n",
      "se creo instancia\n"
     ]
    }
   ],
   "source": [
    "from custom_spotipy import sp\n",
    "import datetime\n",
    "\n",
    "today = datetime.datetime.today().date()\n",
    "today_start = datetime.datetime.combine(today, datetime.time.min)\n",
    "yesterday_start = today_start - datetime.timedelta(days=1)\n",
    "unix_yesterday_start = int( yesterday_start.timestamp() *1000 )\n",
    "\n",
    "raw_data = sp.current_user_recently_played(limit=5,after=unix_yesterday_start)"
   ]
  },
  {
   "cell_type": "code",
   "execution_count": 4,
   "id": "d29db502-bf26-43b3-a4dd-8927dfaf56e4",
   "metadata": {
    "tags": []
   },
   "outputs": [
    {
     "data": {
      "text/plain": [
       "dict_keys(['items', 'next', 'cursors', 'limit', 'href'])"
      ]
     },
     "execution_count": 4,
     "metadata": {},
     "output_type": "execute_result"
    }
   ],
   "source": [
    "raw_data.keys()"
   ]
  },
  {
   "cell_type": "code",
   "execution_count": null,
   "id": "4d0dce59-67a5-412b-82f0-9b8737847147",
   "metadata": {
    "tags": []
   },
   "outputs": [],
   "source": [
    "raw_data['items'][0].keys() #get played at here"
   ]
  },
  {
   "cell_type": "code",
   "execution_count": null,
   "id": "e2b4d775-5eb4-4cba-9d1c-13cc10f0d042",
   "metadata": {
    "tags": []
   },
   "outputs": [],
   "source": [
    "raw_data['items'][0]['played_at'] #played_at's raw format"
   ]
  },
  {
   "cell_type": "code",
   "execution_count": null,
   "id": "2e42b08e-8497-4e8f-ac79-227a61fc2c5f",
   "metadata": {
    "tags": []
   },
   "outputs": [],
   "source": [
    "raw_data['items'][0]['track'].keys() #get album, artist, duration, name"
   ]
  },
  {
   "cell_type": "code",
   "execution_count": 2,
   "id": "ab700816",
   "metadata": {},
   "outputs": [],
   "source": [
    "from personal_songs_etl import transform\n",
    "df = transform(raw_data)"
   ]
  },
  {
   "cell_type": "code",
   "execution_count": 26,
   "id": "e19512a9-99d4-4a3d-8874-f5152b5b0422",
   "metadata": {
    "tags": []
   },
   "outputs": [
    {
     "data": {
      "text/html": [
       "<div>\n",
       "<style scoped>\n",
       "    .dataframe tbody tr th:only-of-type {\n",
       "        vertical-align: middle;\n",
       "    }\n",
       "\n",
       "    .dataframe tbody tr th {\n",
       "        vertical-align: top;\n",
       "    }\n",
       "\n",
       "    .dataframe thead th {\n",
       "        text-align: right;\n",
       "    }\n",
       "</style>\n",
       "<table border=\"1\" class=\"dataframe\">\n",
       "  <thead>\n",
       "    <tr style=\"text-align: right;\">\n",
       "      <th></th>\n",
       "      <th>name</th>\n",
       "      <th>artist</th>\n",
       "      <th>album</th>\n",
       "      <th>duration_sec</th>\n",
       "      <th>played_at</th>\n",
       "    </tr>\n",
       "  </thead>\n",
       "  <tbody>\n",
       "    <tr>\n",
       "      <th>0</th>\n",
       "      <td>Blank Space</td>\n",
       "      <td>Taylor Swift</td>\n",
       "      <td>1989 (Deluxe)</td>\n",
       "      <td>231.826</td>\n",
       "      <td>2023-05-11 15:08:39</td>\n",
       "    </tr>\n",
       "    <tr>\n",
       "      <th>1</th>\n",
       "      <td>We Can Work It Out - Remastered 2015</td>\n",
       "      <td>The Beatles</td>\n",
       "      <td>1 (Remastered)</td>\n",
       "      <td>135.693</td>\n",
       "      <td>2023-05-11 15:04:46</td>\n",
       "    </tr>\n",
       "    <tr>\n",
       "      <th>2</th>\n",
       "      <td>99.9</td>\n",
       "      <td>MOB CHOIR</td>\n",
       "      <td>99.9</td>\n",
       "      <td>188.706</td>\n",
       "      <td>2023-05-11 15:02:30</td>\n",
       "    </tr>\n",
       "    <tr>\n",
       "      <th>3</th>\n",
       "      <td>In the End</td>\n",
       "      <td>Linkin Park</td>\n",
       "      <td>Hybrid Theory (Bonus Edition)</td>\n",
       "      <td>216.880</td>\n",
       "      <td>2023-05-11 14:59:20</td>\n",
       "    </tr>\n",
       "    <tr>\n",
       "      <th>4</th>\n",
       "      <td>THE SHAPE OF</td>\n",
       "      <td>安月名莉子</td>\n",
       "      <td>安月名莉子 1st Album「BLUE MOON」</td>\n",
       "      <td>212.633</td>\n",
       "      <td>2023-05-11 14:55:43</td>\n",
       "    </tr>\n",
       "  </tbody>\n",
       "</table>\n",
       "</div>"
      ],
      "text/plain": [
       "                                   name        artist  \\\n",
       "0                           Blank Space  Taylor Swift   \n",
       "1  We Can Work It Out - Remastered 2015   The Beatles   \n",
       "2                                  99.9     MOB CHOIR   \n",
       "3                            In the End   Linkin Park   \n",
       "4                          THE SHAPE OF         安月名莉子   \n",
       "\n",
       "                           album  duration_sec           played_at  \n",
       "0                  1989 (Deluxe)       231.826 2023-05-11 15:08:39  \n",
       "1                 1 (Remastered)       135.693 2023-05-11 15:04:46  \n",
       "2                           99.9       188.706 2023-05-11 15:02:30  \n",
       "3  Hybrid Theory (Bonus Edition)       216.880 2023-05-11 14:59:20  \n",
       "4     安月名莉子 1st Album「BLUE MOON」       212.633 2023-05-11 14:55:43  "
      ]
     },
     "execution_count": 26,
     "metadata": {},
     "output_type": "execute_result"
    }
   ],
   "source": [
    "df.head()"
   ]
  },
  {
   "cell_type": "code",
   "execution_count": 25,
   "id": "4ce49b64",
   "metadata": {},
   "outputs": [],
   "source": [
    "df = df.rename(columns={'duration':'duration_sec'})"
   ]
  },
  {
   "cell_type": "code",
   "execution_count": null,
   "id": "6161902d-1435-4326-8bcd-2937532d4f76",
   "metadata": {},
   "outputs": [],
   "source": [
    "from engine import engine\n",
    "df.to_sql('top_50_arg_songs',con=engine, index=False, if_exists='append')"
   ]
  },
  {
   "cell_type": "code",
   "execution_count": 7,
   "id": "5f9f31da",
   "metadata": {},
   "outputs": [
    {
     "name": "stdout",
     "output_type": "stream",
     "text": [
      "2023-05-14--11:10hs\n"
     ]
    }
   ],
   "source": [
    "from datetime import datetime\n",
    "print(datetime.today().strftime('%Y-%m-%d--%H:%Mhs'))"
   ]
  },
  {
   "cell_type": "code",
   "execution_count": 3,
   "id": "b0704b3e",
   "metadata": {},
   "outputs": [
    {
     "name": "stdout",
     "output_type": "stream",
     "text": [
      "<class 'pandas.core.frame.DataFrame'>\n",
      "RangeIndex: 35 entries, 0 to 34\n",
      "Data columns (total 5 columns):\n",
      " #   Column     Non-Null Count  Dtype         \n",
      "---  ------     --------------  -----         \n",
      " 0   name       35 non-null     object        \n",
      " 1   artist     35 non-null     object        \n",
      " 2   album      35 non-null     object        \n",
      " 3   duration   35 non-null     int64         \n",
      " 4   played_at  35 non-null     datetime64[ns]\n",
      "dtypes: datetime64[ns](1), int64(1), object(3)\n",
      "memory usage: 1.5+ KB\n"
     ]
    }
   ],
   "source": [
    "df.info()"
   ]
  },
  {
   "cell_type": "code",
   "execution_count": 7,
   "id": "b62109ee",
   "metadata": {},
   "outputs": [
    {
     "data": {
      "text/plain": [
       "0     2023-05-09\n",
       "1     2023-05-09\n",
       "2     2023-05-09\n",
       "3     2023-05-09\n",
       "4     2023-05-09\n",
       "5     2023-05-09\n",
       "6     2023-05-09\n",
       "7     2023-05-09\n",
       "8     2023-05-09\n",
       "9     2023-05-09\n",
       "10    2023-05-09\n",
       "11    2023-05-09\n",
       "12    2023-05-08\n",
       "13    2023-05-08\n",
       "14    2023-05-08\n",
       "15    2023-05-08\n",
       "16    2023-05-08\n",
       "17    2023-05-08\n",
       "18    2023-05-08\n",
       "19    2023-05-08\n",
       "20    2023-05-07\n",
       "21    2023-05-07\n",
       "22    2023-05-07\n",
       "23    2023-05-07\n",
       "24    2023-05-07\n",
       "25    2023-05-07\n",
       "26    2023-05-07\n",
       "27    2023-05-07\n",
       "28    2023-05-07\n",
       "29    2023-05-07\n",
       "30    2023-05-07\n",
       "31    2023-05-07\n",
       "32    2023-05-06\n",
       "33    2023-05-06\n",
       "34    2023-05-06\n",
       "Name: played_at, dtype: object"
      ]
     },
     "execution_count": 7,
     "metadata": {},
     "output_type": "execute_result"
    }
   ],
   "source": [
    "df['played_at'].apply(lambda x:x.date())"
   ]
  },
  {
   "cell_type": "code",
   "execution_count": 23,
   "id": "edf4bd16",
   "metadata": {},
   "outputs": [
    {
     "name": "stdout",
     "output_type": "stream",
     "text": [
      "algo bueno\n"
     ]
    }
   ],
   "source": [
    "for record in df['played_at']:\n",
    "    if record.date() != (datetime.datetime.today().date() - datetime.timedelta(days=1)):\n",
    "        print(\"algo malo\")\n",
    "print(\"algo bueno\")"
   ]
  }
 ],
 "metadata": {
  "kernelspec": {
   "display_name": "Python 3 (ipykernel)",
   "language": "python",
   "name": "python3"
  },
  "language_info": {
   "codemirror_mode": {
    "name": "ipython",
    "version": 3
   },
   "file_extension": ".py",
   "mimetype": "text/x-python",
   "name": "python",
   "nbconvert_exporter": "python",
   "pygments_lexer": "ipython3",
   "version": "3.10.0"
  }
 },
 "nbformat": 4,
 "nbformat_minor": 5
}
