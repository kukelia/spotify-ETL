{
 "cells": [
  {
   "cell_type": "code",
   "execution_count": 6,
   "id": "983093fc-a05a-472c-8232-b74a2a6dfc75",
   "metadata": {
    "tags": []
   },
   "outputs": [
    {
     "name": "stdout",
     "output_type": "stream",
     "text": [
      "actualizado\n",
      "se creo instancia\n",
      "2023-05-22\n",
      "2023-05-22\n",
      "2023-05-22\n",
      "2023-05-22\n",
      "2023-05-22\n",
      "2023-05-22\n",
      "2023-05-22\n",
      "2023-05-22\n",
      "2023-05-22\n"
     ]
    }
   ],
   "source": [
    "import datetime\n",
    "import sys\n",
    "sys.path.append('../dags')\n",
    "from spotify_personal_played import extract, transform\n"
   ]
  },
  {
   "cell_type": "code",
   "execution_count": 15,
   "id": "3db437c0",
   "metadata": {},
   "outputs": [
    {
     "name": "stdout",
     "output_type": "stream",
     "text": [
      "2023-05-21 03:00:00\n"
     ]
    }
   ],
   "source": [
    "today = datetime.datetime.today().date()\n",
    "today_start = datetime.datetime.combine(today, datetime.time.min) + datetime.timedelta(hours=3)\n",
    "print(today_start)"
   ]
  },
  {
   "cell_type": "code",
   "execution_count": 10,
   "id": "d29db502-bf26-43b3-a4dd-8927dfaf56e4",
   "metadata": {
    "tags": []
   },
   "outputs": [
    {
     "data": {
      "text/plain": [
       "dict_keys(['items', 'next', 'cursors', 'limit', 'href'])"
      ]
     },
     "execution_count": 10,
     "metadata": {},
     "output_type": "execute_result"
    }
   ],
   "source": [
    "raw_data.keys()"
   ]
  },
  {
   "cell_type": "code",
   "execution_count": null,
   "id": "4d0dce59-67a5-412b-82f0-9b8737847147",
   "metadata": {
    "tags": []
   },
   "outputs": [],
   "source": [
    "raw_data['items'][0].keys() #get played at here"
   ]
  },
  {
   "cell_type": "code",
   "execution_count": null,
   "id": "e2b4d775-5eb4-4cba-9d1c-13cc10f0d042",
   "metadata": {
    "tags": []
   },
   "outputs": [],
   "source": [
    "raw_data['items'][0]['played_at'] #played_at's raw format"
   ]
  },
  {
   "cell_type": "code",
   "execution_count": 2,
   "id": "2e42b08e-8497-4e8f-ac79-227a61fc2c5f",
   "metadata": {
    "tags": []
   },
   "outputs": [
    {
     "data": {
      "text/plain": [
       "dict_keys(['album', 'artists', 'available_markets', 'disc_number', 'duration_ms', 'explicit', 'external_ids', 'external_urls', 'href', 'id', 'is_local', 'name', 'popularity', 'preview_url', 'track_number', 'type', 'uri'])"
      ]
     },
     "execution_count": 2,
     "metadata": {},
     "output_type": "execute_result"
    }
   ],
   "source": [
    "raw_data['items'][0]['track'].keys() #get album, artist, duration, name"
   ]
  },
  {
   "cell_type": "code",
   "execution_count": 2,
   "id": "9507773b",
   "metadata": {},
   "outputs": [
    {
     "data": {
      "text/html": [
       "<div>\n",
       "<style scoped>\n",
       "    .dataframe tbody tr th:only-of-type {\n",
       "        vertical-align: middle;\n",
       "    }\n",
       "\n",
       "    .dataframe tbody tr th {\n",
       "        vertical-align: top;\n",
       "    }\n",
       "\n",
       "    .dataframe thead th {\n",
       "        text-align: right;\n",
       "    }\n",
       "</style>\n",
       "<table border=\"1\" class=\"dataframe\">\n",
       "  <thead>\n",
       "    <tr style=\"text-align: right;\">\n",
       "      <th></th>\n",
       "      <th>song_name</th>\n",
       "      <th>artist</th>\n",
       "      <th>album</th>\n",
       "      <th>duration_ms</th>\n",
       "      <th>played_at</th>\n",
       "    </tr>\n",
       "  </thead>\n",
       "  <tbody>\n",
       "    <tr>\n",
       "      <th>0</th>\n",
       "      <td>Anti-Hero</td>\n",
       "      <td>Taylor Swift</td>\n",
       "      <td>Midnights</td>\n",
       "      <td>200690</td>\n",
       "      <td>2023-05-21T01:17:55.447Z</td>\n",
       "    </tr>\n",
       "  </tbody>\n",
       "</table>\n",
       "</div>"
      ],
      "text/plain": [
       "   song_name        artist      album  duration_ms                 played_at\n",
       "0  Anti-Hero  Taylor Swift  Midnights       200690  2023-05-21T01:17:55.447Z"
      ]
     },
     "execution_count": 2,
     "metadata": {},
     "output_type": "execute_result"
    }
   ],
   "source": [
    "import pandas as pd\n",
    "myList = []\n",
    "for song in raw_data['items']:\n",
    "    myList.append(\n",
    "        {\n",
    "            'song_name' : song['track']['name'],\n",
    "            'artist' : song['track']['artists'][0]['name'], #only care for main artist\n",
    "            'album' : song['track']['album']['name'],\n",
    "            'duration_ms' : song['track']['duration_ms'],\n",
    "            'played_at' : song['played_at']\n",
    "        }\n",
    "    )\n",
    "df = pd.DataFrame(myList)\n",
    "df.head(4)"
   ]
  },
  {
   "cell_type": "code",
   "execution_count": 5,
   "id": "1a3a5e42",
   "metadata": {},
   "outputs": [],
   "source": [
    "df['played_at'] = pd.to_datetime(pd.to_datetime(df['played_at']).apply(lambda x: x -datetime.timedelta(hours=3)).dt.strftime('%Y/%m/%d %H:%M:%S'))\n",
    "for record in df['played_at']:\n",
    "        if record.date() != (datetime.datetime.today().date() - datetime.timedelta(days=1)):\n",
    "                print(record)"
   ]
  },
  {
   "cell_type": "code",
   "execution_count": 8,
   "id": "e19512a9-99d4-4a3d-8874-f5152b5b0422",
   "metadata": {
    "tags": []
   },
   "outputs": [
    {
     "data": {
      "text/plain": [
       "0   2023-05-19 17:50:56\n",
       "1   2023-05-19 17:46:49\n",
       "2   2023-05-19 17:09:36\n",
       "3   2023-05-19 17:07:18\n",
       "4   2023-05-19 17:03:44\n",
       "Name: played_at, dtype: datetime64[ns]"
      ]
     },
     "execution_count": 8,
     "metadata": {},
     "output_type": "execute_result"
    }
   ],
   "source": [
    "df['played_at']"
   ]
  },
  {
   "cell_type": "code",
   "execution_count": 25,
   "id": "4ce49b64",
   "metadata": {},
   "outputs": [],
   "source": [
    "df = df.rename(columns={'duration':'duration_sec'})"
   ]
  },
  {
   "cell_type": "code",
   "execution_count": null,
   "id": "6161902d-1435-4326-8bcd-2937532d4f76",
   "metadata": {},
   "outputs": [],
   "source": [
    "from engine import engine\n",
    "df.to_sql('top_50_arg_songs',con=engine, index=False, if_exists='append')"
   ]
  },
  {
   "cell_type": "code",
   "execution_count": 7,
   "id": "5f9f31da",
   "metadata": {},
   "outputs": [
    {
     "name": "stdout",
     "output_type": "stream",
     "text": [
      "2023-05-14--11:10hs\n"
     ]
    }
   ],
   "source": [
    "from datetime import datetime\n",
    "print(datetime.today().strftime('%Y-%m-%d--%H:%Mhs'))"
   ]
  },
  {
   "cell_type": "code",
   "execution_count": 3,
   "id": "b0704b3e",
   "metadata": {},
   "outputs": [
    {
     "name": "stdout",
     "output_type": "stream",
     "text": [
      "<class 'pandas.core.frame.DataFrame'>\n",
      "RangeIndex: 35 entries, 0 to 34\n",
      "Data columns (total 5 columns):\n",
      " #   Column     Non-Null Count  Dtype         \n",
      "---  ------     --------------  -----         \n",
      " 0   name       35 non-null     object        \n",
      " 1   artist     35 non-null     object        \n",
      " 2   album      35 non-null     object        \n",
      " 3   duration   35 non-null     int64         \n",
      " 4   played_at  35 non-null     datetime64[ns]\n",
      "dtypes: datetime64[ns](1), int64(1), object(3)\n",
      "memory usage: 1.5+ KB\n"
     ]
    }
   ],
   "source": [
    "df.info()"
   ]
  },
  {
   "cell_type": "code",
   "execution_count": 7,
   "id": "b62109ee",
   "metadata": {},
   "outputs": [
    {
     "data": {
      "text/plain": [
       "0     2023-05-09\n",
       "1     2023-05-09\n",
       "2     2023-05-09\n",
       "3     2023-05-09\n",
       "4     2023-05-09\n",
       "5     2023-05-09\n",
       "6     2023-05-09\n",
       "7     2023-05-09\n",
       "8     2023-05-09\n",
       "9     2023-05-09\n",
       "10    2023-05-09\n",
       "11    2023-05-09\n",
       "12    2023-05-08\n",
       "13    2023-05-08\n",
       "14    2023-05-08\n",
       "15    2023-05-08\n",
       "16    2023-05-08\n",
       "17    2023-05-08\n",
       "18    2023-05-08\n",
       "19    2023-05-08\n",
       "20    2023-05-07\n",
       "21    2023-05-07\n",
       "22    2023-05-07\n",
       "23    2023-05-07\n",
       "24    2023-05-07\n",
       "25    2023-05-07\n",
       "26    2023-05-07\n",
       "27    2023-05-07\n",
       "28    2023-05-07\n",
       "29    2023-05-07\n",
       "30    2023-05-07\n",
       "31    2023-05-07\n",
       "32    2023-05-06\n",
       "33    2023-05-06\n",
       "34    2023-05-06\n",
       "Name: played_at, dtype: object"
      ]
     },
     "execution_count": 7,
     "metadata": {},
     "output_type": "execute_result"
    }
   ],
   "source": [
    "df['played_at'].apply(lambda x:x.date())"
   ]
  },
  {
   "cell_type": "code",
   "execution_count": 23,
   "id": "edf4bd16",
   "metadata": {},
   "outputs": [
    {
     "name": "stdout",
     "output_type": "stream",
     "text": [
      "algo bueno\n"
     ]
    }
   ],
   "source": [
    "for record in df['played_at']:\n",
    "    if record.date() != (datetime.datetime.today().date() - datetime.timedelta(days=1)):\n",
    "        print(\"algo malo\")\n",
    "print(\"algo bueno\")"
   ]
  }
 ],
 "metadata": {
  "kernelspec": {
   "display_name": "Python 3 (ipykernel)",
   "language": "python",
   "name": "python3"
  },
  "language_info": {
   "codemirror_mode": {
    "name": "ipython",
    "version": 3
   },
   "file_extension": ".py",
   "mimetype": "text/x-python",
   "name": "python",
   "nbconvert_exporter": "python",
   "pygments_lexer": "ipython3",
   "version": "3.10.0"
  }
 },
 "nbformat": 4,
 "nbformat_minor": 5
}
