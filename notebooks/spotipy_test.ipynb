{
 "cells": [
  {
   "cell_type": "code",
   "execution_count": 16,
   "id": "983093fc-a05a-472c-8232-b74a2a6dfc75",
   "metadata": {
    "tags": []
   },
   "outputs": [],
   "source": [
    "from custom_spotipy import sp\n",
    "import datetime\n",
    "\n",
    "today = datetime.datetime.today().date()\n",
    "today_start = datetime.datetime.combine(today, datetime.time.min)\n",
    "yesterday_start = today_start - datetime.timedelta(days=1)\n",
    "unix_yesterday_start = int( yesterday_start.timestamp() *1000 )\n",
    "\n",
    "raw_data = sp.current_user_recently_played(limit=5,after=unix_yesterday_start)"
   ]
  },
  {
   "cell_type": "code",
   "execution_count": 4,
   "id": "d29db502-bf26-43b3-a4dd-8927dfaf56e4",
   "metadata": {
    "tags": []
   },
   "outputs": [
    {
     "data": {
      "text/plain": [
       "dict_keys(['items', 'next', 'cursors', 'limit', 'href'])"
      ]
     },
     "execution_count": 4,
     "metadata": {},
     "output_type": "execute_result"
    }
   ],
   "source": [
    "raw_data.keys()"
   ]
  },
  {
   "cell_type": "code",
   "execution_count": null,
   "id": "4d0dce59-67a5-412b-82f0-9b8737847147",
   "metadata": {
    "tags": []
   },
   "outputs": [],
   "source": [
    "raw_data['items'][0].keys() #get played at here"
   ]
  },
  {
   "cell_type": "code",
   "execution_count": null,
   "id": "e2b4d775-5eb4-4cba-9d1c-13cc10f0d042",
   "metadata": {
    "tags": []
   },
   "outputs": [],
   "source": [
    "raw_data['items'][0]['played_at'] #played_at's raw format"
   ]
  },
  {
   "cell_type": "code",
   "execution_count": null,
   "id": "2e42b08e-8497-4e8f-ac79-227a61fc2c5f",
   "metadata": {
    "tags": []
   },
   "outputs": [],
   "source": [
    "raw_data['items'][0]['track'].keys() #get album, artist, duration, name"
   ]
  },
  {
   "cell_type": "code",
   "execution_count": 17,
   "id": "ab700816",
   "metadata": {},
   "outputs": [
    {
     "name": "stdout",
     "output_type": "stream",
     "text": [
      "Index(['name', 'artist', 'album', 'duration', 'played_at'], dtype='object')\n"
     ]
    }
   ],
   "source": [
    "from personal_songs_etl import transform\n",
    "df = transform(raw_data)"
   ]
  },
  {
   "cell_type": "code",
   "execution_count": 18,
   "id": "e19512a9-99d4-4a3d-8874-f5152b5b0422",
   "metadata": {
    "tags": []
   },
   "outputs": [
    {
     "data": {
      "text/html": [
       "<div>\n",
       "<style scoped>\n",
       "    .dataframe tbody tr th:only-of-type {\n",
       "        vertical-align: middle;\n",
       "    }\n",
       "\n",
       "    .dataframe tbody tr th {\n",
       "        vertical-align: top;\n",
       "    }\n",
       "\n",
       "    .dataframe thead th {\n",
       "        text-align: right;\n",
       "    }\n",
       "</style>\n",
       "<table border=\"1\" class=\"dataframe\">\n",
       "  <thead>\n",
       "    <tr style=\"text-align: right;\">\n",
       "      <th></th>\n",
       "      <th>name</th>\n",
       "      <th>artist</th>\n",
       "      <th>album</th>\n",
       "      <th>duration</th>\n",
       "      <th>played_at</th>\n",
       "    </tr>\n",
       "  </thead>\n",
       "  <tbody>\n",
       "    <tr>\n",
       "      <th>0</th>\n",
       "      <td>コネクト</td>\n",
       "      <td>ClariS</td>\n",
       "      <td>BIRTHDAY</td>\n",
       "      <td>270040</td>\n",
       "      <td>2023-05-10 23:09:43</td>\n",
       "    </tr>\n",
       "    <tr>\n",
       "      <th>1</th>\n",
       "      <td>The Judge</td>\n",
       "      <td>Twenty One Pilots</td>\n",
       "      <td>Blurryface</td>\n",
       "      <td>297760</td>\n",
       "      <td>2023-05-10 17:13:06</td>\n",
       "    </tr>\n",
       "    <tr>\n",
       "      <th>2</th>\n",
       "      <td>カラノココロ</td>\n",
       "      <td>Anly</td>\n",
       "      <td>anly one</td>\n",
       "      <td>264226</td>\n",
       "      <td>2023-05-10 17:09:42</td>\n",
       "    </tr>\n",
       "    <tr>\n",
       "      <th>3</th>\n",
       "      <td>ENDLESS EMBRACE</td>\n",
       "      <td>MYTH &amp; ROID</td>\n",
       "      <td>ENDING THEME FROM TV SERIES ”MADE IN ABYSS: TH...</td>\n",
       "      <td>297145</td>\n",
       "      <td>2023-05-10 17:05:16</td>\n",
       "    </tr>\n",
       "    <tr>\n",
       "      <th>4</th>\n",
       "      <td>Comedy</td>\n",
       "      <td>Gen Hoshino</td>\n",
       "      <td>Comedy</td>\n",
       "      <td>230666</td>\n",
       "      <td>2023-05-10 16:59:47</td>\n",
       "    </tr>\n",
       "  </tbody>\n",
       "</table>\n",
       "</div>"
      ],
      "text/plain": [
       "              name             artist  \\\n",
       "0             コネクト             ClariS   \n",
       "1        The Judge  Twenty One Pilots   \n",
       "2           カラノココロ               Anly   \n",
       "3  ENDLESS EMBRACE        MYTH & ROID   \n",
       "4           Comedy        Gen Hoshino   \n",
       "\n",
       "                                               album  duration  \\\n",
       "0                                           BIRTHDAY    270040   \n",
       "1                                         Blurryface    297760   \n",
       "2                                           anly one    264226   \n",
       "3  ENDING THEME FROM TV SERIES ”MADE IN ABYSS: TH...    297145   \n",
       "4                                             Comedy    230666   \n",
       "\n",
       "            played_at  \n",
       "0 2023-05-10 23:09:43  \n",
       "1 2023-05-10 17:13:06  \n",
       "2 2023-05-10 17:09:42  \n",
       "3 2023-05-10 17:05:16  \n",
       "4 2023-05-10 16:59:47  "
      ]
     },
     "execution_count": 18,
     "metadata": {},
     "output_type": "execute_result"
    }
   ],
   "source": [
    "df.head()"
   ]
  },
  {
   "cell_type": "code",
   "execution_count": null,
   "id": "6161902d-1435-4326-8bcd-2937532d4f76",
   "metadata": {},
   "outputs": [],
   "source": [
    "from engine import engine\n",
    "df.to_sql('top_50_arg_songs',con=engine, index=False, if_exists='append')"
   ]
  },
  {
   "cell_type": "code",
   "execution_count": 3,
   "id": "b0704b3e",
   "metadata": {},
   "outputs": [
    {
     "name": "stdout",
     "output_type": "stream",
     "text": [
      "<class 'pandas.core.frame.DataFrame'>\n",
      "RangeIndex: 35 entries, 0 to 34\n",
      "Data columns (total 5 columns):\n",
      " #   Column     Non-Null Count  Dtype         \n",
      "---  ------     --------------  -----         \n",
      " 0   name       35 non-null     object        \n",
      " 1   artist     35 non-null     object        \n",
      " 2   album      35 non-null     object        \n",
      " 3   duration   35 non-null     int64         \n",
      " 4   played_at  35 non-null     datetime64[ns]\n",
      "dtypes: datetime64[ns](1), int64(1), object(3)\n",
      "memory usage: 1.5+ KB\n"
     ]
    }
   ],
   "source": [
    "df.info()"
   ]
  },
  {
   "cell_type": "code",
   "execution_count": 7,
   "id": "b62109ee",
   "metadata": {},
   "outputs": [
    {
     "data": {
      "text/plain": [
       "0     2023-05-09\n",
       "1     2023-05-09\n",
       "2     2023-05-09\n",
       "3     2023-05-09\n",
       "4     2023-05-09\n",
       "5     2023-05-09\n",
       "6     2023-05-09\n",
       "7     2023-05-09\n",
       "8     2023-05-09\n",
       "9     2023-05-09\n",
       "10    2023-05-09\n",
       "11    2023-05-09\n",
       "12    2023-05-08\n",
       "13    2023-05-08\n",
       "14    2023-05-08\n",
       "15    2023-05-08\n",
       "16    2023-05-08\n",
       "17    2023-05-08\n",
       "18    2023-05-08\n",
       "19    2023-05-08\n",
       "20    2023-05-07\n",
       "21    2023-05-07\n",
       "22    2023-05-07\n",
       "23    2023-05-07\n",
       "24    2023-05-07\n",
       "25    2023-05-07\n",
       "26    2023-05-07\n",
       "27    2023-05-07\n",
       "28    2023-05-07\n",
       "29    2023-05-07\n",
       "30    2023-05-07\n",
       "31    2023-05-07\n",
       "32    2023-05-06\n",
       "33    2023-05-06\n",
       "34    2023-05-06\n",
       "Name: played_at, dtype: object"
      ]
     },
     "execution_count": 7,
     "metadata": {},
     "output_type": "execute_result"
    }
   ],
   "source": [
    "df['played_at'].apply(lambda x:x.date())"
   ]
  },
  {
   "cell_type": "code",
   "execution_count": 23,
   "id": "edf4bd16",
   "metadata": {},
   "outputs": [
    {
     "name": "stdout",
     "output_type": "stream",
     "text": [
      "algo bueno\n"
     ]
    }
   ],
   "source": [
    "for record in df['played_at']:\n",
    "    if record.date() != (datetime.datetime.today().date() - datetime.timedelta(days=1)):\n",
    "        print(\"algo malo\")\n",
    "print(\"algo bueno\")"
   ]
  }
 ],
 "metadata": {
  "kernelspec": {
   "display_name": "Python 3 (ipykernel)",
   "language": "python",
   "name": "python3"
  },
  "language_info": {
   "codemirror_mode": {
    "name": "ipython",
    "version": 3
   },
   "file_extension": ".py",
   "mimetype": "text/x-python",
   "name": "python",
   "nbconvert_exporter": "python",
   "pygments_lexer": "ipython3",
   "version": "3.10.0"
  }
 },
 "nbformat": 4,
 "nbformat_minor": 5
}
